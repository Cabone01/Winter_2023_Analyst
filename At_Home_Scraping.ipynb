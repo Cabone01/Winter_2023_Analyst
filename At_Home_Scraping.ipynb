{
 "cells": [
  {
   "cell_type": "code",
   "execution_count": 117,
   "id": "a27799af",
   "metadata": {},
   "outputs": [],
   "source": [
    "import time\n",
    "import numpy as np\n",
    "import pandas as pd\n",
    "from splinter import Browser\n",
    "from bs4 import BeautifulSoup\n",
    "from selenium import webdriver\n",
    "from selenium.webdriver.common.by import By\n",
    "from selenium.webdriver.chrome.service import Service\n",
    "from webdriver_manager.chrome import ChromeDriverManager\n",
    "from selenium.webdriver.support.wait import WebDriverWait\n",
    "from selenium.webdriver.common.action_chains import ActionChains\n",
    "from selenium.webdriver.support import expected_conditions as EC\n",
    "\n",
    "opt = webdriver.ChromeOptions()\n",
    "opt.add_argument(\"--incognito\")\n",
    "opt.add_argument(\"disable-infobars\")\n",
    "opt.add_argument(\"--disable-extensions\")\n",
    "opt.add_argument(\"--disable-gpu\")\n",
    "opt.add_argument(\"--disable-dev-shm-usage\")\n",
    "opt.add_argument(\"--no-sandbox\")\n",
    "#opt.add_argument(\"--start-maximized\")\n",
    "#opt.add_argument(\"--headless=new\")\n",
    "driver = webdriver.Chrome(options=opt)\n",
    "#url = \"https://www.walmart.com/search?q=thanksgiving+decorations&typeahead=thank&affinityOverride=default\"\n",
    "#url = \"https://www.target.com/s?searchTerm=christmas+decorations&category=0%7CAll%7Cmatchallpartial%7Call+categories&tref=typeahead%7Cterm%7C0%7Cchristmas+decorations%7Cchristmas+decorations%7C%7C%7Cservice%7C%7C%7C%7C%7Cfacets_sb&searchTermRaw=christmas+de\"\n",
    "#url = \"https://www.amazon.com/s?k=thanksgiving+decorations&crid=2EPG40FJ9V4A1&sprefix=thanksgiving+%2Caps%2C88&ref=nb_sb_ss_ts-doa-p_7_13\"\n",
    "#url = \"https://www.hobbylobby.com/search?HLNextGenEcommIndex_prd%5Bconfigure%5D%5BhitsPerPage%5D=12&HLNextGenEcommIndex_prd%5Bconfigure%5D%5Bfacets%5D%5B0%5D=%2A&HLNextGenEcommIndex_prd%5Bconfigure%5D%5Bdistinct%5D=true&HLNextGenEcommIndex_prd%5Bconfigure%5D%5BfacetingAfterDistinct%5D=true&HLNextGenEcommIndex_prd%5Bconfigure%5D%5BtypoTolerance%5D=true&HLNextGenEcommIndex_prd%5Bconfigure%5D%5Bquery%5D=christmas%20decor&HLNextGenEcommIndex_prd%5Bconfigure%5D%5BclickAnalytics%5D=true&HLNextGenEcommIndex_prd%5Bconfigure%5D%5Bfilters%5D=&HLNextGenEcommIndex_prd%5Bconfigure%5D%5BuserToken%5D=3d028c053c584bdd881dbb50a054194f1702420784024&HLNextGenEcommIndex_prd%5Bpage%5D=1\"\n",
    "url = \"https://www.athome.com/search/?q=Christmas+decor&lang=default&start=0&sz=60\"\n",
    "driver.get(url)\n",
    "\n",
    "wait = WebDriverWait(driver, 20)"
   ]
  },
  {
   "cell_type": "code",
   "execution_count": 118,
   "id": "c43e8013",
   "metadata": {},
   "outputs": [],
   "source": [
    "wait.until(EC.visibility_of_element_located((By.XPATH, '//div[@class=\"search-result-content all-prods-loaded\"]')))\n",
    "y = 1000\n",
    "for j in range(0,9):\n",
    "    driver.execute_script(\"window.scrollTo(0, \"+str(y)+\")\")\n",
    "    y += 1000  \n",
    "    time.sleep(2)"
   ]
  },
  {
   "cell_type": "code",
   "execution_count": 119,
   "id": "e0e91127",
   "metadata": {},
   "outputs": [],
   "source": [
    "decorations_location = driver.find_element(By.CLASS_NAME, 'search-result-content')\n",
    "item_locations = decorations_location.find_elements(By.XPATH, 'div/div[2]/div')"
   ]
  },
  {
   "cell_type": "code",
   "execution_count": 120,
   "id": "dde5f8e8",
   "metadata": {},
   "outputs": [
    {
     "data": {
      "text/plain": [
       "61"
      ]
     },
     "execution_count": 120,
     "metadata": {},
     "output_type": "execute_result"
    }
   ],
   "source": [
    "len(item_locations)\n",
    "# last value is the next page button"
   ]
  },
  {
   "cell_type": "code",
   "execution_count": 121,
   "id": "96e19289",
   "metadata": {},
   "outputs": [
    {
     "data": {
      "text/plain": [
       "\"21\\nInflatable Colossal Waving Santa, 20'\\nIn Stock\\n$199.99\\nAdd to Cart\""
      ]
     },
     "execution_count": 121,
     "metadata": {},
     "output_type": "execute_result"
    }
   ],
   "source": [
    "#item_locations[3].find_element(By.CLASS_NAME, 'product-image').get_attribute('href')\n",
    "item_locations[1].text"
   ]
  },
  {
   "cell_type": "code",
   "execution_count": 122,
   "id": "b15e8675",
   "metadata": {},
   "outputs": [],
   "source": [
    "#button = item_locations[-1].find_element(By.CLASS_NAME, 'paging-next')\n",
    "#hover = ActionChains(driver).move_to_element(button)\n",
    "#hover.perform()\n",
    "#button.click()"
   ]
  },
  {
   "cell_type": "code",
   "execution_count": 123,
   "id": "227d659c",
   "metadata": {},
   "outputs": [],
   "source": [
    "amt_of_pages = int(item_locations[-1].find_element(By.CLASS_NAME, 'paging-pgcount').text.split()[-1])"
   ]
  },
  {
   "cell_type": "code",
   "execution_count": 113,
   "id": "879cc8ce",
   "metadata": {},
   "outputs": [],
   "source": [
    "#x_button = driver.find_element(By.XPATH, '//*[name()=\"svg\"][@class=\"icon icon-sm\"]')\n",
    "#x_button.click()"
   ]
  },
  {
   "cell_type": "code",
   "execution_count": 126,
   "id": "c80a10a9",
   "metadata": {},
   "outputs": [
    {
     "name": "stdout",
     "output_type": "stream",
     "text": [
      "0\n",
      "1\n",
      "2\n",
      "3\n",
      "4\n",
      "5\n",
      "6\n",
      "7\n",
      "8\n",
      "9\n",
      "10\n",
      "11\n",
      "12\n",
      "13\n",
      "14\n",
      "15\n",
      "16\n",
      "17\n",
      "18\n",
      "19\n",
      "20\n",
      "21\n",
      "22\n",
      "23\n"
     ]
    },
    {
     "ename": "NoSuchElementException",
     "evalue": "Message: no such element: No node with given id found\n  (Session info: chrome=120.0.6099.72); For documentation on this error, please visit: https://www.selenium.dev/documentation/webdriver/troubleshooting/errors#no-such-element-exception\nStacktrace:\n\tGetHandleVerifier [0x00007FF74F0C4D02+56194]\n\t(No symbol) [0x00007FF74F0304B2]\n\t(No symbol) [0x00007FF74EED76AA]\n\t(No symbol) [0x00007FF74EEC0EED]\n\t(No symbol) [0x00007FF74EEBEE85]\n\t(No symbol) [0x00007FF74EEBF7CE]\n\t(No symbol) [0x00007FF74EEBF700]\n\t(No symbol) [0x00007FF74EEE7803]\n\t(No symbol) [0x00007FF74EEDDB89]\n\t(No symbol) [0x00007FF74EEDBF22]\n\t(No symbol) [0x00007FF74EEDF38F]\n\t(No symbol) [0x00007FF74EEDF480]\n\t(No symbol) [0x00007FF74EF21494]\n\t(No symbol) [0x00007FF74EF217EC]\n\t(No symbol) [0x00007FF74EF1636C]\n\t(No symbol) [0x00007FF74EF45EBF]\n\t(No symbol) [0x00007FF74EF16226]\n\t(No symbol) [0x00007FF74EF46320]\n\t(No symbol) [0x00007FF74EF62786]\n\t(No symbol) [0x00007FF74EF45C23]\n\t(No symbol) [0x00007FF74EF14A45]\n\t(No symbol) [0x00007FF74EF15AD4]\n\tGetHandleVerifier [0x00007FF74F43D5BB+3695675]\n\tGetHandleVerifier [0x00007FF74F496197+4059159]\n\tGetHandleVerifier [0x00007FF74F48DF63+4025827]\n\tGetHandleVerifier [0x00007FF74F15F029+687785]\n\t(No symbol) [0x00007FF74F03B508]\n\t(No symbol) [0x00007FF74F037564]\n\t(No symbol) [0x00007FF74F0376E9]\n\t(No symbol) [0x00007FF74F028094]\n\tBaseThreadInitThunk [0x00007FFC5E9C7344+20]\n\tRtlUserThreadStart [0x00007FFC5FAA26B1+33]\n",
     "output_type": "error",
     "traceback": [
      "\u001b[1;31m---------------------------------------------------------------------------\u001b[0m",
      "\u001b[1;31mNoSuchElementException\u001b[0m                    Traceback (most recent call last)",
      "Cell \u001b[1;32mIn[126], line 31\u001b[0m\n\u001b[0;32m     22\u001b[0m \u001b[38;5;28mprint\u001b[39m(i)\n\u001b[0;32m     23\u001b[0m \u001b[38;5;28;01mif\u001b[39;00m i \u001b[38;5;241m!=\u001b[39m amt_of_pages\u001b[38;5;241m-\u001b[39m\u001b[38;5;241m1\u001b[39m:\n\u001b[0;32m     24\u001b[0m    \u001b[38;5;66;03m# try:\u001b[39;00m\n\u001b[0;32m     25\u001b[0m     \u001b[38;5;66;03m#x_button = driver.find_element(By.XPATH, '//button/svg[@class=\"icon icon-sm\"]')\u001b[39;00m\n\u001b[1;32m   (...)\u001b[0m\n\u001b[0;32m     28\u001b[0m     \u001b[38;5;66;03m#    x_button = driver.find_element(By.XPATH, '//button[@class=\"btn btn-link sf-close\"]')\u001b[39;00m\n\u001b[0;32m     29\u001b[0m     \u001b[38;5;66;03m#    x_button.click()\u001b[39;00m\n\u001b[1;32m---> 31\u001b[0m     button \u001b[38;5;241m=\u001b[39m \u001b[43mitem_locations\u001b[49m\u001b[43m[\u001b[49m\u001b[38;5;241;43m-\u001b[39;49m\u001b[38;5;241;43m1\u001b[39;49m\u001b[43m]\u001b[49m\u001b[38;5;241;43m.\u001b[39;49m\u001b[43mfind_element\u001b[49m\u001b[43m(\u001b[49m\u001b[43mBy\u001b[49m\u001b[38;5;241;43m.\u001b[39;49m\u001b[43mCLASS_NAME\u001b[49m\u001b[43m,\u001b[49m\u001b[43m \u001b[49m\u001b[38;5;124;43m'\u001b[39;49m\u001b[38;5;124;43mpaging-next\u001b[39;49m\u001b[38;5;124;43m'\u001b[39;49m\u001b[43m)\u001b[49m\n\u001b[0;32m     32\u001b[0m     hover \u001b[38;5;241m=\u001b[39m ActionChains(driver)\u001b[38;5;241m.\u001b[39mmove_to_element(button)\n\u001b[0;32m     33\u001b[0m     hover\u001b[38;5;241m.\u001b[39mperform()\n",
      "File \u001b[1;32m~\\anaconda3\\lib\\site-packages\\selenium\\webdriver\\remote\\webelement.py:416\u001b[0m, in \u001b[0;36mWebElement.find_element\u001b[1;34m(self, by, value)\u001b[0m\n\u001b[0;32m    413\u001b[0m     by \u001b[38;5;241m=\u001b[39m By\u001b[38;5;241m.\u001b[39mCSS_SELECTOR\n\u001b[0;32m    414\u001b[0m     value \u001b[38;5;241m=\u001b[39m \u001b[38;5;124mf\u001b[39m\u001b[38;5;124m'\u001b[39m\u001b[38;5;124m[name=\u001b[39m\u001b[38;5;124m\"\u001b[39m\u001b[38;5;132;01m{\u001b[39;00mvalue\u001b[38;5;132;01m}\u001b[39;00m\u001b[38;5;124m\"\u001b[39m\u001b[38;5;124m]\u001b[39m\u001b[38;5;124m'\u001b[39m\n\u001b[1;32m--> 416\u001b[0m \u001b[38;5;28;01mreturn\u001b[39;00m \u001b[38;5;28;43mself\u001b[39;49m\u001b[38;5;241;43m.\u001b[39;49m\u001b[43m_execute\u001b[49m\u001b[43m(\u001b[49m\u001b[43mCommand\u001b[49m\u001b[38;5;241;43m.\u001b[39;49m\u001b[43mFIND_CHILD_ELEMENT\u001b[49m\u001b[43m,\u001b[49m\u001b[43m \u001b[49m\u001b[43m{\u001b[49m\u001b[38;5;124;43m\"\u001b[39;49m\u001b[38;5;124;43musing\u001b[39;49m\u001b[38;5;124;43m\"\u001b[39;49m\u001b[43m:\u001b[49m\u001b[43m \u001b[49m\u001b[43mby\u001b[49m\u001b[43m,\u001b[49m\u001b[43m \u001b[49m\u001b[38;5;124;43m\"\u001b[39;49m\u001b[38;5;124;43mvalue\u001b[39;49m\u001b[38;5;124;43m\"\u001b[39;49m\u001b[43m:\u001b[49m\u001b[43m \u001b[49m\u001b[43mvalue\u001b[49m\u001b[43m}\u001b[49m\u001b[43m)\u001b[49m[\u001b[38;5;124m\"\u001b[39m\u001b[38;5;124mvalue\u001b[39m\u001b[38;5;124m\"\u001b[39m]\n",
      "File \u001b[1;32m~\\anaconda3\\lib\\site-packages\\selenium\\webdriver\\remote\\webelement.py:394\u001b[0m, in \u001b[0;36mWebElement._execute\u001b[1;34m(self, command, params)\u001b[0m\n\u001b[0;32m    392\u001b[0m     params \u001b[38;5;241m=\u001b[39m {}\n\u001b[0;32m    393\u001b[0m params[\u001b[38;5;124m\"\u001b[39m\u001b[38;5;124mid\u001b[39m\u001b[38;5;124m\"\u001b[39m] \u001b[38;5;241m=\u001b[39m \u001b[38;5;28mself\u001b[39m\u001b[38;5;241m.\u001b[39m_id\n\u001b[1;32m--> 394\u001b[0m \u001b[38;5;28;01mreturn\u001b[39;00m \u001b[38;5;28;43mself\u001b[39;49m\u001b[38;5;241;43m.\u001b[39;49m\u001b[43m_parent\u001b[49m\u001b[38;5;241;43m.\u001b[39;49m\u001b[43mexecute\u001b[49m\u001b[43m(\u001b[49m\u001b[43mcommand\u001b[49m\u001b[43m,\u001b[49m\u001b[43m \u001b[49m\u001b[43mparams\u001b[49m\u001b[43m)\u001b[49m\n",
      "File \u001b[1;32m~\\anaconda3\\lib\\site-packages\\selenium\\webdriver\\remote\\webdriver.py:347\u001b[0m, in \u001b[0;36mWebDriver.execute\u001b[1;34m(self, driver_command, params)\u001b[0m\n\u001b[0;32m    345\u001b[0m response \u001b[38;5;241m=\u001b[39m \u001b[38;5;28mself\u001b[39m\u001b[38;5;241m.\u001b[39mcommand_executor\u001b[38;5;241m.\u001b[39mexecute(driver_command, params)\n\u001b[0;32m    346\u001b[0m \u001b[38;5;28;01mif\u001b[39;00m response:\n\u001b[1;32m--> 347\u001b[0m     \u001b[38;5;28;43mself\u001b[39;49m\u001b[38;5;241;43m.\u001b[39;49m\u001b[43merror_handler\u001b[49m\u001b[38;5;241;43m.\u001b[39;49m\u001b[43mcheck_response\u001b[49m\u001b[43m(\u001b[49m\u001b[43mresponse\u001b[49m\u001b[43m)\u001b[49m\n\u001b[0;32m    348\u001b[0m     response[\u001b[38;5;124m\"\u001b[39m\u001b[38;5;124mvalue\u001b[39m\u001b[38;5;124m\"\u001b[39m] \u001b[38;5;241m=\u001b[39m \u001b[38;5;28mself\u001b[39m\u001b[38;5;241m.\u001b[39m_unwrap_value(response\u001b[38;5;241m.\u001b[39mget(\u001b[38;5;124m\"\u001b[39m\u001b[38;5;124mvalue\u001b[39m\u001b[38;5;124m\"\u001b[39m, \u001b[38;5;28;01mNone\u001b[39;00m))\n\u001b[0;32m    349\u001b[0m     \u001b[38;5;28;01mreturn\u001b[39;00m response\n",
      "File \u001b[1;32m~\\anaconda3\\lib\\site-packages\\selenium\\webdriver\\remote\\errorhandler.py:229\u001b[0m, in \u001b[0;36mErrorHandler.check_response\u001b[1;34m(self, response)\u001b[0m\n\u001b[0;32m    227\u001b[0m         alert_text \u001b[38;5;241m=\u001b[39m value[\u001b[38;5;124m\"\u001b[39m\u001b[38;5;124malert\u001b[39m\u001b[38;5;124m\"\u001b[39m]\u001b[38;5;241m.\u001b[39mget(\u001b[38;5;124m\"\u001b[39m\u001b[38;5;124mtext\u001b[39m\u001b[38;5;124m\"\u001b[39m)\n\u001b[0;32m    228\u001b[0m     \u001b[38;5;28;01mraise\u001b[39;00m exception_class(message, screen, stacktrace, alert_text)  \u001b[38;5;66;03m# type: ignore[call-arg]  # mypy is not smart enough here\u001b[39;00m\n\u001b[1;32m--> 229\u001b[0m \u001b[38;5;28;01mraise\u001b[39;00m exception_class(message, screen, stacktrace)\n",
      "\u001b[1;31mNoSuchElementException\u001b[0m: Message: no such element: No node with given id found\n  (Session info: chrome=120.0.6099.72); For documentation on this error, please visit: https://www.selenium.dev/documentation/webdriver/troubleshooting/errors#no-such-element-exception\nStacktrace:\n\tGetHandleVerifier [0x00007FF74F0C4D02+56194]\n\t(No symbol) [0x00007FF74F0304B2]\n\t(No symbol) [0x00007FF74EED76AA]\n\t(No symbol) [0x00007FF74EEC0EED]\n\t(No symbol) [0x00007FF74EEBEE85]\n\t(No symbol) [0x00007FF74EEBF7CE]\n\t(No symbol) [0x00007FF74EEBF700]\n\t(No symbol) [0x00007FF74EEE7803]\n\t(No symbol) [0x00007FF74EEDDB89]\n\t(No symbol) [0x00007FF74EEDBF22]\n\t(No symbol) [0x00007FF74EEDF38F]\n\t(No symbol) [0x00007FF74EEDF480]\n\t(No symbol) [0x00007FF74EF21494]\n\t(No symbol) [0x00007FF74EF217EC]\n\t(No symbol) [0x00007FF74EF1636C]\n\t(No symbol) [0x00007FF74EF45EBF]\n\t(No symbol) [0x00007FF74EF16226]\n\t(No symbol) [0x00007FF74EF46320]\n\t(No symbol) [0x00007FF74EF62786]\n\t(No symbol) [0x00007FF74EF45C23]\n\t(No symbol) [0x00007FF74EF14A45]\n\t(No symbol) [0x00007FF74EF15AD4]\n\tGetHandleVerifier [0x00007FF74F43D5BB+3695675]\n\tGetHandleVerifier [0x00007FF74F496197+4059159]\n\tGetHandleVerifier [0x00007FF74F48DF63+4025827]\n\tGetHandleVerifier [0x00007FF74F15F029+687785]\n\t(No symbol) [0x00007FF74F03B508]\n\t(No symbol) [0x00007FF74F037564]\n\t(No symbol) [0x00007FF74F0376E9]\n\t(No symbol) [0x00007FF74F028094]\n\tBaseThreadInitThunk [0x00007FFC5E9C7344+20]\n\tRtlUserThreadStart [0x00007FFC5FAA26B1+33]\n"
     ]
    }
   ],
   "source": [
    "links = []\n",
    "total = 0\n",
    "next_link_class = True\n",
    "for i in range(amt_of_pages):\n",
    "    wait.until(EC.visibility_of_element_located((By.CLASS_NAME, 'search-result-content')))\n",
    "    \n",
    "    y = 1000\n",
    "    for j in range(0,19):\n",
    "        driver.execute_script(\"window.scrollTo(0, \"+str(y)+\")\")\n",
    "        y += 500\n",
    "        time.sleep(2.5)\n",
    "    \n",
    "    #wait.until(EC.visibility_of_element_located((By.XPATH, '//div[@class=\"paging-next \"]')))\n",
    "    decorations_location = driver.find_element(By.CLASS_NAME, 'search-result-content')\n",
    "    item_locations = decorations_location.find_elements(By.XPATH, 'div/div[2]/div')\n",
    "    items = [i.find_element(By.CLASS_NAME, 'product-image').get_attribute('href') for i in item_locations[:-1] if len(i.text) > 0]\n",
    "    \n",
    "    total += len(items)\n",
    "    links += items\n",
    "    \n",
    "\n",
    "    print(i)\n",
    "    if i != amt_of_pages-1:\n",
    "       # try:\n",
    "        #x_button = driver.find_element(By.XPATH, '//button/svg[@class=\"icon icon-sm\"]')\n",
    "        #x_button.click()\n",
    "       # except (ElementNotInteractableException, ElementClickInterceptedException):\n",
    "        #    x_button = driver.find_element(By.XPATH, '//button[@class=\"btn btn-link sf-close\"]')\n",
    "        #    x_button.click()\n",
    "        \n",
    "        button = item_locations[-1].find_element(By.CLASS_NAME, 'paging-next')\n",
    "        hover = ActionChains(driver).move_to_element(button)\n",
    "        hover.perform()\n",
    "        button.click()"
   ]
  },
  {
   "cell_type": "code",
   "execution_count": null,
   "id": "c3af1d0d",
   "metadata": {},
   "outputs": [],
   "source": [
    "# could have changed the link size to be sz=60 everytime"
   ]
  }
 ],
 "metadata": {
  "kernelspec": {
   "display_name": "Python 3 (ipykernel)",
   "language": "python",
   "name": "python3"
  },
  "language_info": {
   "codemirror_mode": {
    "name": "ipython",
    "version": 3
   },
   "file_extension": ".py",
   "mimetype": "text/x-python",
   "name": "python",
   "nbconvert_exporter": "python",
   "pygments_lexer": "ipython3",
   "version": "3.10.9"
  }
 },
 "nbformat": 4,
 "nbformat_minor": 5
}

{
 "cells": [
  {
   "cell_type": "code",
   "execution_count": 128,
   "id": "5530c761",
   "metadata": {},
   "outputs": [],
   "source": [
    "import time\n",
    "import numpy as np\n",
    "import pandas as pd\n",
    "from splinter import Browser\n",
    "from bs4 import BeautifulSoup\n",
    "from selenium import webdriver\n",
    "from selenium.webdriver.common.by import By\n",
    "from selenium.webdriver.chrome.service import Service\n",
    "from webdriver_manager.chrome import ChromeDriverManager\n",
    "from selenium.webdriver.support.wait import WebDriverWait\n",
    "from selenium.webdriver.common.action_chains import ActionChains\n",
    "from selenium.webdriver.support import expected_conditions as EC"
   ]
  },
  {
   "cell_type": "code",
   "execution_count": 42,
   "id": "b66e5d6b",
   "metadata": {},
   "outputs": [],
   "source": [
    "name = []\n",
    "price = []\n",
    "review_count = []\n",
    "rating = []\n",
    "cateogry = []\n",
    "sub_category = []\n",
    "brand = []"
   ]
  },
  {
   "cell_type": "code",
   "execution_count": 43,
   "id": "67617072",
   "metadata": {},
   "outputs": [],
   "source": [
    "opt = webdriver.ChromeOptions()\n",
    "opt.add_argument(\"--incognito\")\n",
    "opt.add_argument(\"disable-infobars\")\n",
    "opt.add_argument(\"--disable-extensions\")\n",
    "opt.add_argument(\"--disable-gpu\")\n",
    "opt.add_argument(\"--disable-dev-shm-usage\")\n",
    "opt.add_argument(\"--no-sandbox\")\n",
    "#opt.add_argument(\"--headless=new\")\n",
    "driver = webdriver.Chrome(options=opt)\n",
    "#url = \"https://www.walmart.com/search?q=thanksgiving+decorations&typeahead=thank&affinityOverride=default\"\n",
    "url = \"https://www.target.com/s?searchTerm=christmas+decorations&category=0%7CAll%7Cmatchallpartial%7Call+categories&tref=typeahead%7Cterm%7C0%7Cchristmas+decorations%7Cchristmas+decorations%7C%7C%7Cservice%7C%7C%7C%7C%7Cfacets_sb&searchTermRaw=christmas+de\"\n",
    "#url = \"https://www.amazon.com/s?k=thanksgiving+decorations&crid=2EPG40FJ9V4A1&sprefix=thanksgiving+%2Caps%2C88&ref=nb_sb_ss_ts-doa-p_7_13\"\n",
    "driver.get(url)\n",
    "\n",
    "wait = WebDriverWait(driver, 20)"
   ]
  },
  {
   "cell_type": "code",
   "execution_count": 44,
   "id": "71bc6bbb",
   "metadata": {},
   "outputs": [
    {
     "data": {
      "text/plain": [
       "<selenium.webdriver.remote.webelement.WebElement (session=\"3128d8f2a3dfd312350375e4bc4dfd17\", element=\"E959B30532B2980AFDA5C36568892D14_element_17\")>"
      ]
     },
     "execution_count": 44,
     "metadata": {},
     "output_type": "execute_result"
    }
   ],
   "source": [
    "wait.until(EC.visibility_of_element_located((By.XPATH, '//div[@data-component-id=\"WEB-c_web_productgrid_v01\"]')))\n",
    "#decorations_location = driver.find_element(By.XPATH, '//div[@id=\"search\"]/div[1]/div[1]/div/span/div[1]')\n",
    "#item_location = decorations_location.find_elements(By.XPATH, '.div//div[not(data-asin= None)]')\n",
    "#item_location = decorations_location.find_elements(By.XPATH, 'div')"
   ]
  },
  {
   "cell_type": "code",
   "execution_count": 103,
   "id": "dfd3483e",
   "metadata": {},
   "outputs": [],
   "source": [
    "decorations_location = driver.find_element(By.XPATH, '//div[@class=\"styles__ProductListGridFadedLoading-sc-u8zdb1-0\"]')\n",
    "item_location = decorations_location.find_elements(By.XPATH, 'section/div/div')"
   ]
  },
  {
   "cell_type": "code",
   "execution_count": 104,
   "id": "e254feaf",
   "metadata": {},
   "outputs": [],
   "source": [
    "#x = item_location.find_element(By.XPATH, 'div[3]')\n",
    "#print(x.find_element(By.XPATH, 'div/div/div[1]/div[1]/h3/div/div/a').get_attribute(\"href\"))"
   ]
  },
  {
   "cell_type": "code",
   "execution_count": 105,
   "id": "956d62bb",
   "metadata": {},
   "outputs": [
    {
     "data": {
      "text/plain": [
       "'https://www.target.com/p/costway-2ft-4ft-5ft-6ft-pre-lit-white-twig-birch-tree-for-christmas-holiday-w-led-lights/-/A-90439413?preselect=84937231#lnk=sametab'"
      ]
     },
     "execution_count": 105,
     "metadata": {},
     "output_type": "execute_result"
    }
   ],
   "source": [
    "item_location[1].find_element(By.XPATH, 'div/div/div[1]/div[1]/h3/div/div/a').get_attribute(\"href\")"
   ]
  },
  {
   "cell_type": "code",
   "execution_count": 106,
   "id": "bba177ea",
   "metadata": {},
   "outputs": [
    {
     "data": {
      "text/plain": [
       "31"
      ]
     },
     "execution_count": 106,
     "metadata": {},
     "output_type": "execute_result"
    }
   ],
   "source": [
    "len(item_location)"
   ]
  },
  {
   "cell_type": "code",
   "execution_count": 107,
   "id": "1a60ec52",
   "metadata": {},
   "outputs": [],
   "source": [
    "items = [i.find_element(By.XPATH, 'div/div/div[1]/div[1]/h3/div/div/a').get_attribute(\"href\") for i in item_location if (\"Sponsored\" not in i.text)]"
   ]
  },
  {
   "cell_type": "code",
   "execution_count": 108,
   "id": "f0a8dd52",
   "metadata": {},
   "outputs": [
    {
     "data": {
      "text/plain": [
       "24"
      ]
     },
     "execution_count": 108,
     "metadata": {},
     "output_type": "execute_result"
    }
   ],
   "source": [
    "len(items)"
   ]
  },
  {
   "cell_type": "code",
   "execution_count": 109,
   "id": "a0848de7",
   "metadata": {},
   "outputs": [
    {
     "name": "stdout",
     "output_type": "stream",
     "text": [
      "https://www.target.com/p/santa-fabric-christmas-figurine-with-blue-gift-bag-wondershop-8482/-/A-87765649#lnk=sametab\n",
      "https://www.target.com/p/shatter-resistant-textured-plastic-christmas-tree-ornament-set-20pc-wondershop/-/A-87984722?preselect=87253562#lnk=sametab\n",
      "https://www.target.com/p/6pc-sisal-christmas-bottle-brush-tree-set-wondershop/-/A-89869701?preselect=87765681#lnk=sametab\n",
      "https://www.target.com/p/medium-ornament-bottle-brush-christmas-tree-threshold-8482/-/A-88101236#lnk=sametab\n",
      "https://www.target.com/p/shaped-christmas-tree-novelty-throw-pillow-wondershop-8482/-/A-88201995#lnk=sametab\n",
      "https://www.target.com/p/mini-pine-christmas-wreath-green-threshold-8482/-/A-88114306#lnk=sametab\n",
      "https://www.target.com/p/24-34-unlit-tinsel-mini-artificial-christmas-tree-white-wondershop-8482/-/A-85378457#lnk=sametab\n",
      "https://www.target.com/p/36in-animated-train-and-track-set-christmas-decor-wondershop-8482/-/A-82088607#lnk=sametab\n",
      "https://www.target.com/p/6-75-34-featherly-friends-bird-dressed-as-elf-fabric-christmas-figurine-wondershop-8482-brown-red-green/-/A-87765365#lnk=sametab\n",
      "https://www.target.com/p/christmas-santa-countdown-decorative-nutcracker-figure-wondershop-8482/-/A-88114326#lnk=sametab\n",
      "https://www.target.com/p/8ct-glittered-pinecone-christmas-tree-ornament-set-wondershop/-/A-86345096?preselect=85606711#lnk=sametab\n",
      "https://www.target.com/p/2ct-retro-small-deer-christmas-tree-ornament-set-wondershop/-/A-87526150?preselect=82137599#lnk=sametab\n",
      "https://www.target.com/p/mr-christmas-nostalgic-led-retro-radio-musical-christmas-decoration/-/A-84893431?preselect=84893429#lnk=sametab\n",
      "https://www.target.com/p/northlight-6-25-winter-dressed-bird-tabletop-christmas-decoration/-/A-88014643#lnk=sametab\n",
      "https://www.target.com/p/mr-christmas-animated-motion-activated-sleeping-santa-led-christmas-decoration/-/A-87763615#lnk=sametab\n",
      "https://www.target.com/p/decorative-cape-nutcracker-christmas-figure-gold-glitter-wondershop-8482/-/A-88114327#lnk=sametab\n",
      "https://www.target.com/p/mr-christmas-10-5-snow-tunes-retro-radio-musical-christmas-decoration/-/A-84893412?preselect=84893411#lnk=sametab\n",
      "https://www.target.com/p/northlight-13-5-lighted-red-moose-and-christmas-tree-wooden-led-battery-operated-decoration/-/A-81632784#lnk=sametab\n",
      "https://www.target.com/p/flying-christmas-santa-snow-globe-wondershop-8482/-/A-88114366#lnk=sametab\n",
      "https://www.target.com/p/mr-christmas-nutcracker-suite-animated-musical-christmas-decoration-11/-/A-81084718#lnk=sametab\n",
      "https://www.target.com/p/mr-christmas-10-3-retro-rock-o-rama-vintage-musical-jukebox-red/-/A-84893425?preselect=84893426#lnk=sametab\n",
      "https://www.target.com/p/mr-christmas-10-5-santa-in-truck-animated-musical-christmas-decoration/-/A-87817491?preselect=84893483#lnk=sametab\n",
      "https://www.target.com/p/mr-christmas-animated-mini-carnival-music-box-christmas-decoration/-/A-84927423?preselect=84927422#lnk=sametab\n",
      "https://www.target.com/p/northlight-wooden-gnomes-tabletop-christmas-decoration-10-75/-/A-90312150#lnk=sametab\n"
     ]
    }
   ],
   "source": [
    "for i in items:\n",
    "    print(i)"
   ]
  },
  {
   "cell_type": "code",
   "execution_count": 110,
   "id": "fd43a0d6",
   "metadata": {},
   "outputs": [
    {
     "name": "stdout",
     "output_type": "stream",
     "text": [
      "1\n",
      "Grinch Christmas Airblown Inflatable w/Blue Stocking Dr. Seuss, 4 ft Tall, Multicolored\n",
      "The Grinch\n",
      "5 out of 5 stars with 5 ratings\n",
      "5\n",
      "$39.99 reg $56.99\n",
      "Sale\n",
      "When purchased online\n",
      "Sponsored\n",
      "Free shipping*\n",
      "*Exclusions Apply.\n",
      "Not available in stores\n",
      "Add to cart\n",
      "2\n",
      "Costway 2ft/ 4ft/ 5ft/ 6ft Pre-lit White Twig Birch Tree for Christmas Holiday w/ LED Lights\n",
      "Costway\n",
      "New at\n",
      " target\n",
      "¬\n",
      "4.1 out of 5 stars with 111 ratings\n",
      "111\n",
      "$17.99 - $54.99\n",
      "Sale\n",
      "When purchased online\n",
      "Sponsored\n",
      "Free shipping*\n",
      "*Exclusions Apply.\n",
      "Add to cart\n",
      "3\n",
      "Santa Fabric Christmas Figurine with Blue Gift Bag - Wondershop™\n",
      "Wondershop\n",
      "Only at\n",
      " target\n",
      "¬\n",
      "4.5 out of 5 stars with 8 ratings\n",
      "8\n",
      "$5.00\n",
      "When purchased online\n",
      "Only ships with $35 orders\n",
      "Free shipping*\n",
      "*Exclusions Apply.\n",
      "In stock at Lawrenceville\n",
      "Ready within 2 hours with pickup\n",
      "Add to cart\n",
      "4\n",
      "Shatter-Resistant Textured Plastic Christmas Tree Ornament Set 20pc - Wondershop™\n",
      "Wondershop\n",
      "Only at\n",
      " target\n",
      "¬\n",
      "4.5 out of 5 stars with 137 ratings\n",
      "137\n",
      "+6 options\n",
      "$5.00\n",
      "When purchased online\n",
      "Only ships with $35 orders\n",
      "Free shipping*\n",
      "*Exclusions Apply.\n",
      "Add to cart\n",
      "5\n",
      "6pc Sisal Christmas Bottle Brush Tree Set - Wondershop™\n",
      "Wondershop\n",
      "Only at\n",
      " target\n",
      "¬\n",
      "4.8 out of 5 stars with 104 ratings\n",
      "104\n",
      "+2 options\n",
      "$10.00\n",
      "When purchased online\n",
      "Only ships with $35 orders\n",
      "Free shipping*\n",
      "*Exclusions Apply.\n",
      "In stock at Lawrenceville\n",
      "Ready within 2 hours with pickup\n",
      "Add to cart\n",
      "6\n",
      "Medium Ornament Bottle Brush Christmas Tree - Threshold™\n",
      "Threshold\n",
      "5 out of 5 stars with 25 ratings\n",
      "25\n",
      "$10.00\n",
      "When purchased online\n",
      "Only ships with $35 orders\n",
      "Free shipping*\n",
      "*Exclusions Apply.\n",
      "Not available at Lawrenceville\n",
      "Check nearby stores\n",
      "Add to cart\n",
      "7\n",
      "Costway 4 FT/5FT/6FT Pre-Lit Slim Christmas Tree Flocked Xmas Decoration 11 Modes 100 LED Lights\n",
      "Costway\n",
      "5 out of 5 stars with 4 ratings\n",
      "4\n",
      "$69.99 - $109.99\n",
      "Sale\n",
      "When purchased online\n",
      "Sponsored\n",
      "Free shipping*\n",
      "*Exclusions Apply.\n",
      "Add to cart\n",
      "8\n",
      "Costway 4.5 FT/6FT/7FT Pre-Lit Slim Christmas Tree Flocked Decoration with Pine Needles & Lights\n",
      "Costway\n",
      "$59.99 - $119.99\n",
      "Sale\n",
      "When purchased online\n",
      "Sponsored\n",
      "Free shipping*\n",
      "*Exclusions Apply.\n",
      "Add to cart\n",
      "9\n",
      "Sponsored\n",
      "10\n",
      "Costway Prelit 7.5ft Christmas Tree Flocked Xmas Snowy Tree 450 LED Lights\n",
      "Costway\n",
      "4.1 out of 5 stars with 125 ratings\n",
      "125\n",
      "$163.99 reg $549.99\n",
      "Sale\n",
      "When purchased online\n",
      "Sponsored\n",
      "Sold out\n",
      "11\n",
      "Shaped Christmas Tree Novelty Throw Pillow - Wondershop™\n",
      "Wondershop\n",
      "Only at\n",
      " target\n",
      "¬\n",
      "4.9 out of 5 stars with 47 ratings\n",
      "47\n",
      "$10.00\n",
      "When purchased online\n",
      "Only ships with $35 orders\n",
      "Free shipping*\n",
      "*Exclusions Apply.\n",
      "Not available at Lawrenceville\n",
      "Check nearby stores\n",
      "Add to cart\n",
      "12\n",
      "Mini Pine Christmas Wreath Green - Threshold™\n",
      "Threshold\n",
      "4.8 out of 5 stars with 18 ratings\n",
      "18\n",
      "$10.00\n",
      "When purchased online\n",
      "Discontinued for shipping\n",
      "Not available at Lawrenceville\n",
      "Check stores\n",
      "13\n",
      "24\" Unlit Tinsel Mini Artificial Christmas Tree White - Wondershop™\n",
      "Wondershop\n",
      "Only at\n",
      " target\n",
      "¬\n",
      "4.7 out of 5 stars with 127 ratings\n",
      "127\n",
      "$10.00\n",
      "When purchased online\n",
      "Only ships with $35 orders\n",
      "Free shipping*\n",
      "*Exclusions Apply.\n",
      "Not available at Lawrenceville\n",
      "Check nearby stores\n",
      "Add to cart\n",
      "14\n",
      "36in Animated Train and Track Set Christmas Decor - Wondershop™\n",
      "Wondershop\n",
      "Only at\n",
      " target\n",
      "¬\n",
      "3.8 out of 5 stars with 192 ratings\n",
      "192\n",
      "$35.00\n",
      "When purchased online\n",
      "Free shipping*\n",
      "*Exclusions Apply.\n",
      "Not available at Lawrenceville\n",
      "Check nearby stores\n",
      "Add to cart\n",
      "15\n",
      "6.75\" Featherly Friends Bird Dressed as Elf Fabric Christmas Figurine - Wondershop™ Brown/Red/Green\n",
      "Wondershop\n",
      "Only at\n",
      " target\n",
      "¬\n",
      "4.8 out of 5 stars with 37 ratings\n",
      "37\n",
      "$5.00\n",
      "When purchased online\n",
      "Only ships with $35 orders\n",
      "Free shipping*\n",
      "*Exclusions Apply.\n",
      "In stock at Lawrenceville\n",
      "Ready within 2 hours with pickup\n",
      "Add to cart\n",
      "16\n",
      "Christmas Santa Countdown Decorative Nutcracker Figure - Wondershop™\n",
      "Wondershop\n",
      "Only at\n",
      " target\n",
      "¬\n",
      "3.8 out of 5 stars with 20 ratings\n",
      "20\n",
      "$12.00\n",
      "When purchased online\n",
      "Discontinued for shipping\n",
      "In stock at Lawrenceville\n",
      "Ready within 2 hours with pickup\n",
      "Pick it up\n",
      "17\n",
      "8ct Glittered Pinecone Christmas Tree Ornament Set - Wondershop™\n",
      "Wondershop\n",
      "Only at\n",
      " target\n",
      "¬\n",
      "4.4 out of 5 stars with 328 ratings\n",
      "328\n",
      "$3.00\n",
      "When purchased online\n",
      "Only ships with $35 orders\n",
      "Free shipping*\n",
      "*Exclusions Apply.\n",
      "Limited stock at Lawrenceville\n",
      "Add to cart\n",
      "18\n",
      "2ct Retro Small Deer Christmas Tree Ornament Set - Wondershop™\n",
      "Wondershop\n",
      "Only at\n",
      " target\n",
      "¬\n",
      "4.7 out of 5 stars with 231 ratings\n",
      "231\n",
      "$3.00\n",
      "When purchased online\n",
      "Only ships with $35 orders\n",
      "Free shipping*\n",
      "*Exclusions Apply.\n",
      "Add to cart\n",
      "19\n",
      "Mr. Christmas Nostalgic LED Retro Radio Musical Christmas Decoration\n",
      "Mr. Christmas\n",
      "4 out of 5 stars with 7 ratings\n",
      "7\n",
      "$44.99 - $58.49\n",
      "Sale\n",
      "When purchased online\n",
      "Free shipping*\n",
      "*Exclusions Apply.\n",
      "Add to cart\n",
      "20\n",
      "Northlight 6.25\" Winter Dressed Bird Tabletop Christmas Decoration\n",
      "Northlight\n",
      "$19.99 reg $22.49\n",
      "Sale\n",
      "When purchased online\n",
      "Free shipping*\n",
      "*Exclusions Apply.\n",
      "Not available in stores\n",
      "Add to cart\n",
      "21\n",
      "Mr. Christmas Animated Motion Activated Sleeping Santa LED Christmas Decoration\n",
      "Mr. Christmas\n",
      "5 out of 5 stars with 1 ratings\n",
      "1\n",
      "$44.99 reg $79.99\n",
      "Sale\n",
      "When purchased online\n",
      "Free shipping*\n",
      "*Exclusions Apply.\n",
      "Not available in stores\n",
      "Add to cart\n",
      "22\n",
      "Sponsored\n",
      "23\n",
      "Decorative Cape Nutcracker Christmas Figure Gold Glitter - Wondershop™\n",
      "Wondershop\n",
      "Only at\n",
      " target\n",
      "¬\n",
      "4.5 out of 5 stars with 25 ratings\n",
      "25\n",
      "$12.00\n",
      "When purchased online\n",
      "Discontinued for shipping\n",
      "In stock at Lawrenceville\n",
      "Ready within 2 hours with pickup\n",
      "Pick it up\n",
      "24\n",
      "Mr. Christmas 10.5\" Snow Tunes Retro Radio Musical Christmas Decoration\n",
      "Mr. Christmas\n",
      "4.3 out of 5 stars with 19 ratings\n",
      "19\n",
      "$24.99 - $34.99\n",
      "Sale\n",
      "When purchased online\n",
      "Free shipping*\n",
      "*Exclusions Apply.\n",
      "Add to cart\n",
      "25\n",
      "Northlight 13.5\" Lighted Red Moose and Christmas Tree Wooden LED Battery Operated Decoration\n",
      "Northlight\n",
      "1 out of 5 stars with 1 ratings\n",
      "1\n",
      "$35.99 reg $43.49\n",
      "Sale\n",
      "When purchased online\n",
      "Free shipping*\n",
      "*Exclusions Apply.\n",
      "Not available in stores\n",
      "Add to cart\n",
      "26\n",
      "Flying Christmas Santa Snow Globe - Wondershop™\n",
      "Wondershop\n",
      "Only at\n",
      " target\n",
      "¬\n",
      "4.4 out of 5 stars with 21 ratings\n",
      "21\n",
      "$12.00\n",
      "When purchased online\n",
      "Free shipping*\n",
      "*Exclusions Apply.\n",
      "Limited stock at Lawrenceville\n",
      "Add to cart\n",
      "27\n",
      "Mr. Christmas Nutcracker Suite Animated Musical Christmas Decoration - 11\"\n",
      "Mr. Christmas\n",
      "5 out of 5 stars with 2 ratings\n",
      "2\n",
      "$199.99 reg $289.99\n",
      "Sale\n",
      "When purchased online\n",
      "Free shipping*\n",
      "*Exclusions Apply.\n",
      "Not available in stores\n",
      "Add to cart\n",
      "28\n",
      "Mr. Christmas 10.3\" Retro Rock-O-Rama Vintage Musical Jukebox - Red\n",
      "Mr. Christmas\n",
      "5 out of 5 stars with 3 ratings\n",
      "3\n",
      "$49.99 - $79.99\n",
      "Select items on sale\n",
      "When purchased online\n",
      "Free shipping*\n",
      "*Exclusions Apply.\n",
      "Add to cart\n",
      "29\n",
      "Mr. Christmas 10.5\" Santa in Truck Animated Musical Christmas Decoration\n",
      "Mr. Christmas\n",
      "4.3 out of 5 stars with 12 ratings\n",
      "12\n",
      "2 options\n",
      "$29.99 - $39.99\n",
      "Sale\n",
      "When purchased online\n",
      "Free shipping*\n",
      "*Exclusions Apply.\n",
      "Add to cart\n",
      "30\n",
      "Mr. Christmas Animated Mini Carnival Music Box Christmas Decoration\n",
      "Mr. Christmas\n",
      "3.8 out of 5 stars with 10 ratings\n",
      "10\n",
      "$19.99\n",
      "Sale\n",
      "When purchased online\n",
      "Free shipping*\n",
      "*Exclusions Apply.\n",
      "Add to cart\n",
      "31\n",
      "Northlight Wooden Gnomes Tabletop Christmas Decoration - 10.75\"\n",
      "Northlight\n",
      "$22.79 reg $27.54\n",
      "Sale\n",
      "When purchased online\n",
      "Free shipping*\n",
      "*Exclusions Apply.\n",
      "Not available in stores\n",
      "Add to cart\n"
     ]
    }
   ],
   "source": [
    "x = 1\n",
    "for i in item_location:\n",
    "    print(x)\n",
    "    x += 1\n",
    "    print(i.text)"
   ]
  },
  {
   "cell_type": "code",
   "execution_count": 57,
   "id": "36357022",
   "metadata": {},
   "outputs": [],
   "source": [
    "page_location = driver.find_element(By.XPATH, '//button[@id=\"select-custom-button-id\"]')\n",
    "page_amount = int(page_location.text.split()[-1])"
   ]
  },
  {
   "cell_type": "code",
   "execution_count": 144,
   "id": "0ec72eaf",
   "metadata": {},
   "outputs": [],
   "source": [
    "button = driver.find_element(By.XPATH, '//div[@class=\"styles__ButtonWithArrowWrapper-sc-l17a0m-4 cRjaPg\"][2]')\n",
    "hover = ActionChains(driver).move_to_element(button)\n",
    "hover.perform()"
   ]
  },
  {
   "cell_type": "code",
   "execution_count": 153,
   "id": "ffcfcb36",
   "metadata": {
    "scrolled": true
   },
   "outputs": [
    {
     "name": "stdout",
     "output_type": "stream",
     "text": [
      "0\n",
      "1\n",
      "2\n",
      "3\n",
      "4\n",
      "5\n",
      "6\n",
      "7\n",
      "8\n",
      "9\n",
      "10\n",
      "11\n",
      "12\n",
      "13\n",
      "14\n",
      "15\n",
      "16\n",
      "17\n",
      "18\n",
      "19\n",
      "20\n",
      "21\n",
      "22\n",
      "23\n",
      "24\n",
      "25\n",
      "26\n",
      "27\n",
      "28\n",
      "29\n",
      "30\n",
      "31\n",
      "32\n",
      "33\n",
      "34\n",
      "35\n",
      "36\n",
      "37\n",
      "38\n",
      "39\n",
      "40\n",
      "41\n",
      "42\n",
      "43\n",
      "44\n",
      "45\n",
      "46\n",
      "47\n",
      "48\n",
      "49\n"
     ]
    }
   ],
   "source": [
    "links = []\n",
    "total = 0\n",
    "for i in range(page_amount):\n",
    "    wait.until(EC.visibility_of_element_located((By.XPATH, '//div[@class=\"styles__ProductListGridFadedLoading-sc-u8zdb1-0\"]')))\n",
    "    #wait.until(EC.visibility_of_element_located((By.XPATH, '//div[@class=\"styles__ButtonWithArrowWrapper-sc-l17a0m-4 cRjaPg\"][2]')))\n",
    "    #button = driver.find_element(By.XPATH, '//div[@class=\"styles__ButtonWithArrowWrapper-sc-l17a0m-4 cRjaPg\"][2]')\n",
    "    #hover = ActionChains(driver).move_to_element(button)\n",
    "    #hover.perform()\n",
    "    #time.sleep(1)\n",
    "    #button = driver.find_element(By.XPATH, '//div[@class=\"styles__ButtonWithArrowWrapper-sc-l17a0m-4 cRjaPg\"][2]')\n",
    "    #hover = ActionChains(driver).move_to_element(button)\n",
    "    #hover.perform()\n",
    "    #time.sleep(2)\n",
    "    \n",
    "    decorations_location = driver.find_element(By.XPATH, '//div[@class=\"styles__ProductListGridFadedLoading-sc-u8zdb1-0\"]')\n",
    "    y = 1000\n",
    "    for j in range(0,10):\n",
    "        driver.execute_script(\"window.scrollTo(0, \"+str(y)+\")\")\n",
    "        y += 500  \n",
    "        time.sleep(1)\n",
    "\n",
    "    item_location = decorations_location.find_elements(By.XPATH, 'section/div/div')\n",
    "    items = [i.find_element(By.XPATH, 'div/div/div[1]/div[1]/h3/div/div/a').get_attribute(\"href\") for i in item_location if (\"Sponsored\" not in i.text)]\n",
    "    \n",
    "    #cur_url = driver.current_url\n",
    "    #print(cur_url)\n",
    "    total += len(items)\n",
    "    links += items\n",
    "    \n",
    "#    for j in items:\n",
    "#        links.append(j.find_element(By.CLASS_NAME, 'a-link-normal').get_attribute('href'))\n",
    "#    print(len(links))\n",
    "#    \n",
    "    print(i)\n",
    "    if i != page_amount-1:\n",
    "        button = driver.find_element(By.XPATH, '//div[@class=\"styles__ButtonWithArrowWrapper-sc-l17a0m-4 cRjaPg\"][2]')\n",
    "        hover = ActionChains(driver).move_to_element(button)\n",
    "        hover.perform()\n",
    "        button.click()"
   ]
  },
  {
   "cell_type": "code",
   "execution_count": 154,
   "id": "bc1d86eb",
   "metadata": {},
   "outputs": [
    {
     "data": {
      "text/plain": [
       "1199"
      ]
     },
     "execution_count": 154,
     "metadata": {},
     "output_type": "execute_result"
    }
   ],
   "source": [
    "len(links)"
   ]
  },
  {
   "cell_type": "code",
   "execution_count": 155,
   "id": "9b3c829d",
   "metadata": {},
   "outputs": [
    {
     "data": {
      "text/plain": [
       "1199"
      ]
     },
     "execution_count": 155,
     "metadata": {},
     "output_type": "execute_result"
    }
   ],
   "source": [
    "total"
   ]
  },
  {
   "cell_type": "code",
   "execution_count": 156,
   "id": "717d1a0f",
   "metadata": {},
   "outputs": [
    {
     "data": {
      "text/plain": [
       "True"
      ]
     },
     "execution_count": 156,
     "metadata": {},
     "output_type": "execute_result"
    }
   ],
   "source": [
    "len(links) != len(set(links))"
   ]
  },
  {
   "cell_type": "code",
   "execution_count": 157,
   "id": "17130dbc",
   "metadata": {},
   "outputs": [
    {
     "data": {
      "text/plain": [
       "1114"
      ]
     },
     "execution_count": 157,
     "metadata": {},
     "output_type": "execute_result"
    }
   ],
   "source": [
    "len(set(links))"
   ]
  },
  {
   "cell_type": "code",
   "execution_count": 118,
   "id": "07efda6b",
   "metadata": {},
   "outputs": [
    {
     "data": {
      "text/plain": [
       "1200"
      ]
     },
     "execution_count": 118,
     "metadata": {},
     "output_type": "execute_result"
    }
   ],
   "source": [
    "len(links)"
   ]
  },
  {
   "cell_type": "code",
   "execution_count": 38,
   "id": "8901e975",
   "metadata": {},
   "outputs": [],
   "source": [
    "#button = driver.find_element(By.XPATH, '//div[@class=\"styles__ButtonWithArrowWrapper-sc-l17a0m-4 cRjaPg\"][2]')\n",
    "#hover = ActionChains(driver).move_to_element(button)\n",
    "#hover.perform()\n",
    "#button.click()"
   ]
  }
 ],
 "metadata": {
  "kernelspec": {
   "display_name": "Python 3 (ipykernel)",
   "language": "python",
   "name": "python3"
  },
  "language_info": {
   "codemirror_mode": {
    "name": "ipython",
    "version": 3
   },
   "file_extension": ".py",
   "mimetype": "text/x-python",
   "name": "python",
   "nbconvert_exporter": "python",
   "pygments_lexer": "ipython3",
   "version": "3.10.9"
  }
 },
 "nbformat": 4,
 "nbformat_minor": 5
}

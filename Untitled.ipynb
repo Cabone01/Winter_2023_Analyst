{
 "cells": [
  {
   "cell_type": "code",
   "execution_count": 1,
   "id": "5530c761",
   "metadata": {},
   "outputs": [],
   "source": [
    "import numpy as np\n",
    "import pandas as pd\n",
    "from splinter import Browser\n",
    "from bs4 import BeautifulSoup\n",
    "from selenium import webdriver\n",
    "from selenium.webdriver.common.by import By\n",
    "from selenium.webdriver.chrome.service import Service\n",
    "from webdriver_manager.chrome import ChromeDriverManager\n",
    "from selenium.webdriver.support.wait import WebDriverWait\n",
    "from selenium.webdriver.common.action_chains import ActionChains\n",
    "from selenium.webdriver.support import expected_conditions as EC"
   ]
  },
  {
   "cell_type": "code",
   "execution_count": 2,
   "id": "b66e5d6b",
   "metadata": {},
   "outputs": [],
   "source": [
    "name = []\n",
    "price = []\n",
    "review_count = []\n",
    "rating = []\n",
    "cateogry = []\n",
    "sub_category = []\n",
    "brand = []"
   ]
  },
  {
   "cell_type": "code",
   "execution_count": 3,
   "id": "67617072",
   "metadata": {},
   "outputs": [],
   "source": [
    "opt = webdriver.ChromeOptions()\n",
    "opt.add_argument(\"--incognito\")\n",
    "opt.add_argument(\"disable-infobars\")\n",
    "opt.add_argument(\"--disable-extensions\")\n",
    "opt.add_argument(\"--disable-gpu\")\n",
    "opt.add_argument(\"--disable-dev-shm-usage\")\n",
    "opt.add_argument(\"--no-sandbox\")\n",
    "#opt.add_argument(\"--headless=new\")\n",
    "driver = webdriver.Chrome(options=opt)\n",
    "#url = \"https://www.walmart.com/search?q=thanksgiving+decorations&typeahead=thank&affinityOverride=default\"\n",
    "url = \"https://www.target.com/s?searchTerm=christmas+decorations&category=0%7CAll%7Cmatchallpartial%7Call+categories&tref=typeahead%7Cterm%7C0%7Cchristmas+decorations%7Cchristmas+decorations%7C%7C%7Cservice%7C%7C%7C%7C%7Cfacets_sb&searchTermRaw=christmas+de\"\n",
    "#url = \"https://www.amazon.com/s?k=thanksgiving+decorations&crid=2EPG40FJ9V4A1&sprefix=thanksgiving+%2Caps%2C88&ref=nb_sb_ss_ts-doa-p_7_13\"\n",
    "driver.get(url)\n",
    "\n",
    "wait = WebDriverWait(driver, 20)"
   ]
  },
  {
   "cell_type": "code",
   "execution_count": 4,
   "id": "71bc6bbb",
   "metadata": {},
   "outputs": [
    {
     "data": {
      "text/plain": [
       "<selenium.webdriver.remote.webelement.WebElement (session=\"3571addfaeb2f7ad44cfdac1c684a7db\", element=\"17110E9905A16B32A5AD62481959F065_element_287\")>"
      ]
     },
     "execution_count": 4,
     "metadata": {},
     "output_type": "execute_result"
    }
   ],
   "source": [
    "wait.until(EC.visibility_of_element_located((By.XPATH, '//div[@data-component-id=\"WEB-c_web_productgrid_v01\"]')))\n",
    "#decorations_location = driver.find_element(By.XPATH, '//div[@id=\"search\"]/div[1]/div[1]/div/span/div[1]')\n",
    "#item_location = decorations_location.find_elements(By.XPATH, '.div//div[not(data-asin= None)]')\n",
    "#item_location = decorations_location.find_elements(By.XPATH, 'div')"
   ]
  },
  {
   "cell_type": "code",
   "execution_count": 31,
   "id": "dfd3483e",
   "metadata": {},
   "outputs": [],
   "source": [
    "decorations_location = driver.find_element(By.XPATH, '//div[@class=\"styles__ProductListGridFadedLoading-sc-u8zdb1-0\"]')\n",
    "item_location = decorations_location.find_element(By.XPATH, 'section/div')"
   ]
  },
  {
   "cell_type": "code",
   "execution_count": 48,
   "id": "91223a03",
   "metadata": {},
   "outputs": [
    {
     "name": "stdout",
     "output_type": "stream",
     "text": [
      "1\n"
     ]
    }
   ],
   "source": [
    "if \"Sponsored\" not in item_location.find_element(By.XPATH, 'div[3]').text:\n",
    "    print(1)"
   ]
  },
  {
   "cell_type": "code",
   "execution_count": 79,
   "id": "e254feaf",
   "metadata": {},
   "outputs": [
    {
     "name": "stdout",
     "output_type": "stream",
     "text": [
      "https://www.target.com/p/santa-fabric-christmas-figurine-with-blue-gift-bag-wondershop-8482/-/A-87765649#lnk=sametab\n"
     ]
    }
   ],
   "source": [
    "x = item_location.find_element(By.XPATH, 'div[3]')\n",
    "print(x.find_element(By.XPATH, 'div/div/div[1]/div[1]/h3/div/div/a').get_attribute(\"href\"))"
   ]
  },
  {
   "cell_type": "code",
   "execution_count": null,
   "id": "67e682c4",
   "metadata": {},
   "outputs": [],
   "source": []
  },
  {
   "cell_type": "code",
   "execution_count": 33,
   "id": "36357022",
   "metadata": {},
   "outputs": [],
   "source": [
    "page_location = driver.find_element(By.XPATH, '//button[@id=\"select-custom-button-id\"]')\n",
    "page_amount = page_location.text.split()[-1]"
   ]
  },
  {
   "cell_type": "code",
   "execution_count": null,
   "id": "ffcfcb36",
   "metadata": {},
   "outputs": [],
   "source": [
    "#links = []\n",
    "#for i in range(page_number):\n",
    "#    wait.until(EC.visibility_of_element_located((By.XPATH, '//span[@class=\"s-pagination-item s-pagination-selected\"]')))\n",
    "#    decorations_location = driver.find_element(By.XPATH, '//div[@id=\"search\"]/div[1]/div[1]/div/span/div[1]')\n",
    "#    item_location = decorations_location.find_elements(By.XPATH, 'div')\n",
    "#    items = [i for i in item_location if len(i.get_attribute('data-asin')) > 0]\n",
    "    \n",
    "    #cur_url = driver.current_url\n",
    "    #print(cur_url)\n",
    "\n",
    "#    for j in items:\n",
    "#        links.append(j.find_element(By.CLASS_NAME, 'a-link-normal').get_attribute('href'))\n",
    "#    print(len(links))\n",
    "#    \n",
    "#    print(i)\n",
    "#    if i != page_number-1:\n",
    "#        button = driver.find_element(By.XPATH, '//a[@class=\"s-pagination-item s-pagination-next s-pagination-button s-pagination-separator\"]')\n",
    "#        hover = ActionChains(driver).move_to_element(button)\n",
    "#       hover.perform()\n",
    "#        button.click()"
   ]
  }
 ],
 "metadata": {
  "kernelspec": {
   "display_name": "Python 3 (ipykernel)",
   "language": "python",
   "name": "python3"
  },
  "language_info": {
   "codemirror_mode": {
    "name": "ipython",
    "version": 3
   },
   "file_extension": ".py",
   "mimetype": "text/x-python",
   "name": "python",
   "nbconvert_exporter": "python",
   "pygments_lexer": "ipython3",
   "version": "3.10.9"
  }
 },
 "nbformat": 4,
 "nbformat_minor": 5
}

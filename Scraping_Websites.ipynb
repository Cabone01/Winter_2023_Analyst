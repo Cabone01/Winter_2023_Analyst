{
 "cells": [
  {
   "cell_type": "code",
   "execution_count": 49,
   "id": "86a61cfd",
   "metadata": {},
   "outputs": [],
   "source": [
    "import time\n",
    "import requests\n",
    "import numpy as np\n",
    "import pandas as pd\n",
    "from splinter import Browser\n",
    "from bs4 import BeautifulSoup\n",
    "from selenium import webdriver\n",
    "from selenium.webdriver.common.by import By\n",
    "from selenium.webdriver.chrome.service import Service\n",
    "from webdriver_manager.chrome import ChromeDriverManager\n",
    "from selenium.webdriver.support.wait import WebDriverWait\n",
    "from selenium.webdriver.common.action_chains import ActionChains\n",
    "from selenium.webdriver.support import expected_conditions as EC"
   ]
  },
  {
   "cell_type": "code",
   "execution_count": 2,
   "id": "91f75958",
   "metadata": {},
   "outputs": [],
   "source": [
    "# (Walmart x, Target, Kroger, Publix, Hobby Lobby, Amazon)"
   ]
  },
  {
   "cell_type": "code",
   "execution_count": 3,
   "id": "46fa2462",
   "metadata": {},
   "outputs": [],
   "source": [
    "name = []\n",
    "price = []\n",
    "review_count = []\n",
    "rating = []\n",
    "cateogry = []\n",
    "sub_category = []\n",
    "brand = []"
   ]
  },
  {
   "cell_type": "code",
   "execution_count": 4,
   "id": "880adaf1",
   "metadata": {},
   "outputs": [],
   "source": [
    "#service = Service() \n",
    "opt = webdriver.ChromeOptions()\n",
    "opt.add_argument(\"--incognito\")\n",
    "opt.add_argument(\"disable-infobars\")\n",
    "opt.add_argument(\"--disable-extensions\")\n",
    "opt.add_argument(\"--disable-gpu\")\n",
    "opt.add_argument(\"--disable-dev-shm-usage\")\n",
    "opt.add_argument(\"--no-sandbox\")\n",
    "#opt.add_argument(\"--headless=new\")\n",
    "driver = webdriver.Chrome(options=opt)\n",
    "#url = \"https://www.walmart.com/search?q=thanksgiving+decorations&typeahead=thank&affinityOverride=default\"\n",
    "url = \"https://www.amazon.com/s?k=thanksgiving+decorations&ref=nav_bb_sb\"\n",
    "#url = \"https://www.amazon.com/s?k=thanksgiving+decorations&crid=2EPG40FJ9V4A1&sprefix=thanksgiving+%2Caps%2C88&ref=nb_sb_ss_ts-doa-p_7_13\"\n",
    "driver.get(url)\n",
    "\n",
    "wait = WebDriverWait(driver, 20)\n",
    "\n",
    "#page = driver.page_source\n",
    "#soup = BeautifulSoup(page, \"lxml\")\n",
    "#for url in soup.findAll(\"section\", attrs={\"class\": None, \"data-testid\": None, \"style\": None}):\n",
    "#    print(url.prettify())"
   ]
  },
  {
   "cell_type": "code",
   "execution_count": 5,
   "id": "d0a3c478",
   "metadata": {},
   "outputs": [],
   "source": [
    "wait.until(EC.visibility_of_element_located((By.XPATH, '//div[@tabindex=\"0\"]')))\n",
    "decorations_location = driver.find_element(By.XPATH, '//div[@id=\"search\"]/div[1]/div[1]/div/span/div[1]')\n",
    "#item_location = decorations_location.find_elements(By.XPATH, '.div//div[not(data-asin= None)]')\n",
    "item_location = decorations_location.find_elements(By.XPATH, 'div')"
   ]
  },
  {
   "cell_type": "code",
   "execution_count": 6,
   "id": "213994f5",
   "metadata": {},
   "outputs": [
    {
     "name": "stdout",
     "output_type": "stream",
     "text": [
      "Pumpkin Decorations for Your Fall Table\n",
      "Shop LampLust \n",
      "Mini Glass Pumpkins for D…\n",
      " 231\n",
      "LampLust Gold Glass Pumpkins…\n",
      " 231\n",
      "LampLust Mini Glass Pumpkins…\n",
      " 231\n",
      "Sponsored\n",
      "Shop unique Handmade items\n",
      "Party Supplies\n",
      "Kitchen Linen\n",
      "Candles\n",
      "Home Decor\n",
      "Results\n",
      "Price and other details may vary based on product size and color.\n",
      "Sponsored\n",
      "Thanksgiving Party Decorations Fall Party Hanging Paper Lantern Give Thanks Banner Turkey Pumpkins Maple Leaf for Autumn Birthday Baby Showers Home Decor Indoor Outdoor\n",
      "6\n",
      "100+ bought in past month\n",
      "$18\n",
      "99 Typical:\n",
      "$19.99\n",
      "FREE delivery Thu, Dec 7 on $35 of items shipped by Amazon\n",
      "Or fastest delivery Tue, Dec 5\n",
      "Overall Pick\n",
      "\n",
      "\n",
      "U'Artlines 4Pcs Artificial Fall Garland Maple Leaf Autumn Hanging Foliage Garlands Vines Thanksgiving Decor for Home Wedding Party Fireplace Indoor Outdoor\n",
      "36\n",
      "50+ bought in past month\n",
      "$16\n",
      "79\n",
      "Save 50% with coupon\n",
      "FREE delivery Thu, Dec 7 on $35 of items shipped by Amazon\n",
      "Or fastest delivery Tue, Dec 5\n",
      "Only 2 left in stock - order soon.\n",
      "Thanksgiving Decor Supplies Turkey Thanksgiving Decorations Hanging Thanksgiving Party Decorations for Office,Classroom,Home Decor\n",
      "7\n",
      "900+ bought in past month\n",
      "$12\n",
      "99\n",
      "FREE delivery Thu, Dec 7 on $35 of items shipped by Amazon\n",
      "Or fastest delivery Tue, Dec 5\n",
      "Only 5 left in stock - order soon.\n",
      "MAQIHAN 350PCS Fall Maple Leaves - Autumn Fall Maple Leaf Garland hojas de otoño para decorar Foliage Artificial Table Decoration Faux Fake Loose Leaves Outdoor Decor Halloween Thanksgiving Photo Prop\n",
      "3\n",
      "200+ bought in past month\n",
      "$5\n",
      "99 ($0.02/Count) Typical:\n",
      "$6.99\n",
      "FREE delivery Thu, Dec 7 on $35 of items shipped by Amazon\n",
      "Or fastest delivery Tue, Dec 5\n",
      "DearHouse 2 Pack Fall Garland Maple Leaf Clearance, 5.9Ft/Piece Hanging Vine Garland Artificial Autumn Foliage Garland Thanksgiving Decor for Home Wedding Fireplace Party Christmas\n",
      "7,279\n",
      "7K+ bought in past month\n",
      "Save 19%\n",
      "$12\n",
      "99 Typical:\n",
      "$15.99\n",
      "Lowest price in 30 days\n",
      "FREE delivery Thu, Dec 7 on $35 of items shipped by Amazon\n",
      "Or fastest delivery Tue, Dec 5\n",
      "Give Thanks Banner Orange Paper Triangle Flag Bunting Maple Leaf Hanging Garland and Paper Fan Flower Swirl Streamers for Thanksgiving Theme Party Decoration\n",
      "47\n",
      "1K+ bought in past month\n",
      "$11\n",
      "99 ($11.99/Count)\n",
      "FREE delivery Thu, Dec 7 on $35 of items shipped by Amazon\n",
      "Or fastest delivery Tue, Dec 5\n",
      "FANCY LAND 15PCS Thanksgiving Eyeglasses Turkey Eyewear Frame Thanksgiving Party Favors Photo Booth Props for Kids Adults Thanksgiving Decorations\n",
      "3\n",
      "400+ bought in past month\n",
      "$6\n",
      "99 List:\n",
      "$7.99\n",
      "FREE delivery Thu, Dec 7 on $35 of items shipped by Amazon\n",
      "Or fastest delivery Tue, Dec 5\n",
      "QuanYaaJoy 2Pcs Thanksgiving Turkey Gnomes, Handmade Gnomes Fall Decor Indoor, Pumpkin Acorn Maple Leaf Black top hat Plush Autumn Thanksgiving Day Decorations for Home，gnome with Colorful Wings\n",
      "50\n",
      "100+ bought in past month\n",
      "$9\n",
      "99 Typical:\n",
      "$15.99\n",
      "FREE delivery Thu, Dec 7 on $35 of items shipped by Amazon\n",
      "Or fastest delivery Tue, Dec 5\n",
      "2 Pack Thanksgiving Decorations Maple Leaf Lights Garland Multicolored, 20Ft 40LED Battery Operated Fall Leaves Garland with Light String Wedding Autumn Harvest Table Porch Indoor Xmas Home Fall Decor\n",
      "1,250\n",
      "$9\n",
      "99\n",
      "FREE delivery Thu, Dec 7 on $35 of items shipped by Amazon\n",
      "Or fastest delivery Tue, Dec 5\n",
      "202Pcs Thanksgiving Disposable Tableware Set Orange Party Decorations Serve 24 Paper Plates Napkins Cups Maple Leaf Balloons Banners Plastic Tablecloths dinnerware for Fall Thanksgiving Party Supplies\n",
      "65\n",
      "800+ bought in past month\n",
      "$26\n",
      "99\n",
      "FREE delivery Thu, Dec 7 on $35 of items shipped by Amazon\n",
      "Or fastest delivery Tue, Dec 5\n",
      "Only 9 left in stock - order soon.\n",
      "Artificial Fall Lighted Maple Tree 24 LED Thanksgiving Decorations Table Lights Battery Operated for Wedding Party Gifts Indoor Outdoor Autumn Harvest Home Decor\n",
      "1,326\n",
      "2K+ bought in past month\n",
      "$12\n",
      "99 List:\n",
      "$25.99\n",
      "Save 10% with coupon\n",
      "FREE delivery Thu, Dec 7 on $35 of items shipped by Amazon\n",
      "Or fastest delivery Tue, Dec 5\n",
      "Sponsored\n",
      "iStatue Fall Harvest Owl Ornaments - 7’’ Resin Craft with Red Scarf and Pumpkin - Thanksgiving Table Decorations Centerpieces Decor for Shelf/Desk/Home/Office/Garden (Owl)\n",
      "28\n",
      "300+ bought in past month\n",
      "Limited time deal\n",
      "$8\n",
      "99 List:\n",
      "$29.99\n",
      "FREE delivery Thu, Dec 7 on $35 of items shipped by Amazon\n",
      "Or fastest delivery Tue, Dec 5\n",
      "More results\n",
      "Beistle Decorative Thanksgiving Playmates, 4-Inch-5-Inch, Multicolor, 4-Pack\n",
      "1,260\n",
      "3K+ bought in past month\n",
      "$5\n",
      "94 ($1.49/Count) List:\n",
      "$8.99\n",
      "FREE delivery Thu, Dec 7 on $35 of items shipped by Amazon\n",
      "Or fastest delivery Tue, Dec 5\n",
      "More Buying Choices\n",
      "$4.94(7 new offers)\n",
      "GIVE THANKS Hanging Banner Porch Sign Autumn Pumpkin Maple Leaf Backdrop Flag Fall Harvest Welcome Banner For Indoor Outdoor Wall Door Decoration Thanksgiving Party Decorations 72\"x12\"\n",
      "1,224\n",
      "3K+ bought in past month\n",
      "$6\n",
      "98 Typical:\n",
      "$8.98\n",
      "FREE delivery Thu, Dec 7 on $35 of items shipped by Amazon\n",
      "Or fastest delivery Tue, Dec 5\n",
      "Thankful for You Banner, Glitter Thanksgiving Banner for Mantel Font Porch, Thanksgiving Banner Decorations, Fall Thanksgiving Party Decorations, Indoor Home Thanksgiving Decorations (Pre-Assembled)\n",
      "207\n",
      "4K+ bought in past month\n",
      "Save 65%\n",
      "$8\n",
      "99 List:\n",
      "$25.99\n",
      "Lowest price in 30 days\n",
      "FREE delivery Thu, Dec 7 on $35 of items shipped by Amazon\n",
      "Or fastest delivery Tue, Dec 5\n",
      "YQUQWN, Happy Thanksgiving Banner - Xtralarge, 72x44 Inch, Thanksgiving Decorations, Happy Thanksgiving Backdrop, Fall Decorations, Thanksgiving Wall Banner, Thanksgiving Party Decorations\n",
      "1\n",
      "$9\n",
      "99\n",
      "FREE delivery Thu, Dec 7 on $35 of items shipped by Amazon\n",
      "Or fastest delivery Tue, Dec 5\n",
      "Only 9 left in stock - order soon.\n",
      "Fall Thanksgiving Party favors, 24 Pack Turkey Thanksgivings Glasses Photo Props Holiday Eyeglasses Frames Thanksgiving Accessories Gifts for Kids Adult Fall Thanksgiving Harvest Party Decorations\n",
      "700+ bought in past month\n",
      "$9\n",
      "99\n",
      "FREE delivery Thu, Dec 7 on $35 of items shipped by Amazon\n",
      "Or fastest delivery Tue, Dec 5\n",
      "+1 colors/patterns\n",
      "Sponsored\n",
      "Neatiffy 225 Pcs Gold Rim Disposable Plastic Dinnerware Set (25 Guest) | 25 x (Dinner Plate, Dessert Plate, Gold Plastic Silverware, Cup, Napkin, Straw) | For Wedding, Luxurious Party, Special Event\n",
      "72\n",
      "300+ bought in past month\n",
      "$49\n",
      "97 List:\n",
      "$59.97\n",
      "$44.97 with Subscribe & Save discount\n",
      "FREE delivery Thu, Dec 7\n",
      "Or fastest delivery Tue, Dec 5\n",
      "Sponsored\n",
      "Funnlot Fall Decorations-Fall Window Clings, Thanksgiving Window Clings for Glass 324 PCS Thanksgiving Clings for Windows Fall Window Stickers Thanksgiving Home Office Decorations\n",
      "2,882\n",
      "800+ bought in past month\n",
      "$6\n",
      "99 List:\n",
      "$9.99\n",
      "FREE delivery Thu, Dec 7 on $35 of items shipped by Amazon\n",
      "Or fastest delivery Tue, Dec 5\n",
      "Sponsored\n",
      "12pcs 86FT Artificial Maple Leaves Garland with 100 LED String Light Hanging Vines Plants Autumn Fall Fake Maple Foliage Leaf Vine, for Wedding Table Garden Indoor Outdoor Decoration\n",
      "52\n",
      "$12\n",
      "67 ($1.06/Count) Typical:\n",
      "$13.67\n",
      "Join Prime to buy this item at $10.01\n",
      "FREE delivery Thu, Dec 7 on $35 of items shipped by Amazon\n",
      "Or fastest delivery Tue, Dec 5\n",
      "+14 colors/patterns\n",
      "Sponsored\n",
      "maxmill Rectangle Slubby Textured Tablecloth Waterproof Spillproof Wrinkle Free Fall Table Cloth, Kitchen Dining Room Thanksgiving Decoration, Fabric Table Cover Halloween Party, 52 x 70 Inch, Rust\n",
      "367\n",
      "400+ bought in past month\n",
      "$15\n",
      "99\n",
      "Save 15% with coupon\n",
      "FREE delivery Thu, Dec 7 on $35 of items shipped by Amazon\n",
      "Or fastest delivery Tue, Dec 5\n",
      "Options:\n",
      "9 sizes\n",
      "Thanksgiving Party Decorations - Pre-Assembled 12 Hanging Swirls Garland with GIVE Thanks Banner and Assorted Fall Theme\n",
      "2\n",
      "600+ bought in past month\n",
      "$5\n",
      "99 List:\n",
      "$7.99\n",
      "FREE delivery Thu, Dec 7 on $35 of items shipped by Amazon\n",
      "Or fastest delivery Tue, Dec 5\n",
      "Feybxla 2 Pack Maple Leaf String Lights for Fall Decor, Total 20ft/60 LED Realistic Fall Leaves Fall Lights, Waterproof Battery Operated Fall Decorations Thanksgiving Halloween Indoor Outdoor\n",
      "LED\n",
      "69\n",
      "600+ bought in past month\n",
      "$10\n",
      "99 Typical:\n",
      "$20.99\n",
      "FREE delivery Thu, Dec 7 on $35 of items shipped by Amazon\n",
      "Or fastest delivery Tue, Dec 5\n",
      "More Buying Choices\n",
      "$9.49(2 used & new offers)\n",
      "110 PCS Dried Pampas Grass Bouquet, Boho Table Decor, Bunny Tails Dried Flowers, Brown Pompas, White Pampas Grass for Wedding, Home, Rustic Party, Baby Shower Decorations\n",
      "1,461\n",
      "7K+ bought in past month\n",
      "$15\n",
      "98 ($0.15/Item) List:\n",
      "$27.98\n",
      "Save 10% with coupon\n",
      "FREE delivery Thu, Dec 7 on $35 of items shipped by Amazon\n",
      "Or fastest delivery Tue, Dec 5\n",
      "Famoby Happy Thanksgiving Fabric Sign Poster Banner Backdrop and Pumpkin Turkey Maple Leaf Pattern for Thanksgiving Day Photo Booth Background Party Decoration\n",
      "15\n",
      "1K+ bought in past month\n",
      "$6\n",
      "99 Typical:\n",
      "$8.99\n",
      "FREE delivery Thu, Dec 7 on $35 of items shipped by Amazon\n",
      "Or fastest delivery Tue, Dec 5\n",
      "Sponsored\n",
      "Fall Decor 14Ft 40 LED 80 Leaves Lighted Fall Garland for Home Mantle Decor 2 Mode Fall Leaves Garland with Lights Christmas Decorations Battery Operated Fall Led String Lights Autumn Halloween Decor\n",
      "103\n",
      "Save 40%\n",
      "$11\n",
      "99 List:\n",
      "$19.99\n",
      "Lowest price in 30 days\n",
      "FREE delivery Thu, Dec 7 on $35 of items shipped by Amazon\n",
      "Or fastest delivery Tue, Dec 5\n",
      "Only 5 left in stock - order soon.\n",
      "Sponsored\n",
      "Miles Kimball Pilgrim Boy and Girl Metal Lawn Stakes Set by Maple Lane Creations, Thanksgiving Yard Décor\n",
      "474\n",
      "$40\n",
      "27\n",
      "Save 5% with coupon\n",
      "FREE delivery Dec 11 - 18\n",
      "Or fastest delivery Dec 8 - 11\n",
      "Sponsored\n",
      "2 Pack Maple Leaf Lights, Thanksgiving Decorations for Home, Leaves Garland with Lights, Total 30Ft 60LED Fall Leaf Decor String Lights, Thanksgiving Christmas Halloween Decorations Indoor Outdoor\n",
      "Thanksgiving Christmas\n",
      "34\n",
      "$9\n",
      "99\n",
      "FREE delivery Thu, Dec 7 on $35 of items shipped by Amazon\n",
      "Or fastest delivery Tue, Dec 5\n",
      "Sponsored\n",
      "Mini Glass Pumpkins for Decorating - Set of 3 Fall Pumpkin Decorations, LED Lights Inside, Orange Mercury Glass, Battery Operated, Thanksgiving Decor, Halloween Decoration\n",
      "231\n",
      "500+ bought in past month\n",
      "$34\n",
      "99\n",
      "FREE delivery Thu, Dec 7 on $35 of items shipped by Amazon\n",
      "Or fastest delivery Tue, Dec 5\n",
      "Famoby GIVE THANKS Burlap Banner Paper Triangular Bunting Maple leaf Garland Plastic Streamer for Autumn Harvest Thanksgiving Day Party Decoration\n",
      "7\n",
      "800+ bought in past month\n",
      "$12\n",
      "99 Typical:\n",
      "$14.99\n",
      "FREE delivery Thu, Dec 7 on $35 of items shipped by Amazon\n",
      "Or fastest delivery Tue, Dec 5\n",
      "JOYIN 24 Pcs Thanksgiving Turkey Eyeglasses, Turkey Eyewear Frame Pumpkin Maple Leaves Photo Props for Kids Thanksgiving Harvest Party Decoration and Thanksgiving Day Accessories (One Size Fits All)\n",
      "369\n",
      "1K+ bought in past month\n",
      "Save 54%\n",
      "$5\n",
      "99 Typical:\n",
      "$12.99\n",
      "Lowest price in 30 days\n",
      "FREE delivery Thu, Dec 7 on $35 of items shipped by Amazon\n",
      "Or fastest delivery Tue, Dec 5\n",
      "OCATO 4PCS Fall Decor Thanksgiving Decorations for Home Table, Fall Leaves Garland Lights 40FT 80LED Halloween Indoor Outdoor Fall Home Room Decor Autumn Harvest Party Wedding Decorations\n",
      "LED\n",
      "725\n",
      "$13\n",
      "99 ($0.35/Foot)\n",
      "Join Prime to buy this item at $11.99\n",
      "FREE delivery Thu, Dec 7 on $35 of items shipped by Amazon\n",
      "Or fastest delivery Tue, Dec 5\n",
      "Thanksgiving Pumpkin Tea Lights Decorations, 12 Pack LED Orange Pumpkin Lights Flameless Candles Battery Operated, Fall Halloween Flickering Tealight Candle for Home Table Indoor Night Party Decor\n",
      "46\n",
      "$9\n",
      "99 ($0.83/Count)\n",
      "FREE delivery Thu, Dec 7 on $35 of items shipped by Amazon\n",
      "Or fastest delivery Tue, Dec 5\n",
      "Sponsored\n",
      "Thanksgiving Fall Party Supplies - 175 PCS Thanksgiving Autumn Disposable Dinnerware Set (25 Guest) with Maple Leaves Gold Paper Plates Napkins Cups Plastic Forks Knives Spoon for Harvest Celebrations\n",
      "21\n",
      "400+ bought in past month\n",
      "Save 41%\n",
      "$19\n",
      "99 Typical:\n",
      "$33.99\n",
      "Save more with Subscribe & Save\n",
      "Save 20% with coupon\n",
      "FREE delivery Thu, Dec 7 on $35 of items shipped by Amazon\n",
      "Or fastest delivery Tue, Dec 5\n",
      "Only 12 left in stock - order soon.\n",
      "Sponsored\n",
      "iStatue Fall Harvest Owl Ornaments - 7’’ Resin Craft with Red Scarf and Pumpkin - Thanksgiving Table Decorations Centerpieces Decor for Shelf/Desk/Home/Office/Garden (Owl)\n",
      "28\n",
      "300+ bought in past month\n",
      "Limited time deal\n",
      "$8\n",
      "99 List:\n",
      "$29.99\n",
      "FREE delivery Thu, Dec 7 on $35 of items shipped by Amazon\n",
      "Or fastest delivery Tue, Dec 5\n",
      "Sponsored\n",
      "Thanksgiving Party Decorations - 291 PCS Fall Birthday Party Supplies Disposable Dinnerware Set(25 Guest) with Maple Leaf Paper Plates Napkin Tablecloth Backdrop Balloon Garland Kit for Autumn Holiday\n",
      "13\n",
      "600+ bought in past month\n",
      "Save 21%\n",
      "$29\n",
      "99 Typical:\n",
      "$37.99\n",
      "Save 20% with coupon\n",
      "FREE delivery Thu, Dec 7 on $35 of items shipped by Amazon\n",
      "Or fastest delivery Tue, Dec 5\n",
      "Ages: 6 years and up\n",
      "2 Pack Fall Decor for Home Thanksgiving Decorations Lighted Fall Garland Maple Leaves Total 11.8FT 40 LED Battery Operated Indoor Outdoor String Lights Garland Autumn Harvest Party Halloween Décor\n",
      "LED\n",
      "346\n",
      "2K+ bought in past month\n",
      "$17\n",
      "99 List:\n",
      "$24.99\n",
      "FREE delivery Thu, Dec 7 on $35 of items shipped by Amazon\n",
      "Or fastest delivery Tue, Dec 5\n",
      "Large Thanksgiving Banner Decorations Outdoor 72x44 Inch,Turkey Maple Leaf Pumpkin Decorations Gifts for Indoor Home House Decor Party Supplies,Yard Sign Background for Photography\n",
      "158\n",
      "$9\n",
      "99\n",
      "FREE delivery Thu, Dec 7 on $35 of items shipped by Amazon\n",
      "Or fastest delivery Tue, Dec 5\n",
      "CKE 24 Inch Artificial Fall Tree Lighted Maple Tree Battery USB Operated w/Timer, 24 LED Thanksgiving Decorations Table Lights Tree for Autumn Wedding Party Gift Indoor Outdoor Harvest Home Decoration\n",
      "246\n",
      "500+ bought in past month\n",
      "$18\n",
      "99 Typical:\n",
      "$25.99\n",
      "FREE delivery Thu, Dec 7 on $35 of items shipped by Amazon\n",
      "Or fastest delivery Tue, Dec 5\n",
      "Thanksgiving Decorations Pre-Assembled GIVE THANKS Banner Hanging Swirls for Indoor Outdoor Thanksgiving Decor Thanksgiving Decorations for Home\n",
      "70\n",
      "500+ bought in past month\n",
      "$15\n",
      "99 List:\n",
      "$17.91\n",
      "FREE delivery Thu, Dec 7 on $35 of items shipped by Amazon\n",
      "Or fastest delivery Tue, Dec 5\n",
      "XiA MiLL 7P Fall Decor Fall Decorations for Home Thanksgiving Decorations Fall Tiered Tray Decor Bundle for Thanksgiving Harvest Day Tabletop Collection, Kitchen Living Room Bedroom (Tray NOT Included)\n",
      "3\n",
      "$2\n",
      "99 Typical:\n",
      "$9.99\n",
      "FREE delivery Thu, Dec 7 on $35 of items shipped by Amazon\n",
      "Or fastest delivery Tue, Dec 5\n",
      "Only 7 left in stock - order soon.\n",
      "68 Pieces Thanksgiving Decorations, Thanksgiving Decor Include Givethanks Banner Thanksgiving Hanging Paper Fan Flower Maple Leaf Shaped Foil Balloon, Thanksgiving Decorations Indoor Party Decorations\n",
      "100+ bought in past month\n",
      "$19\n",
      "98 Typical:\n",
      "$22.98\n",
      "FREE delivery Thu, Dec 7 on $35 of items shipped by Amazon\n",
      "Or fastest delivery Tue, Dec 5\n",
      "Ages: 12 years and up\n",
      "Give Thanks Burlap Banner, Thanksgiving Banner Burlap, Thanksgiving Decorations, Reusable Pre-Strung Thanksgiving Decoration for Thanksgiving Party Supplies Fireplace Mantle Home Decor\n",
      "239\n",
      "300+ bought in past month\n",
      "Save 38%\n",
      "$9\n",
      "99 List:\n",
      "$15.99\n",
      "Lowest price in 30 days\n",
      "FREE delivery Thu, Dec 7 on $35 of items shipped by Amazon\n",
      "Or fastest delivery Tue, Dec 5\n",
      "Big Dipper Wax Works Red Candles, Hand Dipped Beeswax Taper Candles, 12-Hour Long Burn, Pure Beeswax Candle 12\" x 7/8\"\n",
      "47\n",
      "200+ bought in past month\n",
      "$12\n",
      "49\n",
      "$9.95 for 2-hour delivery with Prime\n",
      "kakoya Flameless LED Candles with Timer 5 Pc Flickering Flameless Candles for Romantic Ambiance and Home Decoration Durable Acrylic Shell,with Embedded Star String，Battery Operated Candles（Grey）\n",
      "369\n",
      "$27\n",
      "99 List:\n",
      "$39.99\n",
      "Save 10% with coupon\n",
      "FREE delivery Thu, Dec 7 on $35 of items shipped by Amazon\n",
      "Or fastest delivery Tue, Dec 5\n",
      "[8 Lighting Modes & Timer] 2Pcs Table Fall Decor Thanksgiving Decorations for Home Fall Garland with 1Pcs String Light 40LED Indoor Outdoor for Home Porch Autumn Halloween\n",
      "38\n",
      "300+ bought in past month\n",
      "$17\n",
      "99 ($9.00/Count)\n",
      "Join Prime to buy this item at $13.98\n",
      "FREE delivery Thu, Dec 7 on $35 of items shipped by Amazon\n",
      "Or fastest delivery Tue, Dec 5\n",
      "More Buying Choices\n",
      "$16.19(4 used & new offers)\n",
      "Iconikal 2-Piece Toilet Seat Cling Decoration Set, Thanksgiving Turkey\n",
      "94\n",
      "900+ bought in past month\n",
      "$3\n",
      "99 ($2.00/Count)\n",
      "FREE delivery Thu, Dec 7 on $35 of items shipped by Amazon\n",
      "Or fastest delivery Tue, Dec 5\n",
      "Thanksgiving Turkey Candle Holder, Set of 4 Tea Light Candles Holders Holiday Candlestick Autumn Thanksgiving Decoration for Home, Table, Fireplace, Window\n",
      "44\n",
      "600+ bought in past month\n",
      "$19\n",
      "99 Typical:\n",
      "$22.99\n",
      "FREE delivery Thu, Dec 7 on $35 of items shipped by Amazon\n",
      "Or fastest delivery Tue, Dec 5\n",
      "BLIKA 2 Pack Maple Tree Light for Fall Thanksgiving, 24\"/2FT Lighted Maple Tree, Artificial Fall Lighted Maple Tree, Fall Tree Lights with Acorn & Pine Cones, Thanksgiving Decorations for Home\n",
      "163\n",
      "600+ bought in past month\n",
      "$25\n",
      "99\n",
      "Save 20% with coupon\n",
      "FREE delivery Thu, Dec 7 on $35 of items shipped by Amazon\n",
      "Or fastest delivery Tue, Dec 5\n",
      "DawnHope Thanksgiving Decorations Fall Theme Party Supplies Paper Plates and Napkins with Tablecloth, Balloons, Stickers, Maple Leaves and Cupcake Toppers for Autumn Table Indoor Decor, Serves 24\n",
      "91\n",
      "700+ bought in past month\n",
      "$27\n",
      "99\n",
      "FREE delivery Thu, Dec 7 on $35 of items shipped by Amazon\n",
      "Or fastest delivery Tue, Dec 5\n",
      "Only 5 left in stock - order soon.\n",
      "Ages: 12 years and up\n",
      "Palmatte 4 Pack Thanksgiving Fall Decorations for Home Porch, Indoor Outdoor Fall Decor Autumn Harvest Garland Leaves 5.8ft Fake Vines Room Decor Fall Wedding Party Decorations Halloween Décor (Red)\n",
      "258\n",
      "200+ bought in past month\n",
      "$19\n",
      "99\n",
      "FREE delivery Thu, Dec 7 on $35 of items shipped by Amazon\n",
      "Or fastest delivery Tue, Dec 5\n",
      "Thanksgiving Party Decorations Gold Thanksgiving Foil Balloon Banner, 3 Packs Fall Maple Leaf Garland with Lights, Gold Orange Fringe Curtain, Paper Pompoms，Balloons for Fall Autumn Party Decor\n",
      "12\n",
      "300+ bought in past month\n",
      "$22\n",
      "99\n",
      "FREE delivery Thu, Dec 7 on $35 of items shipped by Amazon\n",
      "Or fastest delivery Tue, Dec 5\n",
      "Ages: 24 months - 3 years\n",
      "YJDFWAUT Thanksgiving Party Decorations Supplies, Thanksgiving Banner Hanging Swirls for Autumn Holiday, Turkey Autumn Hanging Decorations, Thanksgiving Foil Fringe Curtain Balloon Garland\n",
      "2\n",
      "300+ bought in past month\n",
      "$27\n",
      "99\n",
      "FREE delivery Thu, Dec 7 on $35 of items shipped by Amazon\n",
      "Or fastest delivery Tue, Dec 5\n",
      "Ages: 12 months and up\n",
      "Keketo Cheesecloth Table Runner Terracotta Rust Gauze 120 Inch 10 FT Rustic Cheese Cloth Runner for Wedding Baby Shower Bridal Shower Birthday Party Boho Long Sheer Fall Christmas Home Decorations\n",
      "16\n",
      "1K+ bought in past month\n",
      "$12\n",
      "99 List:\n",
      "$18.99\n",
      "FREE delivery Thu, Dec 7 on $35 of items shipped by Amazon\n",
      "Or fastest delivery Tue, Dec 5\n",
      "3 Pack Thanksgiving Day Fall Spray Centerpieces-Balloon Weight Centerpieces Gold Orange Metallic Strands Die-Cut Foil Autumn Leaves Centerpieces Thanksgiving Day Party Supplies Table Decorations\n",
      "1\n",
      "100+ bought in past month\n",
      "$16\n",
      "99 Typical:\n",
      "$17.99\n",
      "FREE delivery Thu, Dec 7 on $35 of items shipped by Amazon\n",
      "Or fastest delivery Tue, Dec 5\n",
      "Only 1 left in stock - order soon.\n",
      "Ages: 14 years and up\n",
      "Best Seller\n",
      "winemana Thanksgiving Artificial Pumpkins Fall Decorations for Home, 50Pcs Decor- 30 Leaves, 10 Acorns, 2 Pinecones, 8 Fake Pumpkins, Harvest Farmhouse Table Tiered Tray Set\n",
      "7,206\n",
      "3K+ bought in past month\n",
      "$14\n",
      "99 List:\n",
      "$16.99\n",
      "FREE delivery Thu, Dec 7 on $35 of items shipped by Amazon\n",
      "Or fastest delivery Tue, Dec 5\n",
      "Fecedy Happy Thanksgiving Hanging Extra Large Fabric Sign Poster Background Banner with Pumpkin Maple Leaves Turkey Pattern for Thanksgiving Day Autumn Harvest Decorations 43.3\"x70.8\"\n",
      "185\n",
      "800+ bought in past month\n",
      "$6\n",
      "99\n",
      "FREE delivery Thu, Dec 7 on $35 of items shipped by Amazon\n",
      "Or fastest delivery Tue, Dec 5\n",
      "Ogrmar 15 Inch 2 Pack Stuffed Turkey Couple Doll Thanksgiving Tabletop Decorations Exquisite Handmade Turkey Plush Doll Kit for Autumn Harvest Home and Room Table Ornaments\n",
      "191\n",
      "800+ bought in past month\n",
      "$17\n",
      "99 List:\n",
      "$22.99\n",
      "FREE delivery Thu, Dec 7 on $35 of items shipped by Amazon\n",
      "Or fastest delivery Tue, Dec 5\n",
      "CYNOSA Fall Decorations for Home Blessed Grateful Thankful Fall Decor Wooden Pumpkin Tabletop Signs for Home Thanksgiving Farmhouse Living Room Harvest\n",
      "172\n",
      "600+ bought in past month\n",
      "Save 6%\n",
      "$15\n",
      "99 Typical:\n",
      "$16.99\n",
      "Lowest price in 30 days\n",
      "FREE delivery Thu, Dec 7 on $35 of items shipped by Amazon\n",
      "Or fastest delivery Tue, Dec 5\n",
      "Give Thanks Burlap Banner| ThanksGiving Burlap Banner Thanksgiving Decorations| Rustic Thanksgiving Turkey Pumpkin Bunting| Thanksgiving Party Supplies Fireplace Mantle Decor\n",
      "270\n",
      "400+ bought in past month\n",
      "$9\n",
      "99\n",
      "FREE delivery Thu, Dec 7 on $35 of items shipped by Amazon\n",
      "Or fastest delivery Tue, Dec 5\n",
      "Only 12 left in stock - order soon.\n",
      "Ages: 13 years and up\n",
      "Gobble Till You Wobble Banner Thanksgiving Party Banner, Friendsgiving Banner Funny Thanksgiving Banner Decorations for Friends Friendsgiving Thanksgiving Party Decorations\n",
      "7\n",
      "100+ bought in past month\n",
      "$11\n",
      "99\n",
      "FREE delivery Thu, Dec 7 on $35 of items shipped by Amazon\n",
      "Or fastest delivery Tue, Dec 5\n",
      "Related searches\n",
      "thanksgiving tablecloth\n",
      "thanksgiving decorations outdoor\n",
      "halloween decorations\n",
      "thanksgiving decorations for table\n",
      "christmas decorations\n",
      "thanksgiving plates\n",
      "Previous123...7Next\n",
      "Brands related to your search\n",
      "Sponsored\n",
      "Pumpkin Decorations for Your Fall Table\n",
      "Shop LampLust \n",
      "Artificial Berry Garland with Pine Cone Decoration\n",
      "Shop RECUTMS \n",
      "Need help?\n",
      "Visit the help section or contact us\n",
      "Sponsored\n"
     ]
    }
   ],
   "source": [
    "print(decorations_location.text)"
   ]
  },
  {
   "cell_type": "code",
   "execution_count": 7,
   "id": "0b225ef6",
   "metadata": {},
   "outputs": [
    {
     "name": "stdout",
     "output_type": "stream",
     "text": [
      "\n"
     ]
    }
   ],
   "source": [
    "print(item_location[0].get_attribute('data-asin'))"
   ]
  },
  {
   "cell_type": "code",
   "execution_count": 8,
   "id": "e7e84b3a",
   "metadata": {},
   "outputs": [],
   "source": [
    "#items = [i for i in item_location if i.get_attribute('data-asin') != None]\n",
    "items = [i for i in item_location if len(i.get_attribute('data-asin')) > 0]"
   ]
  },
  {
   "cell_type": "code",
   "execution_count": 9,
   "id": "8ea5ddd5",
   "metadata": {},
   "outputs": [
    {
     "name": "stdout",
     "output_type": "stream",
     "text": [
      "Sponsored\n",
      "Thanksgiving Party Decorations Fall Party Hanging Paper Lantern Give Thanks Banner Turkey Pumpkins Maple Leaf for Autumn Birthday Baby Showers Home Decor Indoor Outdoor\n",
      "6\n",
      "100+ bought in past month\n",
      "$18\n",
      "99 Typical:\n",
      "$19.99\n",
      "FREE delivery Thu, Dec 7 on $35 of items shipped by Amazon\n",
      "Or fastest delivery Tue, Dec 5\n"
     ]
    }
   ],
   "source": [
    "print(items[0].text)"
   ]
  },
  {
   "cell_type": "code",
   "execution_count": 10,
   "id": "9f961ccb",
   "metadata": {},
   "outputs": [
    {
     "data": {
      "text/plain": [
       "'https://www.amazon.com/UArtlines-Artificial-Garlands-Thanksgiving-Fireplace/dp/B0C6K9WSLT/ref=sr_1_2?keywords=thanksgiving+decorations&qid=1701472125&sr=8-2'"
      ]
     },
     "execution_count": 10,
     "metadata": {},
     "output_type": "execute_result"
    }
   ],
   "source": [
    "items[1].find_element(By.CLASS_NAME, 'a-link-normal').get_attribute('href')"
   ]
  },
  {
   "cell_type": "code",
   "execution_count": 11,
   "id": "c8053d6f",
   "metadata": {},
   "outputs": [],
   "source": [
    "#links = []\n",
    "#for i in items:\n",
    "#   links.append(i.find_element(By.CLASS_NAME, 'a-link-normal').get_attribute('href'))"
   ]
  },
  {
   "cell_type": "code",
   "execution_count": 12,
   "id": "c91c4fe4",
   "metadata": {},
   "outputs": [],
   "source": [
    "#links[:10]"
   ]
  },
  {
   "cell_type": "code",
   "execution_count": 13,
   "id": "5da6439d",
   "metadata": {},
   "outputs": [
    {
     "data": {
      "text/plain": [
       "7"
      ]
     },
     "execution_count": 13,
     "metadata": {},
     "output_type": "execute_result"
    }
   ],
   "source": [
    "page_number = int(driver.find_element(By.XPATH, '//span[@class=\"s-pagination-item s-pagination-disabled\"][@aria-disabled=\"true\"]').text)\n",
    "page_number"
   ]
  },
  {
   "cell_type": "code",
   "execution_count": 14,
   "id": "cbb32333",
   "metadata": {},
   "outputs": [],
   "source": [
    "#driver.find_element(By.XPATH, '//a[@class=\"s-pagination-item s-pagination-next s-pagination-button s-pagination-separator\"]').click()"
   ]
  },
  {
   "cell_type": "code",
   "execution_count": 15,
   "id": "9922b3d3",
   "metadata": {},
   "outputs": [
    {
     "name": "stdout",
     "output_type": "stream",
     "text": [
      "60\n",
      "0\n",
      "120\n",
      "1\n",
      "180\n",
      "2\n",
      "240\n",
      "3\n",
      "300\n",
      "4\n",
      "360\n",
      "5\n",
      "390\n",
      "6\n"
     ]
    }
   ],
   "source": [
    "links = []\n",
    "for i in range(page_number):\n",
    "    wait.until(EC.visibility_of_element_located((By.XPATH, '//span[@class=\"s-pagination-item s-pagination-selected\"]')))\n",
    "    decorations_location = driver.find_element(By.XPATH, '//div[@id=\"search\"]/div[1]/div[1]/div/span/div[1]')\n",
    "    item_location = decorations_location.find_elements(By.XPATH, 'div')\n",
    "    items = [i for i in item_location if len(i.get_attribute('data-asin')) > 0]\n",
    "    \n",
    "    #cur_url = driver.current_url\n",
    "    #print(cur_url)\n",
    "\n",
    "    for j in items:\n",
    "        links.append(j.find_element(By.CLASS_NAME, 'a-link-normal').get_attribute('href'))\n",
    "    print(len(links))\n",
    "    \n",
    "    print(i)\n",
    "    if i != page_number-1:\n",
    "        button = driver.find_element(By.XPATH, '//a[@class=\"s-pagination-item s-pagination-next s-pagination-button s-pagination-separator\"]')\n",
    "        hover = ActionChains(driver).move_to_element(button)\n",
    "        hover.perform()\n",
    "        button.click()"
   ]
  },
  {
   "cell_type": "code",
   "execution_count": 16,
   "id": "a030f8f9",
   "metadata": {},
   "outputs": [
    {
     "name": "stdout",
     "output_type": "stream",
     "text": [
      "https://www.amazon.com/s?k=thanksgiving+decorations&page=7&qid=1701472188&ref=sr_pg_6\n"
     ]
    }
   ],
   "source": [
    "cur_url = driver.current_url\n",
    "print(cur_url)\n",
    "# for loop to go through the links and extract data"
   ]
  },
  {
   "cell_type": "code",
   "execution_count": 17,
   "id": "67f33768",
   "metadata": {},
   "outputs": [],
   "source": [
    "#driver.get(links[0])"
   ]
  },
  {
   "cell_type": "code",
   "execution_count": 18,
   "id": "892eda41",
   "metadata": {},
   "outputs": [],
   "source": [
    "#page = driver.page_source\n",
    "#soup = BeautifulSoup(page, \"lxml\")"
   ]
  },
  {
   "cell_type": "code",
   "execution_count": 19,
   "id": "9f431853",
   "metadata": {},
   "outputs": [],
   "source": [
    "#print(soup.prettify())"
   ]
  },
  {
   "cell_type": "code",
   "execution_count": 20,
   "id": "17d13631",
   "metadata": {},
   "outputs": [],
   "source": [
    "#soup.body.div.find_all(\"div\")[250:]"
   ]
  },
  {
   "cell_type": "code",
   "execution_count": 21,
   "id": "e1da660a",
   "metadata": {},
   "outputs": [],
   "source": [
    "#lawn = [i for i in soup.body.div.find_all(\"div\") if \"lawn_and_garden en_US\" in str(i)]\n",
    "#lawn = lawn[0]"
   ]
  },
  {
   "cell_type": "code",
   "execution_count": 22,
   "id": "47bc7b27",
   "metadata": {},
   "outputs": [],
   "source": [
    "#lawn = soup.find(class_=\"lawn_and_garden en_US\")"
   ]
  },
  {
   "cell_type": "code",
   "execution_count": 23,
   "id": "308cda53",
   "metadata": {},
   "outputs": [],
   "source": [
    "#lawn.find(id=\"productTitle\").text.strip()"
   ]
  },
  {
   "cell_type": "code",
   "execution_count": 24,
   "id": "b50f527d",
   "metadata": {},
   "outputs": [],
   "source": [
    "#lawn.find(id=\"averageCustomerReviews\").text.strip()[0:3]"
   ]
  },
  {
   "cell_type": "code",
   "execution_count": 25,
   "id": "a4ae5ed3",
   "metadata": {},
   "outputs": [],
   "source": [
    "#lawn.find(id=\"acrCustomerReviewText\").text.strip().split()[0]"
   ]
  },
  {
   "cell_type": "code",
   "execution_count": 26,
   "id": "274a9e0a",
   "metadata": {},
   "outputs": [],
   "source": [
    "#lawn.find(class_=\"a-offscreen\").text.strip()"
   ]
  },
  {
   "cell_type": "code",
   "execution_count": 27,
   "id": "82c13603",
   "metadata": {},
   "outputs": [],
   "source": [
    "#lawn.find(class_=\"a-spacing-small po-brand\").find(class_=\"a-span9\").text.strip()"
   ]
  },
  {
   "cell_type": "code",
   "execution_count": 28,
   "id": "fdf81da6",
   "metadata": {},
   "outputs": [],
   "source": [
    "#categories = soup.find_all(class_=\"a-list-item\")\n",
    "#print(categories[0].text.strip())\n",
    "#print(categories[2].text.strip())"
   ]
  },
  {
   "cell_type": "code",
   "execution_count": 166,
   "id": "23e459b1",
   "metadata": {},
   "outputs": [],
   "source": [
    "name = []\n",
    "price = []\n",
    "review_count = []\n",
    "rating = []\n",
    "category = []\n",
    "sub_category = []\n",
    "brand = []"
   ]
  },
  {
   "cell_type": "code",
   "execution_count": 167,
   "id": "fe92aec7",
   "metadata": {},
   "outputs": [
    {
     "name": "stdout",
     "output_type": "stream",
     "text": [
      "https://www.amazon.com/gp/bestsellers/home-garden/14087401/ref=sr_bs_54_14087401_1\n",
      "https://www.amazon.com/gp/bestsellers/home-garden/3259034011/ref=sr_bs_5_3259034011_1\n",
      "https://www.amazon.com/gp/bestsellers/hi/2445485011/ref=sr_bs_20_2445485011_1\n"
     ]
    }
   ],
   "source": [
    "for i in links:\n",
    "    driver.get(i)\n",
    "    \n",
    "    page = driver.page_source\n",
    "    soup = BeautifulSoup(page, \"lxml\")\n",
    "\n",
    "    lawn = soup.find(id=\"ppd\")\n",
    "    \n",
    "    try: \n",
    "        name.append(lawn.find(id=\"productTitle\").text.strip())\n",
    "        try:\n",
    "            price.append(lawn.find(class_=\"a-offscreen\").text.strip())\n",
    "        except AttributeError:\n",
    "            price.append(None)\n",
    "        try:\n",
    "            rating.append(lawn.find(id=\"averageCustomerReviews\").text.strip()[0:3])\n",
    "            review_count.append(lawn.find(id=\"acrCustomerReviewText\").text.strip().split()[0])\n",
    "        except AttributeError:\n",
    "            rating.append(\"No Ratings\")\n",
    "            review_count.append(\"0\")\n",
    "        try:\n",
    "            brand.append(lawn.find(class_=\"a-spacing-small po-brand\").find(class_=\"a-span9\").text.strip())\n",
    "        except AttributeError:\n",
    "            brand.append(\"Unknown\")\n",
    "            \n",
    "        categories = soup.find_all(class_=\"a-list-item\")\n",
    "        category.append(categories[0].text.strip())\n",
    "        sub_category.append(categories[2].text.strip())\n",
    "    except AttributeError:\n",
    "        print(i)"
   ]
  },
  {
   "cell_type": "code",
   "execution_count": 168,
   "id": "0d803c6d",
   "metadata": {},
   "outputs": [
    {
     "data": {
      "text/plain": [
       "387"
      ]
     },
     "execution_count": 168,
     "metadata": {},
     "output_type": "execute_result"
    }
   ],
   "source": [
    "len(name)"
   ]
  },
  {
   "cell_type": "code",
   "execution_count": 169,
   "id": "441e2bba",
   "metadata": {},
   "outputs": [
    {
     "data": {
      "text/plain": [
       "387"
      ]
     },
     "execution_count": 169,
     "metadata": {},
     "output_type": "execute_result"
    }
   ],
   "source": [
    "len(price)"
   ]
  },
  {
   "cell_type": "code",
   "execution_count": 170,
   "id": "c044b20b",
   "metadata": {},
   "outputs": [
    {
     "data": {
      "text/plain": [
       "387"
      ]
     },
     "execution_count": 170,
     "metadata": {},
     "output_type": "execute_result"
    }
   ],
   "source": [
    "len(rating)"
   ]
  },
  {
   "cell_type": "code",
   "execution_count": 171,
   "id": "7031ce97",
   "metadata": {},
   "outputs": [
    {
     "data": {
      "text/plain": [
       "387"
      ]
     },
     "execution_count": 171,
     "metadata": {},
     "output_type": "execute_result"
    }
   ],
   "source": [
    "len(category)"
   ]
  },
  {
   "cell_type": "code",
   "execution_count": 172,
   "id": "9a70691a",
   "metadata": {},
   "outputs": [
    {
     "data": {
      "text/plain": [
       "387"
      ]
     },
     "execution_count": 172,
     "metadata": {},
     "output_type": "execute_result"
    }
   ],
   "source": [
    "len(sub_category)"
   ]
  },
  {
   "cell_type": "code",
   "execution_count": 173,
   "id": "9e657da0",
   "metadata": {},
   "outputs": [
    {
     "data": {
      "text/plain": [
       "387"
      ]
     },
     "execution_count": 173,
     "metadata": {},
     "output_type": "execute_result"
    }
   ],
   "source": [
    "len(brand)"
   ]
  },
  {
   "cell_type": "code",
   "execution_count": 109,
   "id": "a87b38eb",
   "metadata": {},
   "outputs": [],
   "source": [
    "#name1 = np.array(name)#.reshape(-1, 1)\n",
    "#price1 = np.array(price)#.reshape(-1, 1)\n",
    "#rating1 = np.array(rating)#.reshape(-1, 1)\n",
    "#review_count1 = np.array(review_count)#.reshape(-1, 1)\n",
    "#sub_category1 = np.array(sub_category)#.reshape(-1, 1)\n",
    "#brand1 = np.array(brand)#.reshape(-1, 1)"
   ]
  },
  {
   "cell_type": "code",
   "execution_count": 115,
   "id": "94f2a2e9",
   "metadata": {},
   "outputs": [],
   "source": [
    "#x = np.array([name, price, rating, review_count, category, sub_category, brand]).reshape(-1, 7)\n",
    "#clm_names = [\"Name\", \"Price\", \"Rating\", \"Number of Reviews\", \"Category\", \"Sub-Category\", \"Brand\"]"
   ]
  },
  {
   "cell_type": "code",
   "execution_count": 174,
   "id": "2726dfd0",
   "metadata": {},
   "outputs": [],
   "source": [
    "data = {\"Name\": name, \"Price\": price, \"Rating\": rating, \"Number of Reviews\": review_count, \"Category\": category, \"Sub-Category\": sub_category, \"Brand\": brand}"
   ]
  },
  {
   "cell_type": "code",
   "execution_count": 176,
   "id": "b30729b4",
   "metadata": {},
   "outputs": [
    {
     "data": {
      "text/html": [
       "<div>\n",
       "<style scoped>\n",
       "    .dataframe tbody tr th:only-of-type {\n",
       "        vertical-align: middle;\n",
       "    }\n",
       "\n",
       "    .dataframe tbody tr th {\n",
       "        vertical-align: top;\n",
       "    }\n",
       "\n",
       "    .dataframe thead th {\n",
       "        text-align: right;\n",
       "    }\n",
       "</style>\n",
       "<table border=\"1\" class=\"dataframe\">\n",
       "  <thead>\n",
       "    <tr style=\"text-align: right;\">\n",
       "      <th></th>\n",
       "      <th>Name</th>\n",
       "      <th>Price</th>\n",
       "      <th>Rating</th>\n",
       "      <th>Number of Reviews</th>\n",
       "      <th>Category</th>\n",
       "      <th>Sub-Category</th>\n",
       "      <th>Brand</th>\n",
       "    </tr>\n",
       "  </thead>\n",
       "  <tbody>\n",
       "    <tr>\n",
       "      <th>0</th>\n",
       "      <td>Thanksgiving Party Decorations Fall Party Hang...</td>\n",
       "      <td>$18.99</td>\n",
       "      <td>4.6</td>\n",
       "      <td>6</td>\n",
       "      <td>Home &amp; Kitchen</td>\n",
       "      <td>Event &amp; Party Supplies</td>\n",
       "      <td>zilue</td>\n",
       "    </tr>\n",
       "    <tr>\n",
       "      <th>1</th>\n",
       "      <td>U'Artlines 4Pcs Artificial Fall Garland Maple ...</td>\n",
       "      <td>$16.79</td>\n",
       "      <td>4.5</td>\n",
       "      <td>36</td>\n",
       "      <td>Home &amp; Kitchen</td>\n",
       "      <td>Seasonal Décor</td>\n",
       "      <td>U'Artlines</td>\n",
       "    </tr>\n",
       "    <tr>\n",
       "      <th>2</th>\n",
       "      <td>Thanksgiving Decor Supplies Turkey Thanksgivin...</td>\n",
       "      <td>$12.99</td>\n",
       "      <td>3.8</td>\n",
       "      <td>7</td>\n",
       "      <td>Toys &amp; Games</td>\n",
       "      <td>Party Supplies</td>\n",
       "      <td>Unknown</td>\n",
       "    </tr>\n",
       "    <tr>\n",
       "      <th>3</th>\n",
       "      <td>MAQIHAN 350PCS Fall Maple Leaves - Autumn Fall...</td>\n",
       "      <td>$5.99</td>\n",
       "      <td>4.4</td>\n",
       "      <td>3</td>\n",
       "      <td>Home &amp; Kitchen</td>\n",
       "      <td>Home Décor Products</td>\n",
       "      <td>MAQIHAN</td>\n",
       "    </tr>\n",
       "    <tr>\n",
       "      <th>4</th>\n",
       "      <td>DearHouse 2 Pack Fall Garland Maple Leaf Clear...</td>\n",
       "      <td>$12.99</td>\n",
       "      <td>4.4</td>\n",
       "      <td>7,279</td>\n",
       "      <td>Home &amp; Kitchen</td>\n",
       "      <td>Seasonal Décor</td>\n",
       "      <td>DearHouse</td>\n",
       "    </tr>\n",
       "  </tbody>\n",
       "</table>\n",
       "</div>"
      ],
      "text/plain": [
       "                                                Name   Price Rating  \\\n",
       "0  Thanksgiving Party Decorations Fall Party Hang...  $18.99    4.6   \n",
       "1  U'Artlines 4Pcs Artificial Fall Garland Maple ...  $16.79    4.5   \n",
       "2  Thanksgiving Decor Supplies Turkey Thanksgivin...  $12.99    3.8   \n",
       "3  MAQIHAN 350PCS Fall Maple Leaves - Autumn Fall...   $5.99    4.4   \n",
       "4  DearHouse 2 Pack Fall Garland Maple Leaf Clear...  $12.99    4.4   \n",
       "\n",
       "  Number of Reviews        Category            Sub-Category       Brand  \n",
       "0                 6  Home & Kitchen  Event & Party Supplies       zilue  \n",
       "1                36  Home & Kitchen          Seasonal Décor  U'Artlines  \n",
       "2                 7    Toys & Games          Party Supplies     Unknown  \n",
       "3                 3  Home & Kitchen     Home Décor Products     MAQIHAN  \n",
       "4             7,279  Home & Kitchen          Seasonal Décor   DearHouse  "
      ]
     },
     "execution_count": 176,
     "metadata": {},
     "output_type": "execute_result"
    }
   ],
   "source": [
    "df = pd.DataFrame.from_dict(data)\n",
    "df.head()"
   ]
  },
  {
   "cell_type": "code",
   "execution_count": 177,
   "id": "7d990134",
   "metadata": {},
   "outputs": [
    {
     "ename": "OSError",
     "evalue": "Cannot save file into a non-existent directory: '\\Datasets'",
     "output_type": "error",
     "traceback": [
      "\u001b[1;31m---------------------------------------------------------------------------\u001b[0m",
      "\u001b[1;31mOSError\u001b[0m                                   Traceback (most recent call last)",
      "Cell \u001b[1;32mIn[177], line 1\u001b[0m\n\u001b[1;32m----> 1\u001b[0m \u001b[43mdf\u001b[49m\u001b[38;5;241;43m.\u001b[39;49m\u001b[43mto_csv\u001b[49m\u001b[43m(\u001b[49m\u001b[38;5;124;43m\"\u001b[39;49m\u001b[38;5;124;43m/Datasets/amazon_thanksgiving_deco.csv\u001b[39;49m\u001b[38;5;124;43m\"\u001b[39;49m\u001b[43m)\u001b[49m\n",
      "File \u001b[1;32m~\\anaconda3\\lib\\site-packages\\pandas\\util\\_decorators.py:211\u001b[0m, in \u001b[0;36mdeprecate_kwarg.<locals>._deprecate_kwarg.<locals>.wrapper\u001b[1;34m(*args, **kwargs)\u001b[0m\n\u001b[0;32m    209\u001b[0m     \u001b[38;5;28;01melse\u001b[39;00m:\n\u001b[0;32m    210\u001b[0m         kwargs[new_arg_name] \u001b[38;5;241m=\u001b[39m new_arg_value\n\u001b[1;32m--> 211\u001b[0m \u001b[38;5;28;01mreturn\u001b[39;00m func(\u001b[38;5;241m*\u001b[39margs, \u001b[38;5;241m*\u001b[39m\u001b[38;5;241m*\u001b[39mkwargs)\n",
      "File \u001b[1;32m~\\anaconda3\\lib\\site-packages\\pandas\\core\\generic.py:3720\u001b[0m, in \u001b[0;36mNDFrame.to_csv\u001b[1;34m(self, path_or_buf, sep, na_rep, float_format, columns, header, index, index_label, mode, encoding, compression, quoting, quotechar, lineterminator, chunksize, date_format, doublequote, escapechar, decimal, errors, storage_options)\u001b[0m\n\u001b[0;32m   3709\u001b[0m df \u001b[38;5;241m=\u001b[39m \u001b[38;5;28mself\u001b[39m \u001b[38;5;28;01mif\u001b[39;00m \u001b[38;5;28misinstance\u001b[39m(\u001b[38;5;28mself\u001b[39m, ABCDataFrame) \u001b[38;5;28;01melse\u001b[39;00m \u001b[38;5;28mself\u001b[39m\u001b[38;5;241m.\u001b[39mto_frame()\n\u001b[0;32m   3711\u001b[0m formatter \u001b[38;5;241m=\u001b[39m DataFrameFormatter(\n\u001b[0;32m   3712\u001b[0m     frame\u001b[38;5;241m=\u001b[39mdf,\n\u001b[0;32m   3713\u001b[0m     header\u001b[38;5;241m=\u001b[39mheader,\n\u001b[1;32m   (...)\u001b[0m\n\u001b[0;32m   3717\u001b[0m     decimal\u001b[38;5;241m=\u001b[39mdecimal,\n\u001b[0;32m   3718\u001b[0m )\n\u001b[1;32m-> 3720\u001b[0m \u001b[38;5;28;01mreturn\u001b[39;00m \u001b[43mDataFrameRenderer\u001b[49m\u001b[43m(\u001b[49m\u001b[43mformatter\u001b[49m\u001b[43m)\u001b[49m\u001b[38;5;241;43m.\u001b[39;49m\u001b[43mto_csv\u001b[49m\u001b[43m(\u001b[49m\n\u001b[0;32m   3721\u001b[0m \u001b[43m    \u001b[49m\u001b[43mpath_or_buf\u001b[49m\u001b[43m,\u001b[49m\n\u001b[0;32m   3722\u001b[0m \u001b[43m    \u001b[49m\u001b[43mlineterminator\u001b[49m\u001b[38;5;241;43m=\u001b[39;49m\u001b[43mlineterminator\u001b[49m\u001b[43m,\u001b[49m\n\u001b[0;32m   3723\u001b[0m \u001b[43m    \u001b[49m\u001b[43msep\u001b[49m\u001b[38;5;241;43m=\u001b[39;49m\u001b[43msep\u001b[49m\u001b[43m,\u001b[49m\n\u001b[0;32m   3724\u001b[0m \u001b[43m    \u001b[49m\u001b[43mencoding\u001b[49m\u001b[38;5;241;43m=\u001b[39;49m\u001b[43mencoding\u001b[49m\u001b[43m,\u001b[49m\n\u001b[0;32m   3725\u001b[0m \u001b[43m    \u001b[49m\u001b[43merrors\u001b[49m\u001b[38;5;241;43m=\u001b[39;49m\u001b[43merrors\u001b[49m\u001b[43m,\u001b[49m\n\u001b[0;32m   3726\u001b[0m \u001b[43m    \u001b[49m\u001b[43mcompression\u001b[49m\u001b[38;5;241;43m=\u001b[39;49m\u001b[43mcompression\u001b[49m\u001b[43m,\u001b[49m\n\u001b[0;32m   3727\u001b[0m \u001b[43m    \u001b[49m\u001b[43mquoting\u001b[49m\u001b[38;5;241;43m=\u001b[39;49m\u001b[43mquoting\u001b[49m\u001b[43m,\u001b[49m\n\u001b[0;32m   3728\u001b[0m \u001b[43m    \u001b[49m\u001b[43mcolumns\u001b[49m\u001b[38;5;241;43m=\u001b[39;49m\u001b[43mcolumns\u001b[49m\u001b[43m,\u001b[49m\n\u001b[0;32m   3729\u001b[0m \u001b[43m    \u001b[49m\u001b[43mindex_label\u001b[49m\u001b[38;5;241;43m=\u001b[39;49m\u001b[43mindex_label\u001b[49m\u001b[43m,\u001b[49m\n\u001b[0;32m   3730\u001b[0m \u001b[43m    \u001b[49m\u001b[43mmode\u001b[49m\u001b[38;5;241;43m=\u001b[39;49m\u001b[43mmode\u001b[49m\u001b[43m,\u001b[49m\n\u001b[0;32m   3731\u001b[0m \u001b[43m    \u001b[49m\u001b[43mchunksize\u001b[49m\u001b[38;5;241;43m=\u001b[39;49m\u001b[43mchunksize\u001b[49m\u001b[43m,\u001b[49m\n\u001b[0;32m   3732\u001b[0m \u001b[43m    \u001b[49m\u001b[43mquotechar\u001b[49m\u001b[38;5;241;43m=\u001b[39;49m\u001b[43mquotechar\u001b[49m\u001b[43m,\u001b[49m\n\u001b[0;32m   3733\u001b[0m \u001b[43m    \u001b[49m\u001b[43mdate_format\u001b[49m\u001b[38;5;241;43m=\u001b[39;49m\u001b[43mdate_format\u001b[49m\u001b[43m,\u001b[49m\n\u001b[0;32m   3734\u001b[0m \u001b[43m    \u001b[49m\u001b[43mdoublequote\u001b[49m\u001b[38;5;241;43m=\u001b[39;49m\u001b[43mdoublequote\u001b[49m\u001b[43m,\u001b[49m\n\u001b[0;32m   3735\u001b[0m \u001b[43m    \u001b[49m\u001b[43mescapechar\u001b[49m\u001b[38;5;241;43m=\u001b[39;49m\u001b[43mescapechar\u001b[49m\u001b[43m,\u001b[49m\n\u001b[0;32m   3736\u001b[0m \u001b[43m    \u001b[49m\u001b[43mstorage_options\u001b[49m\u001b[38;5;241;43m=\u001b[39;49m\u001b[43mstorage_options\u001b[49m\u001b[43m,\u001b[49m\n\u001b[0;32m   3737\u001b[0m \u001b[43m\u001b[49m\u001b[43m)\u001b[49m\n",
      "File \u001b[1;32m~\\anaconda3\\lib\\site-packages\\pandas\\util\\_decorators.py:211\u001b[0m, in \u001b[0;36mdeprecate_kwarg.<locals>._deprecate_kwarg.<locals>.wrapper\u001b[1;34m(*args, **kwargs)\u001b[0m\n\u001b[0;32m    209\u001b[0m     \u001b[38;5;28;01melse\u001b[39;00m:\n\u001b[0;32m    210\u001b[0m         kwargs[new_arg_name] \u001b[38;5;241m=\u001b[39m new_arg_value\n\u001b[1;32m--> 211\u001b[0m \u001b[38;5;28;01mreturn\u001b[39;00m func(\u001b[38;5;241m*\u001b[39margs, \u001b[38;5;241m*\u001b[39m\u001b[38;5;241m*\u001b[39mkwargs)\n",
      "File \u001b[1;32m~\\anaconda3\\lib\\site-packages\\pandas\\io\\formats\\format.py:1189\u001b[0m, in \u001b[0;36mDataFrameRenderer.to_csv\u001b[1;34m(self, path_or_buf, encoding, sep, columns, index_label, mode, compression, quoting, quotechar, lineterminator, chunksize, date_format, doublequote, escapechar, errors, storage_options)\u001b[0m\n\u001b[0;32m   1168\u001b[0m     created_buffer \u001b[38;5;241m=\u001b[39m \u001b[38;5;28;01mFalse\u001b[39;00m\n\u001b[0;32m   1170\u001b[0m csv_formatter \u001b[38;5;241m=\u001b[39m CSVFormatter(\n\u001b[0;32m   1171\u001b[0m     path_or_buf\u001b[38;5;241m=\u001b[39mpath_or_buf,\n\u001b[0;32m   1172\u001b[0m     lineterminator\u001b[38;5;241m=\u001b[39mlineterminator,\n\u001b[1;32m   (...)\u001b[0m\n\u001b[0;32m   1187\u001b[0m     formatter\u001b[38;5;241m=\u001b[39m\u001b[38;5;28mself\u001b[39m\u001b[38;5;241m.\u001b[39mfmt,\n\u001b[0;32m   1188\u001b[0m )\n\u001b[1;32m-> 1189\u001b[0m \u001b[43mcsv_formatter\u001b[49m\u001b[38;5;241;43m.\u001b[39;49m\u001b[43msave\u001b[49m\u001b[43m(\u001b[49m\u001b[43m)\u001b[49m\n\u001b[0;32m   1191\u001b[0m \u001b[38;5;28;01mif\u001b[39;00m created_buffer:\n\u001b[0;32m   1192\u001b[0m     \u001b[38;5;28;01massert\u001b[39;00m \u001b[38;5;28misinstance\u001b[39m(path_or_buf, StringIO)\n",
      "File \u001b[1;32m~\\anaconda3\\lib\\site-packages\\pandas\\io\\formats\\csvs.py:241\u001b[0m, in \u001b[0;36mCSVFormatter.save\u001b[1;34m(self)\u001b[0m\n\u001b[0;32m    237\u001b[0m \u001b[38;5;124;03m\"\"\"\u001b[39;00m\n\u001b[0;32m    238\u001b[0m \u001b[38;5;124;03mCreate the writer & save.\u001b[39;00m\n\u001b[0;32m    239\u001b[0m \u001b[38;5;124;03m\"\"\"\u001b[39;00m\n\u001b[0;32m    240\u001b[0m \u001b[38;5;66;03m# apply compression and byte/text conversion\u001b[39;00m\n\u001b[1;32m--> 241\u001b[0m \u001b[38;5;28;01mwith\u001b[39;00m \u001b[43mget_handle\u001b[49m\u001b[43m(\u001b[49m\n\u001b[0;32m    242\u001b[0m \u001b[43m    \u001b[49m\u001b[38;5;28;43mself\u001b[39;49m\u001b[38;5;241;43m.\u001b[39;49m\u001b[43mfilepath_or_buffer\u001b[49m\u001b[43m,\u001b[49m\n\u001b[0;32m    243\u001b[0m \u001b[43m    \u001b[49m\u001b[38;5;28;43mself\u001b[39;49m\u001b[38;5;241;43m.\u001b[39;49m\u001b[43mmode\u001b[49m\u001b[43m,\u001b[49m\n\u001b[0;32m    244\u001b[0m \u001b[43m    \u001b[49m\u001b[43mencoding\u001b[49m\u001b[38;5;241;43m=\u001b[39;49m\u001b[38;5;28;43mself\u001b[39;49m\u001b[38;5;241;43m.\u001b[39;49m\u001b[43mencoding\u001b[49m\u001b[43m,\u001b[49m\n\u001b[0;32m    245\u001b[0m \u001b[43m    \u001b[49m\u001b[43merrors\u001b[49m\u001b[38;5;241;43m=\u001b[39;49m\u001b[38;5;28;43mself\u001b[39;49m\u001b[38;5;241;43m.\u001b[39;49m\u001b[43merrors\u001b[49m\u001b[43m,\u001b[49m\n\u001b[0;32m    246\u001b[0m \u001b[43m    \u001b[49m\u001b[43mcompression\u001b[49m\u001b[38;5;241;43m=\u001b[39;49m\u001b[38;5;28;43mself\u001b[39;49m\u001b[38;5;241;43m.\u001b[39;49m\u001b[43mcompression\u001b[49m\u001b[43m,\u001b[49m\n\u001b[0;32m    247\u001b[0m \u001b[43m    \u001b[49m\u001b[43mstorage_options\u001b[49m\u001b[38;5;241;43m=\u001b[39;49m\u001b[38;5;28;43mself\u001b[39;49m\u001b[38;5;241;43m.\u001b[39;49m\u001b[43mstorage_options\u001b[49m\u001b[43m,\u001b[49m\n\u001b[0;32m    248\u001b[0m \u001b[43m\u001b[49m\u001b[43m)\u001b[49m \u001b[38;5;28;01mas\u001b[39;00m handles:\n\u001b[0;32m    249\u001b[0m \n\u001b[0;32m    250\u001b[0m     \u001b[38;5;66;03m# Note: self.encoding is irrelevant here\u001b[39;00m\n\u001b[0;32m    251\u001b[0m     \u001b[38;5;28mself\u001b[39m\u001b[38;5;241m.\u001b[39mwriter \u001b[38;5;241m=\u001b[39m csvlib\u001b[38;5;241m.\u001b[39mwriter(\n\u001b[0;32m    252\u001b[0m         handles\u001b[38;5;241m.\u001b[39mhandle,\n\u001b[0;32m    253\u001b[0m         lineterminator\u001b[38;5;241m=\u001b[39m\u001b[38;5;28mself\u001b[39m\u001b[38;5;241m.\u001b[39mlineterminator,\n\u001b[1;32m   (...)\u001b[0m\n\u001b[0;32m    258\u001b[0m         quotechar\u001b[38;5;241m=\u001b[39m\u001b[38;5;28mself\u001b[39m\u001b[38;5;241m.\u001b[39mquotechar,\n\u001b[0;32m    259\u001b[0m     )\n\u001b[0;32m    261\u001b[0m     \u001b[38;5;28mself\u001b[39m\u001b[38;5;241m.\u001b[39m_save()\n",
      "File \u001b[1;32m~\\anaconda3\\lib\\site-packages\\pandas\\io\\common.py:734\u001b[0m, in \u001b[0;36mget_handle\u001b[1;34m(path_or_buf, mode, encoding, compression, memory_map, is_text, errors, storage_options)\u001b[0m\n\u001b[0;32m    732\u001b[0m \u001b[38;5;66;03m# Only for write methods\u001b[39;00m\n\u001b[0;32m    733\u001b[0m \u001b[38;5;28;01mif\u001b[39;00m \u001b[38;5;124m\"\u001b[39m\u001b[38;5;124mr\u001b[39m\u001b[38;5;124m\"\u001b[39m \u001b[38;5;129;01mnot\u001b[39;00m \u001b[38;5;129;01min\u001b[39;00m mode \u001b[38;5;129;01mand\u001b[39;00m is_path:\n\u001b[1;32m--> 734\u001b[0m     \u001b[43mcheck_parent_directory\u001b[49m\u001b[43m(\u001b[49m\u001b[38;5;28;43mstr\u001b[39;49m\u001b[43m(\u001b[49m\u001b[43mhandle\u001b[49m\u001b[43m)\u001b[49m\u001b[43m)\u001b[49m\n\u001b[0;32m    736\u001b[0m \u001b[38;5;28;01mif\u001b[39;00m compression:\n\u001b[0;32m    737\u001b[0m     \u001b[38;5;28;01mif\u001b[39;00m compression \u001b[38;5;241m!=\u001b[39m \u001b[38;5;124m\"\u001b[39m\u001b[38;5;124mzstd\u001b[39m\u001b[38;5;124m\"\u001b[39m:\n\u001b[0;32m    738\u001b[0m         \u001b[38;5;66;03m# compression libraries do not like an explicit text-mode\u001b[39;00m\n",
      "File \u001b[1;32m~\\anaconda3\\lib\\site-packages\\pandas\\io\\common.py:597\u001b[0m, in \u001b[0;36mcheck_parent_directory\u001b[1;34m(path)\u001b[0m\n\u001b[0;32m    595\u001b[0m parent \u001b[38;5;241m=\u001b[39m Path(path)\u001b[38;5;241m.\u001b[39mparent\n\u001b[0;32m    596\u001b[0m \u001b[38;5;28;01mif\u001b[39;00m \u001b[38;5;129;01mnot\u001b[39;00m parent\u001b[38;5;241m.\u001b[39mis_dir():\n\u001b[1;32m--> 597\u001b[0m     \u001b[38;5;28;01mraise\u001b[39;00m \u001b[38;5;167;01mOSError\u001b[39;00m(\u001b[38;5;124mrf\u001b[39m\u001b[38;5;124m\"\u001b[39m\u001b[38;5;124mCannot save file into a non-existent directory: \u001b[39m\u001b[38;5;124m'\u001b[39m\u001b[38;5;132;01m{\u001b[39;00mparent\u001b[38;5;132;01m}\u001b[39;00m\u001b[38;5;124m'\u001b[39m\u001b[38;5;124m\"\u001b[39m)\n",
      "\u001b[1;31mOSError\u001b[0m: Cannot save file into a non-existent directory: '\\Datasets'"
     ]
    }
   ],
   "source": [
    "df.to_csv(\"Datasets/amazon_thanksgiving_deco.csv\")"
   ]
  },
  {
   "cell_type": "code",
   "execution_count": 99,
   "id": "b04fc704",
   "metadata": {},
   "outputs": [],
   "source": [
    "#soup.body.div.find_all(\"span\")"
   ]
  },
  {
   "cell_type": "code",
   "execution_count": null,
   "id": "583b466f",
   "metadata": {},
   "outputs": [],
   "source": [
    "#[string-length(@data-asin) > 0]')\n",
    "#item_location.find_element(By.XPATH, 'div[2]').click()"
   ]
  },
  {
   "cell_type": "code",
   "execution_count": null,
   "id": "ad201a60",
   "metadata": {},
   "outputs": [],
   "source": [
    "#item_location.find_element(By.XPATH, 'div[1]/div[1]').click()\n",
    "#print(item_location.get_attribute('innerHTML'))"
   ]
  },
  {
   "cell_type": "code",
   "execution_count": null,
   "id": "d27220eb",
   "metadata": {},
   "outputs": [],
   "source": [
    "#wait.until(EC.visibility_of_element_located((By.CLASS_NAME, 'flex undefined flex-column h-100')))\n",
    "#wait.until(EC.visibility_of_element_located((By.XPATH, '//div[@data-testid=\"flex-container\"]')))\n",
    "\n",
    "#decorations_location = driver.find_element(By.CLASS_NAME, 'relative w-80')\n",
    "#decorations_location = driver.find_element(By.XPATH, '//div[@data-stack-index=\"0\"]')\n",
    "#deco_list = decorations_location.find_element(By.XPATH, 'section/div')"
   ]
  },
  {
   "cell_type": "code",
   "execution_count": null,
   "id": "b3220d7f",
   "metadata": {},
   "outputs": [],
   "source": [
    "#l = deco_list.find_element(By.XPATH, 'div/div[1]')\n",
    "#l.click()"
   ]
  },
  {
   "cell_type": "code",
   "execution_count": null,
   "id": "fb9ca31a",
   "metadata": {},
   "outputs": [],
   "source": [
    "#page = driver.page_source\n",
    "#soup = BeautifulSoup(page, \"lxml\")\n",
    "#for url in soup.findAll(\"section\", attrs={\"class\": None, \"data-testid\": None, \"style\": None}):\n",
    "#    print(url.prettify())"
   ]
  },
  {
   "cell_type": "code",
   "execution_count": null,
   "id": "0adfb482",
   "metadata": {},
   "outputs": [],
   "source": [
    "#soup.prettify()"
   ]
  },
  {
   "cell_type": "code",
   "execution_count": null,
   "id": "c154d75c",
   "metadata": {},
   "outputs": [],
   "source": [
    "#soup = BeautifulSoup(page, \"lxml\")\n",
    "#for url in soup.findAll(\"section\", attrs={\"class\": None, \"data-testid\": None, \"style\": None}):\n",
    "#    print(url.prettify())"
   ]
  },
  {
   "cell_type": "code",
   "execution_count": null,
   "id": "37d01a1f",
   "metadata": {},
   "outputs": [],
   "source": [
    "#for url in soup.findAll(\"div\", attrs={\"class\": \"flex flex-wrap w-100 flex-grow-0 flex-shrink-0 ph2 pr0-xl pl4-xl mt0-xl\", \"data-testid\": None, \"style\": None}):\n",
    "#    print(url.prettify())"
   ]
  },
  {
   "cell_type": "code",
   "execution_count": null,
   "id": "0ad5dbd3",
   "metadata": {},
   "outputs": [],
   "source": [
    "#human_dialog = driver.find_elements(By.XPATH, \"//div[@aria-labelledby='ld_modalTitle_0']\")\n",
    "#while human_dialog:\n",
    "#    driver.refresh()\n",
    "#    time.sleep(1)\n",
    "#    human_dialog = driver.find_elements(By.XPATH, \"//div[@aria-labelledby='ld_modalTitle_0']\")"
   ]
  }
 ],
 "metadata": {
  "kernelspec": {
   "display_name": "Python 3 (ipykernel)",
   "language": "python",
   "name": "python3"
  },
  "language_info": {
   "codemirror_mode": {
    "name": "ipython",
    "version": 3
   },
   "file_extension": ".py",
   "mimetype": "text/x-python",
   "name": "python",
   "nbconvert_exporter": "python",
   "pygments_lexer": "ipython3",
   "version": "3.10.9"
  }
 },
 "nbformat": 4,
 "nbformat_minor": 5
}

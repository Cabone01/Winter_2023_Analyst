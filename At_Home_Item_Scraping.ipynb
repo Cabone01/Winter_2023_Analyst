{
 "cells": [
  {
   "cell_type": "code",
   "execution_count": 1,
   "id": "060ad3d4",
   "metadata": {},
   "outputs": [],
   "source": [
    "import time\n",
    "import numpy as np\n",
    "import pandas as pd\n",
    "from splinter import Browser\n",
    "from bs4 import BeautifulSoup\n",
    "from selenium import webdriver\n",
    "from selenium.webdriver.common.by import By\n",
    "from selenium.webdriver.chrome.service import Service\n",
    "from webdriver_manager.chrome import ChromeDriverManager\n",
    "from selenium.webdriver.support.wait import WebDriverWait\n",
    "from selenium.webdriver.common.action_chains import ActionChains\n",
    "from selenium.webdriver.support import expected_conditions as EC\n",
    "\n",
    "opt = webdriver.ChromeOptions()\n",
    "opt.add_argument(\"--incognito\")\n",
    "opt.add_argument(\"disable-infobars\")\n",
    "opt.add_argument(\"--disable-extensions\")\n",
    "opt.add_argument(\"--disable-gpu\")\n",
    "opt.add_argument(\"--disable-dev-shm-usage\")\n",
    "opt.add_argument(\"--no-sandbox\")\n",
    "#opt.add_argument(\"--start-maximized\")\n",
    "#opt.add_argument(\"--headless=new\")\n",
    "#driver = webdriver.Chrome(options=opt)\n",
    "#url = \"https://www.walmart.com/search?q=thanksgiving+decorations&typeahead=thank&affinityOverride=default\"\n",
    "#url = \"https://www.target.com/s?searchTerm=christmas+decorations&category=0%7CAll%7Cmatchallpartial%7Call+categories&tref=typeahead%7Cterm%7C0%7Cchristmas+decorations%7Cchristmas+decorations%7C%7C%7Cservice%7C%7C%7C%7C%7Cfacets_sb&searchTermRaw=christmas+de\"\n",
    "#url = \"https://www.amazon.com/s?k=thanksgiving+decorations&crid=2EPG40FJ9V4A1&sprefix=thanksgiving+%2Caps%2C88&ref=nb_sb_ss_ts-doa-p_7_13\"\n",
    "#url = \"https://www.hobbylobby.com/search?HLNextGenEcommIndex_prd%5Bconfigure%5D%5BhitsPerPage%5D=12&HLNextGenEcommIndex_prd%5Bconfigure%5D%5Bfacets%5D%5B0%5D=%2A&HLNextGenEcommIndex_prd%5Bconfigure%5D%5Bdistinct%5D=true&HLNextGenEcommIndex_prd%5Bconfigure%5D%5BfacetingAfterDistinct%5D=true&HLNextGenEcommIndex_prd%5Bconfigure%5D%5BtypoTolerance%5D=true&HLNextGenEcommIndex_prd%5Bconfigure%5D%5Bquery%5D=christmas%20decor&HLNextGenEcommIndex_prd%5Bconfigure%5D%5BclickAnalytics%5D=true&HLNextGenEcommIndex_prd%5Bconfigure%5D%5Bfilters%5D=&HLNextGenEcommIndex_prd%5Bconfigure%5D%5BuserToken%5D=3d028c053c584bdd881dbb50a054194f1702420784024&HLNextGenEcommIndex_prd%5Bpage%5D=1\"\n",
    "#url = \"https://www.athome.com/search/?q=Christmas+decor&lang=default&start=0&sz=60\"\n",
    "#driver.get(url)\n",
    "\n",
    "#wait = WebDriverWait(driver, 20)"
   ]
  },
  {
   "cell_type": "code",
   "execution_count": 4,
   "id": "357862e6",
   "metadata": {},
   "outputs": [],
   "source": [
    "my_file = open(\"output.txt\", \"r\") \n",
    "  \n",
    "data = my_file.read() \n",
    "  \n",
    "links = data.split(\"\\n\")\n",
    "my_file.close() "
   ]
  },
  {
   "cell_type": "code",
   "execution_count": 30,
   "id": "01adfe27",
   "metadata": {},
   "outputs": [
    {
     "data": {
      "text/plain": [
       "'https://www.athome.com/premium-rolling-christmas-tree-storage-bag-7.5/124183059.html?nav=search'"
      ]
     },
     "execution_count": 30,
     "metadata": {},
     "output_type": "execute_result"
    }
   ],
   "source": [
    "links[0]"
   ]
  },
  {
   "cell_type": "code",
   "execution_count": 77,
   "id": "5be221d1",
   "metadata": {},
   "outputs": [],
   "source": [
    "driver = webdriver.Chrome(options=opt)\n",
    "driver.get(links[230])\n",
    "wait = WebDriverWait(driver, 20)"
   ]
  },
  {
   "cell_type": "code",
   "execution_count": 78,
   "id": "f63bc059",
   "metadata": {},
   "outputs": [
    {
     "data": {
      "text/plain": [
       "<selenium.webdriver.remote.webelement.WebElement (session=\"6aae50de1e83a4958378cd2fe818bce0\", element=\"92370CE788591D0B453216BE0CD5FE1E_element_71\")>"
      ]
     },
     "execution_count": 78,
     "metadata": {},
     "output_type": "execute_result"
    }
   ],
   "source": [
    "wait.until(EC.visibility_of_element_located((By.XPATH, '//div[@class=\"row my-md-4 gallery-buybox-wrapper\"]')))"
   ]
  },
  {
   "cell_type": "code",
   "execution_count": 79,
   "id": "7dd0fdfa",
   "metadata": {},
   "outputs": [],
   "source": [
    "page = driver.page_source\n",
    "soup = BeautifulSoup(page, \"lxml\")"
   ]
  },
  {
   "cell_type": "code",
   "execution_count": 80,
   "id": "c2427ec3",
   "metadata": {},
   "outputs": [],
   "source": [
    "header = soup.find(class_=\"pdp-heading-row row\")"
   ]
  },
  {
   "cell_type": "code",
   "execution_count": 81,
   "id": "82683b0d",
   "metadata": {},
   "outputs": [
    {
     "data": {
      "text/plain": [
       "'White Wooden LED Lantern, 24\"'"
      ]
     },
     "execution_count": 81,
     "metadata": {},
     "output_type": "execute_result"
    }
   ],
   "source": [
    "header.find(class_=\"product-name\").text.strip()"
   ]
  },
  {
   "cell_type": "code",
   "execution_count": 107,
   "id": "a893f03f",
   "metadata": {},
   "outputs": [
    {
     "name": "stdout",
     "output_type": "stream",
     "text": [
      "Empty\n"
     ]
    }
   ],
   "source": [
    "rating = header.find(class_=\"rating-num\")#.text#.strip()\n",
    "if rating is not None:\n",
    "    rating.text.strip()\n",
    "else:\n",
    "    print(\"Empty\")"
   ]
  },
  {
   "cell_type": "code",
   "execution_count": 108,
   "id": "db9116c1",
   "metadata": {},
   "outputs": [
    {
     "name": "stdout",
     "output_type": "stream",
     "text": [
      "Empty\n"
     ]
    }
   ],
   "source": [
    "amt_of_reviews = header.find(class_=\"rating-count\")#.text.strip()\n",
    "if amt_of_reviews is not None:\n",
    "    amt_of_reviews.text.strip()\n",
    "else:\n",
    "    print(\"Empty\")"
   ]
  },
  {
   "cell_type": "code",
   "execution_count": 87,
   "id": "dbf52ed1",
   "metadata": {},
   "outputs": [],
   "source": [
    "#main_area = soup.find(class_=\"row my-md-4 gallery-buybox-wrapper\")"
   ]
  },
  {
   "cell_type": "code",
   "execution_count": 109,
   "id": "c414383d",
   "metadata": {},
   "outputs": [],
   "source": [
    "#main_area.find(class_=\"regular-price active-price\").text.strip()"
   ]
  },
  {
   "cell_type": "code",
   "execution_count": 89,
   "id": "d9c01b4d",
   "metadata": {},
   "outputs": [],
   "source": [
    "cats = soup.find(class_=\"product-breadcrumb\")"
   ]
  },
  {
   "cell_type": "code",
   "execution_count": 90,
   "id": "745f5bcd",
   "metadata": {},
   "outputs": [],
   "source": [
    "categories_area = cats.find(class_=\"breadcrumb\").select(\"li\")"
   ]
  },
  {
   "cell_type": "code",
   "execution_count": 91,
   "id": "73c68752",
   "metadata": {},
   "outputs": [
    {
     "data": {
      "text/plain": [
       "'Christmas Inflatables & Outdoor Decor'"
      ]
     },
     "execution_count": 91,
     "metadata": {},
     "output_type": "execute_result"
    }
   ],
   "source": [
    "categories_area[-3].text.strip()"
   ]
  },
  {
   "cell_type": "code",
   "execution_count": 92,
   "id": "4eb8c34e",
   "metadata": {},
   "outputs": [
    {
     "data": {
      "text/plain": [
       "'Porch Decor'"
      ]
     },
     "execution_count": 92,
     "metadata": {},
     "output_type": "execute_result"
    }
   ],
   "source": [
    "categories_area[-2].text.strip()"
   ]
  },
  {
   "cell_type": "code",
   "execution_count": 93,
   "id": "1768e52d",
   "metadata": {},
   "outputs": [
    {
     "data": {
      "text/plain": [
       "'Homespun Holiday'"
      ]
     },
     "execution_count": 93,
     "metadata": {},
     "output_type": "execute_result"
    }
   ],
   "source": [
    "soup.find(class_=\"product-brand col-12 p-0\").text.strip()"
   ]
  },
  {
   "cell_type": "code",
   "execution_count": 26,
   "id": "6b48e3b5",
   "metadata": {},
   "outputs": [],
   "source": [
    "#name = []\n",
    "#actual_price = []\n",
    "#on_sale_price = []\n",
    "#percent_off = []\n",
    "#review_count = []\n",
    "#rating = []\n",
    "#category = []\n",
    "#sub_category = []\n",
    "#brand = []"
   ]
  },
  {
   "cell_type": "code",
   "execution_count": 94,
   "id": "c3127293",
   "metadata": {},
   "outputs": [],
   "source": [
    "money_area = main_area.find(class_=\"adornment-first-pricing\")"
   ]
  },
  {
   "cell_type": "code",
   "execution_count": 95,
   "id": "eb7cdb07",
   "metadata": {},
   "outputs": [],
   "source": [
    "money_list = money_area.select(\"div\")[1].get(\"class\")"
   ]
  },
  {
   "cell_type": "code",
   "execution_count": 102,
   "id": "c2728803",
   "metadata": {},
   "outputs": [
    {
     "name": "stdout",
     "output_type": "stream",
     "text": [
      "28%\n",
      "$69.99\n",
      "$49.99\n"
     ]
    }
   ],
   "source": [
    "if \"regular-price\" in money_list:\n",
    "    print(money_area.find(class_=\"regular-price active-price\").text.strip())\n",
    "else:\n",
    "    print(money_area.find(class_=\"savings-percentage under-100\").text.split()[1])\n",
    "    print(money_area.find(class_=\"product-ab-price strikethrough-price regular-price\").text.split()[0])\n",
    "    print(money_area.find(class_=\"active-price sale-price product-ab-price\").text.split()[0])"
   ]
  },
  {
   "cell_type": "code",
   "execution_count": 111,
   "id": "b1b4ed1e",
   "metadata": {},
   "outputs": [
    {
     "data": {
      "text/plain": [
       "36"
      ]
     },
     "execution_count": 111,
     "metadata": {},
     "output_type": "execute_result"
    }
   ],
   "source": [
    "round(len(links)/100)"
   ]
  },
  {
   "cell_type": "code",
   "execution_count": 118,
   "id": "4c0a964e",
   "metadata": {},
   "outputs": [
    {
     "name": "stdout",
     "output_type": "stream",
     "text": [
      "Runs completed: 1\n",
      "Runs completed: 2\n"
     ]
    },
    {
     "ename": "TimeoutException",
     "evalue": "Message: \nStacktrace:\n\tGetHandleVerifier [0x00007FF727972142+3514994]\n\t(No symbol) [0x00007FF727590CE2]\n\t(No symbol) [0x00007FF7274376AA]\n\t(No symbol) [0x00007FF727481860]\n\t(No symbol) [0x00007FF72748197C]\n\t(No symbol) [0x00007FF7274C4EE7]\n\t(No symbol) [0x00007FF7274A602F]\n\t(No symbol) [0x00007FF7274C28F6]\n\t(No symbol) [0x00007FF7274A5D93]\n\t(No symbol) [0x00007FF727474BDC]\n\t(No symbol) [0x00007FF727475C64]\n\tGetHandleVerifier [0x00007FF72799E16B+3695259]\n\tGetHandleVerifier [0x00007FF7279F6737+4057191]\n\tGetHandleVerifier [0x00007FF7279EE4E3+4023827]\n\tGetHandleVerifier [0x00007FF7276C04F9+689705]\n\t(No symbol) [0x00007FF72759C048]\n\t(No symbol) [0x00007FF727598044]\n\t(No symbol) [0x00007FF7275981C9]\n\t(No symbol) [0x00007FF7275888C4]\n\tBaseThreadInitThunk [0x00007FFC5E9C7344+20]\n\tRtlUserThreadStart [0x00007FFC5FAA26B1+33]\n",
     "output_type": "error",
     "traceback": [
      "\u001b[1;31m---------------------------------------------------------------------------\u001b[0m",
      "\u001b[1;31mTimeoutException\u001b[0m                          Traceback (most recent call last)",
      "Cell \u001b[1;32mIn[118], line 21\u001b[0m\n\u001b[0;32m     18\u001b[0m \u001b[38;5;28;01mfor\u001b[39;00m j \u001b[38;5;129;01min\u001b[39;00m links[runs\u001b[38;5;241m*\u001b[39m\u001b[38;5;241m100\u001b[39m:runs\u001b[38;5;241m*\u001b[39m\u001b[38;5;241m100\u001b[39m\u001b[38;5;241m+\u001b[39m\u001b[38;5;241m100\u001b[39m]:\n\u001b[0;32m     20\u001b[0m     driver\u001b[38;5;241m.\u001b[39mget(j)\n\u001b[1;32m---> 21\u001b[0m     \u001b[43mwait\u001b[49m\u001b[38;5;241;43m.\u001b[39;49m\u001b[43muntil\u001b[49m\u001b[43m(\u001b[49m\u001b[43mEC\u001b[49m\u001b[38;5;241;43m.\u001b[39;49m\u001b[43mvisibility_of_element_located\u001b[49m\u001b[43m(\u001b[49m\u001b[43m(\u001b[49m\u001b[43mBy\u001b[49m\u001b[38;5;241;43m.\u001b[39;49m\u001b[43mXPATH\u001b[49m\u001b[43m,\u001b[49m\u001b[43m \u001b[49m\u001b[38;5;124;43m'\u001b[39;49m\u001b[38;5;124;43m//div[@class=\u001b[39;49m\u001b[38;5;124;43m\"\u001b[39;49m\u001b[38;5;124;43mrow my-md-4 gallery-buybox-wrapper\u001b[39;49m\u001b[38;5;124;43m\"\u001b[39;49m\u001b[38;5;124;43m]\u001b[39;49m\u001b[38;5;124;43m'\u001b[39;49m\u001b[43m)\u001b[49m\u001b[43m)\u001b[49m\u001b[43m)\u001b[49m\n\u001b[0;32m     22\u001b[0m     page \u001b[38;5;241m=\u001b[39m driver\u001b[38;5;241m.\u001b[39mpage_source\n\u001b[0;32m     23\u001b[0m     soup \u001b[38;5;241m=\u001b[39m BeautifulSoup(page, \u001b[38;5;124m\"\u001b[39m\u001b[38;5;124mlxml\u001b[39m\u001b[38;5;124m\"\u001b[39m)\n",
      "File \u001b[1;32m~\\anaconda3\\lib\\site-packages\\selenium\\webdriver\\support\\wait.py:101\u001b[0m, in \u001b[0;36mWebDriverWait.until\u001b[1;34m(self, method, message)\u001b[0m\n\u001b[0;32m     99\u001b[0m     \u001b[38;5;28;01mif\u001b[39;00m time\u001b[38;5;241m.\u001b[39mmonotonic() \u001b[38;5;241m>\u001b[39m end_time:\n\u001b[0;32m    100\u001b[0m         \u001b[38;5;28;01mbreak\u001b[39;00m\n\u001b[1;32m--> 101\u001b[0m \u001b[38;5;28;01mraise\u001b[39;00m TimeoutException(message, screen, stacktrace)\n",
      "\u001b[1;31mTimeoutException\u001b[0m: Message: \nStacktrace:\n\tGetHandleVerifier [0x00007FF727972142+3514994]\n\t(No symbol) [0x00007FF727590CE2]\n\t(No symbol) [0x00007FF7274376AA]\n\t(No symbol) [0x00007FF727481860]\n\t(No symbol) [0x00007FF72748197C]\n\t(No symbol) [0x00007FF7274C4EE7]\n\t(No symbol) [0x00007FF7274A602F]\n\t(No symbol) [0x00007FF7274C28F6]\n\t(No symbol) [0x00007FF7274A5D93]\n\t(No symbol) [0x00007FF727474BDC]\n\t(No symbol) [0x00007FF727475C64]\n\tGetHandleVerifier [0x00007FF72799E16B+3695259]\n\tGetHandleVerifier [0x00007FF7279F6737+4057191]\n\tGetHandleVerifier [0x00007FF7279EE4E3+4023827]\n\tGetHandleVerifier [0x00007FF7276C04F9+689705]\n\t(No symbol) [0x00007FF72759C048]\n\t(No symbol) [0x00007FF727598044]\n\t(No symbol) [0x00007FF7275981C9]\n\t(No symbol) [0x00007FF7275888C4]\n\tBaseThreadInitThunk [0x00007FFC5E9C7344+20]\n\tRtlUserThreadStart [0x00007FFC5FAA26B1+33]\n"
     ]
    }
   ],
   "source": [
    "name = []\n",
    "actual_price = []\n",
    "sale_price = []\n",
    "percent_off = []\n",
    "review_count = []\n",
    "rating = []\n",
    "category = []\n",
    "sub_category = []\n",
    "brand = []\n",
    "\n",
    "runs = 0\n",
    "loop_repeats = round(len(links)/100)\n",
    "#driver = webdriver.Chrome(options=opt)\n",
    "#driver.get(links[0])\n",
    "#wait = WebDriverWait(driver, 20)\n",
    "for i in range(runs, loop_repeats + 1):\n",
    "    if i != loop_repeats:\n",
    "        for j in links[runs*100:runs*100+100]:\n",
    "            \n",
    "            driver = webdriver.Chrome(options=opt)\n",
    "            driver.get(links[0])\n",
    "            wait = WebDriverWait(driver, 20)\n",
    "            \n",
    "            wait.until(EC.visibility_of_element_located((By.XPATH, '//div[@class=\"row my-md-4 gallery-buybox-wrapper\"]')))\n",
    "            page = driver.page_source\n",
    "            soup = BeautifulSoup(page, \"lxml\")\n",
    "            \n",
    "            header = soup.find(class_=\"pdp-heading-row row\")\n",
    "            name.append(header.find(class_=\"product-name\").text.strip())\n",
    "            \n",
    "            \n",
    "            if \"regular-price\" in money_list:\n",
    "                actual_price.append(money_area.find(class_=\"regular-price active-price\").text.strip())\n",
    "                sale_price.append(money_area.find(class_=\"regular-price active-price\").text.strip())\n",
    "                percent_off.append(\"0\")\n",
    "            else:\n",
    "                percent_off.append(money_area.find(class_=\"savings-percentage under-100\").text.split()[1])\n",
    "                actual_price.append(money_area.find(class_=\"product-ab-price strikethrough-price regular-price\").text.split()[0])\n",
    "                sale_price.append(money_area.find(class_=\"active-price sale-price product-ab-price\").text.split()[0])\n",
    "            \n",
    "            rating_area = header.find(class_=\"rating-num\")#.text#.strip()\n",
    "            if rating_area is not None:\n",
    "                rating.append(rating_area.text.strip())\n",
    "            else:\n",
    "                rating.append(\"0\")\n",
    "                \n",
    "            review_area = header.find(class_=\"rating-count\")#.text.strip()\n",
    "            if review_area is not None:\n",
    "                review_count.append(review_area.text.strip())\n",
    "            else:\n",
    "                review_count.append(\"0\")\n",
    "                \n",
    "            cats = soup.find(class_=\"product-breadcrumb\")\n",
    "            category.append(categories_area[-3].text.strip())\n",
    "            sub_category.append(categories_area[-2].text.strip())\n",
    "            brand.append(soup.find(class_=\"product-brand col-12 p-0\").text.strip())\n",
    "    else:\n",
    "        for i in links[runs*100:-1]:\n",
    "            driver = webdriver.Chrome(options=opt)\n",
    "            driver.get(i)\n",
    "            wait = WebDriverWait(driver, 20)\n",
    "            \n",
    "            wait.until(EC.visibility_of_element_located((By.XPATH, '//div[@class=\"row my-md-4 gallery-buybox-wrapper\"]')))\n",
    "            page = driver.page_source\n",
    "            soup = BeautifulSoup(page, \"lxml\")\n",
    "            \n",
    "            header = soup.find(class_=\"pdp-heading-row row\")\n",
    "            name.append(header.find(class_=\"product-name\").text.strip())\n",
    "            \n",
    "            \n",
    "            if \"regular-price\" in money_list:\n",
    "                actual_price.append(money_area.find(class_=\"regular-price active-price\").text.strip())\n",
    "                sale_price.append(money_area.find(class_=\"regular-price active-price\").text.strip())\n",
    "                percent_off.append(\"0\")\n",
    "            else:\n",
    "                percent_off.append(money_area.find(class_=\"savings-percentage under-100\").text.split()[1])\n",
    "                actual_price.append(money_area.find(class_=\"product-ab-price strikethrough-price regular-price\").text.split()[0])\n",
    "                sale_price.append(money_area.find(class_=\"active-price sale-price product-ab-price\").text.split()[0])\n",
    "            \n",
    "            rating_area = header.find(class_=\"rating-num\")#.text#.strip()\n",
    "            if rating_area is not None:\n",
    "                rating.append(rating_area.text.strip())\n",
    "            else:\n",
    "                rating.append(\"0\")\n",
    "                \n",
    "            review_area = header.find(class_=\"rating-count\")#.text.strip()\n",
    "            if review_area is not None:\n",
    "                review_count.append(review_area.text.strip())\n",
    "            else:\n",
    "                review_count.append(\"0\")\n",
    "                \n",
    "            cats = soup.find(class_=\"product-breadcrumb\")\n",
    "            category.append(categories_area[-3].text.strip())\n",
    "            sub_category.append(categories_area[-2].text.strip())\n",
    "            brand.append(soup.find(class_=\"product-brand col-12 p-0\").text.strip())\n",
    "    runs += 1\n",
    "    print(f\"Runs completed: {runs}\")"
   ]
  },
  {
   "cell_type": "code",
   "execution_count": null,
   "id": "d5d63749",
   "metadata": {},
   "outputs": [],
   "source": []
  }
 ],
 "metadata": {
  "kernelspec": {
   "display_name": "Python 3 (ipykernel)",
   "language": "python",
   "name": "python3"
  },
  "language_info": {
   "codemirror_mode": {
    "name": "ipython",
    "version": 3
   },
   "file_extension": ".py",
   "mimetype": "text/x-python",
   "name": "python",
   "nbconvert_exporter": "python",
   "pygments_lexer": "ipython3",
   "version": "3.10.9"
  }
 },
 "nbformat": 4,
 "nbformat_minor": 5
}

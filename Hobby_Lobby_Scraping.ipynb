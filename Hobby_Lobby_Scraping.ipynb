{
 "cells": [
  {
   "cell_type": "code",
   "execution_count": 1,
   "id": "4988f42d",
   "metadata": {},
   "outputs": [],
   "source": [
    "import time\n",
    "import numpy as np\n",
    "import pandas as pd\n",
    "from splinter import Browser\n",
    "from bs4 import BeautifulSoup\n",
    "from selenium import webdriver\n",
    "from selenium.webdriver.common.by import By\n",
    "from selenium.webdriver.chrome.service import Service\n",
    "from webdriver_manager.chrome import ChromeDriverManager\n",
    "from selenium.webdriver.support.wait import WebDriverWait\n",
    "from selenium.webdriver.common.action_chains import ActionChains\n",
    "from selenium.webdriver.support import expected_conditions as EC"
   ]
  },
  {
   "cell_type": "code",
   "execution_count": 53,
   "id": "ff2edac0",
   "metadata": {},
   "outputs": [],
   "source": [
    "opt = webdriver.ChromeOptions()\n",
    "opt.add_argument(\"--incognito\")\n",
    "opt.add_argument(\"disable-infobars\")\n",
    "opt.add_argument(\"--disable-extensions\")\n",
    "opt.add_argument(\"--disable-gpu\")\n",
    "opt.add_argument(\"--disable-dev-shm-usage\")\n",
    "opt.add_argument(\"--no-sandbox\")\n",
    "opt.add_argument(\"--start-maximized\")\n",
    "#opt.add_argument(\"--headless=new\")\n",
    "driver = webdriver.Chrome(options=opt)\n",
    "#url = \"https://www.walmart.com/search?q=thanksgiving+decorations&typeahead=thank&affinityOverride=default\"\n",
    "#url = \"https://www.target.com/s?searchTerm=christmas+decorations&category=0%7CAll%7Cmatchallpartial%7Call+categories&tref=typeahead%7Cterm%7C0%7Cchristmas+decorations%7Cchristmas+decorations%7C%7C%7Cservice%7C%7C%7C%7C%7Cfacets_sb&searchTermRaw=christmas+de\"\n",
    "#url = \"https://www.amazon.com/s?k=thanksgiving+decorations&crid=2EPG40FJ9V4A1&sprefix=thanksgiving+%2Caps%2C88&ref=nb_sb_ss_ts-doa-p_7_13\"\n",
    "url = \"https://www.hobbylobby.com/search?HLNextGenEcommIndex_prd%5Bconfigure%5D%5BhitsPerPage%5D=12&HLNextGenEcommIndex_prd%5Bconfigure%5D%5Bfacets%5D%5B0%5D=%2A&HLNextGenEcommIndex_prd%5Bconfigure%5D%5Bdistinct%5D=true&HLNextGenEcommIndex_prd%5Bconfigure%5D%5BfacetingAfterDistinct%5D=true&HLNextGenEcommIndex_prd%5Bconfigure%5D%5BtypoTolerance%5D=true&HLNextGenEcommIndex_prd%5Bconfigure%5D%5Bquery%5D=christmas%20decor&HLNextGenEcommIndex_prd%5Bconfigure%5D%5BclickAnalytics%5D=true&HLNextGenEcommIndex_prd%5Bconfigure%5D%5Bfilters%5D=&HLNextGenEcommIndex_prd%5Bconfigure%5D%5BuserToken%5D=3d028c053c584bdd881dbb50a054194f1702420784024&HLNextGenEcommIndex_prd%5Bpage%5D=1\"\n",
    "driver.get(url)\n",
    "\n",
    "wait = WebDriverWait(driver, 20)"
   ]
  },
  {
   "cell_type": "code",
   "execution_count": 70,
   "id": "a5a88c84",
   "metadata": {},
   "outputs": [],
   "source": [
    "wait.until(EC.visibility_of_element_located((By.XPATH, '//div[@class=\"categoryListingPages_widgetAndHitsWrapper__5FrSL\"]')))\n",
    "decorations_location = driver.find_element(By.XPATH, '//div[@class=\"categoryListingPages_customProdCard__F_hFw\"]')\n",
    "item_location = decorations_location.find_elements(By.XPATH, 'div')"
   ]
  },
  {
   "cell_type": "code",
   "execution_count": 71,
   "id": "34297353",
   "metadata": {},
   "outputs": [
    {
     "name": "stdout",
     "output_type": "stream",
     "text": [
      "https://www.hobbylobby.com/Christmas/Home-Decor-Pillows/Wall-Decor/Merry-Christmas-Basket-WallDecor/p/81148668?queryId=d02da41a61a9f421ff1e0765a72446f3\n"
     ]
    }
   ],
   "source": [
    "#x = item_location.find_element(By.XPATH, 'div[1]')\n",
    "print(item_location[0].find_element(By.XPATH, 'div/div[2]/a').get_attribute('href'))"
   ]
  },
  {
   "cell_type": "code",
   "execution_count": 72,
   "id": "336a627f",
   "metadata": {},
   "outputs": [
    {
     "data": {
      "text/plain": [
       "12"
      ]
     },
     "execution_count": 72,
     "metadata": {},
     "output_type": "execute_result"
    }
   ],
   "source": [
    "len([i.find_element(By.XPATH, 'div/div[2]/a').get_attribute('href') for i in item_location])"
   ]
  },
  {
   "cell_type": "code",
   "execution_count": 43,
   "id": "dfb74e0f",
   "metadata": {},
   "outputs": [],
   "source": [
    "# MuiRating-icon MuiRating-iconFilled mui-style-13m1if9\n",
    "# this is the way to identify if a star is filled. might need if rating average is not given"
   ]
  },
  {
   "cell_type": "code",
   "execution_count": 54,
   "id": "632763e4",
   "metadata": {},
   "outputs": [],
   "source": [
    "x_button = driver.find_element(By.XPATH, '//button[@class=\"onetrust-close-btn-handler onetrust-close-btn-ui banner-close-button ot-close-icon\"]')\n",
    "x_button.click()"
   ]
  },
  {
   "cell_type": "code",
   "execution_count": 59,
   "id": "2f6c4341",
   "metadata": {},
   "outputs": [],
   "source": [
    "button = driver.find_element(By.XPATH, '//a[@aria-label=\"Next\"]')\n",
    "hover = ActionChains(driver).move_to_element(button)\n",
    "hover.perform()\n",
    "button.click()"
   ]
  },
  {
   "cell_type": "code",
   "execution_count": 46,
   "id": "0a477a49",
   "metadata": {},
   "outputs": [
    {
     "name": "stdout",
     "output_type": "stream",
     "text": [
      "3801\n"
     ]
    }
   ],
   "source": [
    "height = driver.execute_script('return document.body.scrollHeight')\n",
    "print(height)"
   ]
  },
  {
   "cell_type": "code",
   "execution_count": null,
   "id": "9d36a64b",
   "metadata": {},
   "outputs": [],
   "source": [
    "#disabled"
   ]
  },
  {
   "cell_type": "code",
   "execution_count": 75,
   "id": "fd47b222",
   "metadata": {},
   "outputs": [
    {
     "data": {
      "text/plain": [
       "False"
      ]
     },
     "execution_count": 75,
     "metadata": {},
     "output_type": "execute_result"
    }
   ],
   "source": [
    "next_link = driver.find_element(By.XPATH, '//ul[@class=\"ais-Pagination-list\"]/li[8]')\n",
    "'disabled' not in next_link.get_attribute('class')"
   ]
  },
  {
   "cell_type": "code",
   "execution_count": 78,
   "id": "e69aea98",
   "metadata": {},
   "outputs": [],
   "source": [
    "links = []\n",
    "total = 0\n",
    "next_link_class = True\n",
    "while next_link_class:\n",
    "    wait.until(EC.visibility_of_element_located((By.XPATH, '//div[@class=\"categoryListingPages_widgetAndHitsWrapper__5FrSL\"]')))\n",
    "    time.sleep(0.5)\n",
    "    decorations_location = driver.find_element(By.XPATH, '//div[@class=\"categoryListingPages_customProdCard__F_hFw\"]')\n",
    "    item_location = decorations_location.find_elements(By.XPATH, 'div')\n",
    "    \n",
    "    items = [i.find_element(By.XPATH, 'div/div[2]/a').get_attribute(\"href\") for i in item_location]\n",
    "    \n",
    "    total += len(items)\n",
    "    links += items\n",
    "    \n",
    "    next_link = driver.find_element(By.XPATH, '//ul[@class=\"ais-Pagination-list\"]/li[8]')\n",
    "    if 'disabled' not in next_link.get_attribute('class'):\n",
    "        button = driver.find_element(By.XPATH, '//a[@aria-label=\"Next\"]')\n",
    "        hover = ActionChains(driver).move_to_element(button)\n",
    "        hover.perform()\n",
    "        button.click()\n",
    "    else:\n",
    "        next_link_class = False"
   ]
  },
  {
   "cell_type": "code",
   "execution_count": 79,
   "id": "2cf34f8d",
   "metadata": {},
   "outputs": [
    {
     "data": {
      "text/plain": [
       "254"
      ]
     },
     "execution_count": 79,
     "metadata": {},
     "output_type": "execute_result"
    }
   ],
   "source": [
    "total"
   ]
  },
  {
   "cell_type": "code",
   "execution_count": 80,
   "id": "a94009dd",
   "metadata": {},
   "outputs": [
    {
     "data": {
      "text/plain": [
       "254"
      ]
     },
     "execution_count": 80,
     "metadata": {},
     "output_type": "execute_result"
    }
   ],
   "source": [
    "len(links)"
   ]
  },
  {
   "cell_type": "code",
   "execution_count": null,
   "id": "aed1a936",
   "metadata": {},
   "outputs": [],
   "source": []
  }
 ],
 "metadata": {
  "kernelspec": {
   "display_name": "Python 3 (ipykernel)",
   "language": "python",
   "name": "python3"
  },
  "language_info": {
   "codemirror_mode": {
    "name": "ipython",
    "version": 3
   },
   "file_extension": ".py",
   "mimetype": "text/x-python",
   "name": "python",
   "nbconvert_exporter": "python",
   "pygments_lexer": "ipython3",
   "version": "3.10.9"
  }
 },
 "nbformat": 4,
 "nbformat_minor": 5
}

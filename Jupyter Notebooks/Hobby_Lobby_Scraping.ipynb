{
 "cells": [
  {
   "cell_type": "code",
   "execution_count": 1,
   "id": "5fa9e385",
   "metadata": {},
   "outputs": [],
   "source": [
    "import time\n",
    "import numpy as np\n",
    "import pandas as pd\n",
    "from splinter import Browser\n",
    "from bs4 import BeautifulSoup\n",
    "from selenium import webdriver\n",
    "from selenium.webdriver.common.by import By\n",
    "from selenium.webdriver.chrome.service import Service\n",
    "from webdriver_manager.chrome import ChromeDriverManager\n",
    "from selenium.webdriver.support.wait import WebDriverWait\n",
    "from selenium.webdriver.common.action_chains import ActionChains\n",
    "from selenium.webdriver.support import expected_conditions as EC"
   ]
  },
  {
   "cell_type": "code",
   "execution_count": 2,
   "id": "982b63ac",
   "metadata": {},
   "outputs": [],
   "source": [
    "opt = webdriver.ChromeOptions()\n",
    "opt.add_argument(\"--incognito\")\n",
    "opt.add_argument(\"disable-infobars\")\n",
    "opt.add_argument(\"--disable-extensions\")\n",
    "opt.add_argument(\"--disable-gpu\")\n",
    "opt.add_argument(\"--disable-dev-shm-usage\")\n",
    "opt.add_argument(\"--no-sandbox\")\n",
    "opt.add_argument(\"--start-maximized\")\n",
    "#opt.add_argument(\"--headless=new\")\n",
    "driver = webdriver.Chrome(options=opt)\n",
    "url = \"https://www.hobbylobby.com/search?HLNextGenEcommIndex_prd%5Bconfigure%5D%5BhitsPerPage%5D=12&HLNextGenEcommIndex_prd%5Bconfigure%5D%5Bfacets%5D%5B0%5D=%2A&HLNextGenEcommIndex_prd%5Bconfigure%5D%5Bdistinct%5D=true&HLNextGenEcommIndex_prd%5Bconfigure%5D%5BfacetingAfterDistinct%5D=true&HLNextGenEcommIndex_prd%5Bconfigure%5D%5BtypoTolerance%5D=true&HLNextGenEcommIndex_prd%5Bconfigure%5D%5Bquery%5D=christmas%20decor&HLNextGenEcommIndex_prd%5Bconfigure%5D%5BclickAnalytics%5D=true&HLNextGenEcommIndex_prd%5Bconfigure%5D%5Bfilters%5D=&HLNextGenEcommIndex_prd%5Bconfigure%5D%5BuserToken%5D=3d028c053c584bdd881dbb50a054194f1702420784024&HLNextGenEcommIndex_prd%5Bpage%5D=1\"\n",
    "driver.get(url)\n",
    "\n",
    "wait = WebDriverWait(driver, 20)"
   ]
  },
  {
   "cell_type": "code",
   "execution_count": 3,
   "id": "4aca428c",
   "metadata": {},
   "outputs": [],
   "source": [
    "wait.until(EC.visibility_of_element_located((By.XPATH, '//div[@class=\"categoryListingPages_widgetAndHitsWrapper__5FrSL\"]')))\n",
    "decorations_location = driver.find_element(By.XPATH, '//div[@class=\"categoryListingPages_customProdCard__F_hFw\"]')\n",
    "item_location = decorations_location.find_elements(By.XPATH, 'div')"
   ]
  },
  {
   "cell_type": "code",
   "execution_count": 4,
   "id": "f95b87e1",
   "metadata": {},
   "outputs": [
    {
     "name": "stdout",
     "output_type": "stream",
     "text": [
      "https://www.hobbylobby.com/Christmas/Home-Decor-Pillows/Tabletop-Decor/Merry-Christmas-Wood-Decor/p/80997498?queryId=25d761ab3a4b9a3b7d01e8c83e1f78ed\n"
     ]
    }
   ],
   "source": [
    "print(item_location[0].find_element(By.XPATH, 'div/div[2]/a').get_attribute('href'))"
   ]
  },
  {
   "cell_type": "code",
   "execution_count": 5,
   "id": "f7960cee",
   "metadata": {},
   "outputs": [
    {
     "data": {
      "text/plain": [
       "12"
      ]
     },
     "execution_count": 5,
     "metadata": {},
     "output_type": "execute_result"
    }
   ],
   "source": [
    "len([i.find_element(By.XPATH, 'div/div[2]/a').get_attribute('href') for i in item_location])"
   ]
  },
  {
   "cell_type": "code",
   "execution_count": 7,
   "id": "2af27dd3",
   "metadata": {},
   "outputs": [],
   "source": [
    "x_button = driver.find_element(By.XPATH, '//button[@class=\"onetrust-close-btn-handler onetrust-close-btn-ui banner-close-button ot-close-icon\"]')\n",
    "x_button.click()"
   ]
  },
  {
   "cell_type": "code",
   "execution_count": 8,
   "id": "fbc5b3a1",
   "metadata": {},
   "outputs": [],
   "source": [
    "button = driver.find_element(By.XPATH, '//a[@aria-label=\"Next\"]')\n",
    "hover = ActionChains(driver).move_to_element(button)\n",
    "hover.perform()\n",
    "button.click()"
   ]
  },
  {
   "cell_type": "code",
   "execution_count": 9,
   "id": "785a5d40",
   "metadata": {},
   "outputs": [
    {
     "name": "stdout",
     "output_type": "stream",
     "text": [
      "3801\n"
     ]
    }
   ],
   "source": [
    "height = driver.execute_script('return document.body.scrollHeight')\n",
    "print(height)"
   ]
  },
  {
   "cell_type": "code",
   "execution_count": 11,
   "id": "d907cead",
   "metadata": {},
   "outputs": [
    {
     "data": {
      "text/plain": [
       "True"
      ]
     },
     "execution_count": 11,
     "metadata": {},
     "output_type": "execute_result"
    }
   ],
   "source": [
    "next_link = driver.find_element(By.XPATH, '//ul[@class=\"ais-Pagination-list\"]/li[8]')\n",
    "'disabled' not in next_link.get_attribute('class')"
   ]
  },
  {
   "cell_type": "code",
   "execution_count": 12,
   "id": "9f5a6158",
   "metadata": {},
   "outputs": [],
   "source": [
    "links = []\n",
    "total = 0\n",
    "next_link_class = True\n",
    "while next_link_class:\n",
    "    wait.until(EC.visibility_of_element_located((By.XPATH, '//div[@class=\"categoryListingPages_widgetAndHitsWrapper__5FrSL\"]')))\n",
    "    time.sleep(0.5)\n",
    "    decorations_location = driver.find_element(By.XPATH, '//div[@class=\"categoryListingPages_customProdCard__F_hFw\"]')\n",
    "    item_location = decorations_location.find_elements(By.XPATH, 'div')\n",
    "    \n",
    "    items = [i.find_element(By.XPATH, 'div/div[2]/a').get_attribute(\"href\") for i in item_location]\n",
    "    \n",
    "    total += len(items)\n",
    "    links += items\n",
    "    \n",
    "    next_link = driver.find_element(By.XPATH, '//ul[@class=\"ais-Pagination-list\"]/li[8]')\n",
    "    if 'disabled' not in next_link.get_attribute('class'):\n",
    "        button = driver.find_element(By.XPATH, '//a[@aria-label=\"Next\"]')\n",
    "        hover = ActionChains(driver).move_to_element(button)\n",
    "        hover.perform()\n",
    "        button.click()\n",
    "    else:\n",
    "        next_link_class = False"
   ]
  },
  {
   "cell_type": "code",
   "execution_count": 13,
   "id": "7bd48326",
   "metadata": {},
   "outputs": [
    {
     "data": {
      "text/plain": [
       "242"
      ]
     },
     "execution_count": 13,
     "metadata": {},
     "output_type": "execute_result"
    }
   ],
   "source": [
    "total"
   ]
  },
  {
   "cell_type": "code",
   "execution_count": 14,
   "id": "11ee13d0",
   "metadata": {},
   "outputs": [
    {
     "data": {
      "text/plain": [
       "242"
      ]
     },
     "execution_count": 14,
     "metadata": {},
     "output_type": "execute_result"
    }
   ],
   "source": [
    "len(links)"
   ]
  },
  {
   "cell_type": "code",
   "execution_count": 15,
   "id": "1cf06b97",
   "metadata": {},
   "outputs": [
    {
     "data": {
      "text/plain": [
       "True"
      ]
     },
     "execution_count": 15,
     "metadata": {},
     "output_type": "execute_result"
    }
   ],
   "source": [
    "len(links) != len(set(links))"
   ]
  },
  {
   "cell_type": "code",
   "execution_count": 17,
   "id": "c8972a5a",
   "metadata": {},
   "outputs": [],
   "source": [
    "name = []\n",
    "actual_price = []\n",
    "on_sale_price = []\n",
    "percent_off = []\n",
    "review_count = []\n",
    "rating = []\n",
    "category = []\n",
    "sub_category = []\n",
    "brand = []"
   ]
  },
  {
   "cell_type": "code",
   "execution_count": 23,
   "id": "6d974d9f",
   "metadata": {},
   "outputs": [],
   "source": [
    "driver.get(links[0])"
   ]
  },
  {
   "cell_type": "code",
   "execution_count": 36,
   "id": "39cac643",
   "metadata": {},
   "outputs": [],
   "source": [
    "page = driver.page_source\n",
    "soup = BeautifulSoup(page, \"lxml\")"
   ]
  },
  {
   "cell_type": "code",
   "execution_count": 38,
   "id": "e7f56c11",
   "metadata": {},
   "outputs": [
    {
     "data": {
      "text/plain": [
       "'Merry Christmas Cardinals Decor'"
      ]
     },
     "execution_count": 38,
     "metadata": {},
     "output_type": "execute_result"
    }
   ],
   "source": [
    "wait.until(EC.visibility_of_element_located((By.XPATH, '//div[@class=\"pdpIndex_pdpTop__HN6gG\"]')))\n",
    "soup.find(class_=\"productDetails_productDetailsName__4FWSV\").text"
   ]
  },
  {
   "cell_type": "code",
   "execution_count": 40,
   "id": "65f7296a",
   "metadata": {},
   "outputs": [
    {
     "data": {
      "text/plain": [
       "'$20.99'"
      ]
     },
     "execution_count": 40,
     "metadata": {},
     "output_type": "execute_result"
    }
   ],
   "source": [
    "soup.find(class_=\"productPriceSection_priceStrikeThrough__bkv5g\").text"
   ]
  },
  {
   "cell_type": "code",
   "execution_count": 41,
   "id": "69de4250",
   "metadata": {},
   "outputs": [
    {
     "data": {
      "text/plain": [
       "'$10.49'"
      ]
     },
     "execution_count": 41,
     "metadata": {},
     "output_type": "execute_result"
    }
   ],
   "source": [
    "soup.find(class_=\"productPriceSection_priceSale__xWgTQ\").text"
   ]
  },
  {
   "cell_type": "code",
   "execution_count": 42,
   "id": "7f79b5d7",
   "metadata": {},
   "outputs": [
    {
     "data": {
      "text/plain": [
       "True"
      ]
     },
     "execution_count": 42,
     "metadata": {},
     "output_type": "execute_result"
    }
   ],
   "source": [
    "'% Off' in soup.find(class_=\"productDetails_productDetails__5rL1H\").text"
   ]
  },
  {
   "cell_type": "code",
   "execution_count": 43,
   "id": "8582cfd1",
   "metadata": {},
   "outputs": [
    {
     "data": {
      "text/plain": [
       "'50%'"
      ]
     },
     "execution_count": 43,
     "metadata": {},
     "output_type": "execute_result"
    }
   ],
   "source": [
    "soup.find(class_=\"productPriceSection_priceSaleDetails__aq0vT\").text.split()[0]"
   ]
  },
  {
   "cell_type": "code",
   "execution_count": 44,
   "id": "1e206fa3",
   "metadata": {},
   "outputs": [
    {
     "data": {
      "text/plain": [
       "'0'"
      ]
     },
     "execution_count": 44,
     "metadata": {},
     "output_type": "execute_result"
    }
   ],
   "source": [
    "soup.find(class_=\"productRatingSection_ratings__oCULx\").text"
   ]
  },
  {
   "cell_type": "code",
   "execution_count": 45,
   "id": "40806a9d",
   "metadata": {},
   "outputs": [
    {
     "data": {
      "text/plain": [
       "'No reviews yet'"
      ]
     },
     "execution_count": 45,
     "metadata": {},
     "output_type": "execute_result"
    }
   ],
   "source": [
    "soup.find(class_=\"reviews_reviewsOverallRatingNumber__iiP3k\").text"
   ]
  },
  {
   "cell_type": "code",
   "execution_count": 46,
   "id": "c2273d70",
   "metadata": {},
   "outputs": [
    {
     "data": {
      "text/plain": [
       "''"
      ]
     },
     "execution_count": 46,
     "metadata": {},
     "output_type": "execute_result"
    }
   ],
   "source": [
    "soup.find(class_=\"productDetails_productDetailsBrand__5X1KY\").text"
   ]
  },
  {
   "cell_type": "code",
   "execution_count": 53,
   "id": "b920eae1",
   "metadata": {},
   "outputs": [
    {
     "data": {
      "text/plain": [
       "'Tabletop Decor'"
      ]
     },
     "execution_count": 53,
     "metadata": {},
     "output_type": "execute_result"
    }
   ],
   "source": [
    "soup.find(class_=\"breadcrumb_wrapper__BamXG\").text.split(\"|\")[-2].strip()"
   ]
  },
  {
   "cell_type": "code",
   "execution_count": 54,
   "id": "bbb286bf",
   "metadata": {},
   "outputs": [
    {
     "data": {
      "text/plain": [
       "'Merry Christmas Cardinals Decor'"
      ]
     },
     "execution_count": 54,
     "metadata": {},
     "output_type": "execute_result"
    }
   ],
   "source": [
    "soup.find(class_=\"breadcrumb_wrapper__BamXG\").text.split(\"|\")[-1].strip()"
   ]
  },
  {
   "cell_type": "code",
   "execution_count": 59,
   "id": "f7c9301e",
   "metadata": {},
   "outputs": [
    {
     "data": {
      "text/plain": [
       "226"
      ]
     },
     "execution_count": 59,
     "metadata": {},
     "output_type": "execute_result"
    }
   ],
   "source": [
    "links_no_gc = []\n",
    "len([links_no_gc.append(i) for i in links if \"Gift-Card\" not in i])"
   ]
  },
  {
   "cell_type": "code",
   "execution_count": 60,
   "id": "d3fe30a7",
   "metadata": {},
   "outputs": [
    {
     "data": {
      "text/plain": [
       "226"
      ]
     },
     "execution_count": 60,
     "metadata": {},
     "output_type": "execute_result"
    }
   ],
   "source": [
    "len(links_no_gc)"
   ]
  },
  {
   "cell_type": "code",
   "execution_count": 61,
   "id": "df5bf46e",
   "metadata": {},
   "outputs": [],
   "source": [
    "name = []\n",
    "actual_price = []\n",
    "on_sale_price = []\n",
    "percent_off = []\n",
    "review_count = []\n",
    "rating = []\n",
    "category = []\n",
    "sub_category = []\n",
    "brand = []\n",
    "\n",
    "for i in links_no_gc:\n",
    "    driver.get(i)\n",
    "    \n",
    "    wait.until(EC.visibility_of_element_located((By.XPATH, '//div[@class=\"pdpIndex_pdpTop__HN6gG\"]')))  \n",
    "    page = driver.page_source\n",
    "    soup = BeautifulSoup(page, \"lxml\")\n",
    "    \n",
    "    name.append(soup.find(class_=\"productDetails_productDetailsName__4FWSV\").text)\n",
    "   \n",
    "    if '% Off' in soup.find(class_=\"productDetails_productDetails__5rL1H\").text:\n",
    "        actual_price.append(soup.find(class_=\"productPriceSection_priceStrikeThrough__bkv5g\").text)\n",
    "        on_sale_price.append(soup.find(class_=\"productPriceSection_priceSale__xWgTQ\").text)\n",
    "        percent_off.append(soup.find(class_=\"productPriceSection_priceSaleDetails__aq0vT\").text.split()[0])\n",
    "    else:\n",
    "        actual_price.append(soup.find(class_=\"productPriceSection_price__NdsnH\").text)\n",
    "        on_sale_price.append(\"Not on Sale\")\n",
    "        percent_off.append(\"0\")\n",
    "    \n",
    "    review_count.append(soup.find(class_=\"productRatingSection_ratings__oCULx\").text)\n",
    "    rating.append(soup.find(class_=\"reviews_reviewsOverallRatingNumber__iiP3k\").text)\n",
    "    category.append(soup.find(class_=\"breadcrumb_wrapper__BamXG\").text.split(\"|\")[-2].strip())\n",
    "    sub_category.append(soup.find(class_=\"breadcrumb_wrapper__BamXG\").text.split(\"|\")[-1].strip())\n",
    "    brand.append(soup.find(class_=\"productDetails_productDetailsBrand__5X1KY\").text)"
   ]
  },
  {
   "cell_type": "code",
   "execution_count": 62,
   "id": "b645e1bb",
   "metadata": {},
   "outputs": [
    {
     "data": {
      "text/plain": [
       "226"
      ]
     },
     "execution_count": 62,
     "metadata": {},
     "output_type": "execute_result"
    }
   ],
   "source": [
    "len(name)"
   ]
  },
  {
   "cell_type": "code",
   "execution_count": 63,
   "id": "bedf5986",
   "metadata": {},
   "outputs": [
    {
     "data": {
      "text/plain": [
       "226"
      ]
     },
     "execution_count": 63,
     "metadata": {},
     "output_type": "execute_result"
    }
   ],
   "source": [
    "len(actual_price)"
   ]
  },
  {
   "cell_type": "code",
   "execution_count": 64,
   "id": "0260a38f",
   "metadata": {},
   "outputs": [
    {
     "data": {
      "text/plain": [
       "226"
      ]
     },
     "execution_count": 64,
     "metadata": {},
     "output_type": "execute_result"
    }
   ],
   "source": [
    "len(on_sale_price)"
   ]
  },
  {
   "cell_type": "code",
   "execution_count": 65,
   "id": "c8f5821c",
   "metadata": {},
   "outputs": [
    {
     "data": {
      "text/plain": [
       "226"
      ]
     },
     "execution_count": 65,
     "metadata": {},
     "output_type": "execute_result"
    }
   ],
   "source": [
    "len(percent_off)"
   ]
  },
  {
   "cell_type": "code",
   "execution_count": 66,
   "id": "3159c280",
   "metadata": {},
   "outputs": [
    {
     "data": {
      "text/plain": [
       "226"
      ]
     },
     "execution_count": 66,
     "metadata": {},
     "output_type": "execute_result"
    }
   ],
   "source": [
    "len(review_count)"
   ]
  },
  {
   "cell_type": "code",
   "execution_count": 67,
   "id": "0bffde9d",
   "metadata": {},
   "outputs": [
    {
     "data": {
      "text/plain": [
       "226"
      ]
     },
     "execution_count": 67,
     "metadata": {},
     "output_type": "execute_result"
    }
   ],
   "source": [
    "len(rating)"
   ]
  },
  {
   "cell_type": "code",
   "execution_count": 68,
   "id": "c4cc68fc",
   "metadata": {},
   "outputs": [
    {
     "data": {
      "text/plain": [
       "226"
      ]
     },
     "execution_count": 68,
     "metadata": {},
     "output_type": "execute_result"
    }
   ],
   "source": [
    "len(category)"
   ]
  },
  {
   "cell_type": "code",
   "execution_count": 69,
   "id": "7d021978",
   "metadata": {},
   "outputs": [
    {
     "data": {
      "text/plain": [
       "226"
      ]
     },
     "execution_count": 69,
     "metadata": {},
     "output_type": "execute_result"
    }
   ],
   "source": [
    "len(sub_category)"
   ]
  },
  {
   "cell_type": "code",
   "execution_count": 70,
   "id": "becbefb2",
   "metadata": {},
   "outputs": [
    {
     "data": {
      "text/plain": [
       "226"
      ]
     },
     "execution_count": 70,
     "metadata": {},
     "output_type": "execute_result"
    }
   ],
   "source": [
    "len(brand)"
   ]
  },
  {
   "cell_type": "code",
   "execution_count": 71,
   "id": "9a58dc7a",
   "metadata": {},
   "outputs": [],
   "source": [
    "data = {\"Name\": name, \"Actual Price\": actual_price, \"Sale Price\": on_sale_price, \"Discount %\": percent_off, \"Rating\": rating, \"Number of Reviews\": review_count, \"Category\": category, \"Sub-Category\": sub_category, \"Brand\": brand}"
   ]
  },
  {
   "cell_type": "code",
   "execution_count": 74,
   "id": "b2426681",
   "metadata": {},
   "outputs": [
    {
     "data": {
      "text/html": [
       "<div>\n",
       "<style scoped>\n",
       "    .dataframe tbody tr th:only-of-type {\n",
       "        vertical-align: middle;\n",
       "    }\n",
       "\n",
       "    .dataframe tbody tr th {\n",
       "        vertical-align: top;\n",
       "    }\n",
       "\n",
       "    .dataframe thead th {\n",
       "        text-align: right;\n",
       "    }\n",
       "</style>\n",
       "<table border=\"1\" class=\"dataframe\">\n",
       "  <thead>\n",
       "    <tr style=\"text-align: right;\">\n",
       "      <th></th>\n",
       "      <th>Name</th>\n",
       "      <th>Actual Price</th>\n",
       "      <th>Sale Price</th>\n",
       "      <th>Discount %</th>\n",
       "      <th>Rating</th>\n",
       "      <th>Number of Reviews</th>\n",
       "      <th>Category</th>\n",
       "      <th>Sub-Category</th>\n",
       "      <th>Brand</th>\n",
       "    </tr>\n",
       "  </thead>\n",
       "  <tbody>\n",
       "    <tr>\n",
       "      <th>0</th>\n",
       "      <td>Merry Christmas Cardinals Decor</td>\n",
       "      <td>$20.99</td>\n",
       "      <td>$10.49</td>\n",
       "      <td>50%</td>\n",
       "      <td>No reviews yet</td>\n",
       "      <td>0</td>\n",
       "      <td>Tabletop Decor</td>\n",
       "      <td>Merry Christmas Cardinals Decor</td>\n",
       "      <td></td>\n",
       "    </tr>\n",
       "    <tr>\n",
       "      <th>1</th>\n",
       "      <td>Merry Christmas Decor</td>\n",
       "      <td>$6.99</td>\n",
       "      <td>$3.49</td>\n",
       "      <td>50%</td>\n",
       "      <td>No reviews yet</td>\n",
       "      <td>0</td>\n",
       "      <td>Tabletop Decor</td>\n",
       "      <td>Merry Christmas Decor</td>\n",
       "      <td></td>\n",
       "    </tr>\n",
       "    <tr>\n",
       "      <th>2</th>\n",
       "      <td>We Wish You A Merry Christmas Wood Decor</td>\n",
       "      <td>$9.99</td>\n",
       "      <td>$4.99</td>\n",
       "      <td>50%</td>\n",
       "      <td>No reviews yet</td>\n",
       "      <td>0</td>\n",
       "      <td>Tabletop Decor</td>\n",
       "      <td>We Wish You A Merry Christmas Wood Decor</td>\n",
       "      <td></td>\n",
       "    </tr>\n",
       "    <tr>\n",
       "      <th>3</th>\n",
       "      <td>Merry Christmas Pine &amp; Berry Arrangement</td>\n",
       "      <td>$29.99</td>\n",
       "      <td>$14.99</td>\n",
       "      <td>50%</td>\n",
       "      <td>5.0</td>\n",
       "      <td>1</td>\n",
       "      <td>Tabletop Decor</td>\n",
       "      <td>Merry Christmas Pine &amp; Berry Arrangement</td>\n",
       "      <td>Barb's Tree Farm</td>\n",
       "    </tr>\n",
       "    <tr>\n",
       "      <th>4</th>\n",
       "      <td>Merry Christmas Wood Wall Decor</td>\n",
       "      <td>$7.49</td>\n",
       "      <td>$3.74</td>\n",
       "      <td>50%</td>\n",
       "      <td>No reviews yet</td>\n",
       "      <td>0</td>\n",
       "      <td>Tabletop Decor</td>\n",
       "      <td>Merry Christmas Wood Wall Decor</td>\n",
       "      <td></td>\n",
       "    </tr>\n",
       "  </tbody>\n",
       "</table>\n",
       "</div>"
      ],
      "text/plain": [
       "                                       Name Actual Price Sale Price  \\\n",
       "0           Merry Christmas Cardinals Decor       $20.99     $10.49   \n",
       "1                     Merry Christmas Decor        $6.99      $3.49   \n",
       "2  We Wish You A Merry Christmas Wood Decor        $9.99      $4.99   \n",
       "3  Merry Christmas Pine & Berry Arrangement       $29.99     $14.99   \n",
       "4           Merry Christmas Wood Wall Decor        $7.49      $3.74   \n",
       "\n",
       "  Discount %          Rating Number of Reviews        Category  \\\n",
       "0        50%  No reviews yet                 0  Tabletop Decor   \n",
       "1        50%  No reviews yet                 0  Tabletop Decor   \n",
       "2        50%  No reviews yet                 0  Tabletop Decor   \n",
       "3        50%             5.0                 1  Tabletop Decor   \n",
       "4        50%  No reviews yet                 0  Tabletop Decor   \n",
       "\n",
       "                               Sub-Category             Brand  \n",
       "0           Merry Christmas Cardinals Decor                    \n",
       "1                     Merry Christmas Decor                    \n",
       "2  We Wish You A Merry Christmas Wood Decor                    \n",
       "3  Merry Christmas Pine & Berry Arrangement  Barb's Tree Farm  \n",
       "4           Merry Christmas Wood Wall Decor                    "
      ]
     },
     "execution_count": 74,
     "metadata": {},
     "output_type": "execute_result"
    }
   ],
   "source": [
    "df = pd.DataFrame.from_dict(data)\n",
    "df.head()"
   ]
  },
  {
   "cell_type": "code",
   "execution_count": 75,
   "id": "5acad43a",
   "metadata": {},
   "outputs": [],
   "source": [
    "df.to_csv(\"Datasets/hobby_lobby_christmas_deco.csv\")"
   ]
  },
  {
   "cell_type": "code",
   "execution_count": null,
   "id": "ada5491f",
   "metadata": {},
   "outputs": [],
   "source": []
  }
 ],
 "metadata": {
  "kernelspec": {
   "display_name": "Python 3 (ipykernel)",
   "language": "python",
   "name": "python3"
  },
  "language_info": {
   "codemirror_mode": {
    "name": "ipython",
    "version": 3
   },
   "file_extension": ".py",
   "mimetype": "text/x-python",
   "name": "python",
   "nbconvert_exporter": "python",
   "pygments_lexer": "ipython3",
   "version": "3.10.9"
  }
 },
 "nbformat": 4,
 "nbformat_minor": 5
}

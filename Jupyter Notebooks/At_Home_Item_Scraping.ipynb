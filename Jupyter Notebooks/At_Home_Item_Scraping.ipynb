{
 "cells": [
  {
   "cell_type": "code",
   "execution_count": 50,
   "id": "060ad3d4",
   "metadata": {},
   "outputs": [],
   "source": [
    "import time\n",
    "import numpy as np\n",
    "import pandas as pd\n",
    "from splinter import Browser\n",
    "from bs4 import BeautifulSoup\n",
    "from selenium import webdriver\n",
    "from selenium.webdriver.common.by import By\n",
    "from selenium.webdriver.chrome.service import Service\n",
    "from selenium.common.exceptions import TimeoutException\n",
    "from webdriver_manager.chrome import ChromeDriverManager\n",
    "from selenium.webdriver.support.wait import WebDriverWait\n",
    "from selenium.webdriver.common.action_chains import ActionChains\n",
    "from selenium.webdriver.support import expected_conditions as EC\n",
    "\n",
    "\n",
    "opt = webdriver.ChromeOptions()\n",
    "opt.add_argument(\"--incognito\")\n",
    "opt.add_argument(\"disable-infobars\")\n",
    "opt.add_argument(\"--disable-extensions\")\n",
    "opt.add_argument(\"--disable-gpu\")\n",
    "opt.add_argument(\"--disable-dev-shm-usage\")\n",
    "opt.add_argument(\"--no-sandbox\")\n",
    "user_agent = 'Mozilla/5.0 (Windows NT 10.0; Win64; x64) AppleWebKit/537.36 (KHTML, like Gecko) Chrome/83.0.4103.116 Safari/537.36'\n",
    "opt.add_argument(f'user-agent={user_agent}')\n",
    "opt.add_argument(\"--headless=new\")"
   ]
  },
  {
   "cell_type": "code",
   "execution_count": 51,
   "id": "357862e6",
   "metadata": {},
   "outputs": [],
   "source": [
    "my_file = open(\"output.txt\", \"r\") \n",
    "  \n",
    "data = my_file.read() \n",
    "  \n",
    "links = data.split(\"\\n\")\n",
    "my_file.close() "
   ]
  },
  {
   "cell_type": "code",
   "execution_count": 52,
   "id": "01adfe27",
   "metadata": {},
   "outputs": [
    {
     "data": {
      "text/plain": [
       "'https://www.athome.com/premium-rolling-christmas-tree-storage-bag-7.5/124183059.html?nav=search'"
      ]
     },
     "execution_count": 52,
     "metadata": {},
     "output_type": "execute_result"
    }
   ],
   "source": [
    "links[0]"
   ]
  },
  {
   "cell_type": "code",
   "execution_count": 53,
   "id": "5be221d1",
   "metadata": {},
   "outputs": [],
   "source": [
    "driver = webdriver.Chrome(options=opt)\n",
    "driver.get(links[0])\n",
    "wait = WebDriverWait(driver, 20)"
   ]
  },
  {
   "cell_type": "code",
   "execution_count": 54,
   "id": "f63bc059",
   "metadata": {},
   "outputs": [
    {
     "data": {
      "text/plain": [
       "<selenium.webdriver.remote.webelement.WebElement (session=\"bfaba770d1fe14f5837bb2d5c25c06d9\", element=\"1994ACD99F59423FBA3E2B66D615152E_element_76\")>"
      ]
     },
     "execution_count": 54,
     "metadata": {},
     "output_type": "execute_result"
    }
   ],
   "source": [
    "wait.until(EC.visibility_of_element_located((By.XPATH, '//div[@class=\"row my-md-4 gallery-buybox-wrapper\"]')))"
   ]
  },
  {
   "cell_type": "code",
   "execution_count": 55,
   "id": "7dd0fdfa",
   "metadata": {},
   "outputs": [],
   "source": [
    "page = driver.page_source\n",
    "soup = BeautifulSoup(page, \"lxml\")"
   ]
  },
  {
   "cell_type": "code",
   "execution_count": 56,
   "id": "c2427ec3",
   "metadata": {},
   "outputs": [],
   "source": [
    "header = soup.find(class_=\"pdp-heading-row row\")"
   ]
  },
  {
   "cell_type": "code",
   "execution_count": 57,
   "id": "82683b0d",
   "metadata": {},
   "outputs": [
    {
     "data": {
      "text/plain": [
       "\"Premium Rolling Christmas Tree Storage Bag, 7.5'\""
      ]
     },
     "execution_count": 57,
     "metadata": {},
     "output_type": "execute_result"
    }
   ],
   "source": [
    "header.find(class_=\"product-name\").text.strip()"
   ]
  },
  {
   "cell_type": "code",
   "execution_count": 58,
   "id": "a893f03f",
   "metadata": {},
   "outputs": [],
   "source": [
    "rating = header.find(class_=\"rating-num\")#.text#.strip()\n",
    "if rating is not None:\n",
    "    rating.text.strip()\n",
    "else:\n",
    "    print(\"Empty\")"
   ]
  },
  {
   "cell_type": "code",
   "execution_count": 59,
   "id": "db9116c1",
   "metadata": {},
   "outputs": [],
   "source": [
    "amt_of_reviews = header.find(class_=\"rating-count\")#.text.strip()\n",
    "if amt_of_reviews is not None:\n",
    "    amt_of_reviews.text.strip()\n",
    "else:\n",
    "    print(\"Empty\")"
   ]
  },
  {
   "cell_type": "code",
   "execution_count": 60,
   "id": "dbf52ed1",
   "metadata": {},
   "outputs": [],
   "source": [
    "main_area = soup.find(class_=\"row my-md-4 gallery-buybox-wrapper\")"
   ]
  },
  {
   "cell_type": "code",
   "execution_count": 61,
   "id": "c414383d",
   "metadata": {},
   "outputs": [],
   "source": [
    "#main_area.find(class_=\"regular-price active-price\").text.strip()"
   ]
  },
  {
   "cell_type": "code",
   "execution_count": 62,
   "id": "d9c01b4d",
   "metadata": {},
   "outputs": [],
   "source": [
    "cats = soup.find(class_=\"product-breadcrumb\")"
   ]
  },
  {
   "cell_type": "code",
   "execution_count": 63,
   "id": "745f5bcd",
   "metadata": {},
   "outputs": [],
   "source": [
    "categories_area = cats.find(class_=\"breadcrumb\").select(\"li\")"
   ]
  },
  {
   "cell_type": "code",
   "execution_count": 64,
   "id": "73c68752",
   "metadata": {},
   "outputs": [
    {
     "data": {
      "text/plain": [
       "'Christmas'"
      ]
     },
     "execution_count": 64,
     "metadata": {},
     "output_type": "execute_result"
    }
   ],
   "source": [
    "categories_area[-3].text.strip()"
   ]
  },
  {
   "cell_type": "code",
   "execution_count": 65,
   "id": "4eb8c34e",
   "metadata": {},
   "outputs": [
    {
     "data": {
      "text/plain": [
       "'Christmas Storage'"
      ]
     },
     "execution_count": 65,
     "metadata": {},
     "output_type": "execute_result"
    }
   ],
   "source": [
    "categories_area[-2].text.strip()"
   ]
  },
  {
   "cell_type": "code",
   "execution_count": 66,
   "id": "1768e52d",
   "metadata": {},
   "outputs": [
    {
     "data": {
      "text/plain": [
       "''"
      ]
     },
     "execution_count": 66,
     "metadata": {},
     "output_type": "execute_result"
    }
   ],
   "source": [
    "soup.find(class_=\"product-brand col-12 p-0\").text.strip()"
   ]
  },
  {
   "cell_type": "code",
   "execution_count": 68,
   "id": "c3127293",
   "metadata": {},
   "outputs": [],
   "source": [
    "money_area = main_area.find(class_=\"adornment-first-pricing\")"
   ]
  },
  {
   "cell_type": "code",
   "execution_count": 69,
   "id": "eb7cdb07",
   "metadata": {},
   "outputs": [],
   "source": [
    "money_list = money_area.select(\"div\")[1].get(\"class\")"
   ]
  },
  {
   "cell_type": "code",
   "execution_count": 70,
   "id": "c2728803",
   "metadata": {},
   "outputs": [
    {
     "name": "stdout",
     "output_type": "stream",
     "text": [
      "$24.99\n"
     ]
    }
   ],
   "source": [
    "if \"regular-price\" in money_list:\n",
    "    print(money_area.find(class_=\"regular-price active-price\").text.strip())\n",
    "else:\n",
    "    print(money_area.find(class_=\"savings-percentage under-100\").text.split()[1])\n",
    "    print(money_area.find(class_=\"product-ab-price strikethrough-price regular-price\").text.split()[0])\n",
    "    print(money_area.find(class_=\"active-price sale-price product-ab-price\").text.split()[0])"
   ]
  },
  {
   "cell_type": "code",
   "execution_count": 71,
   "id": "b1b4ed1e",
   "metadata": {},
   "outputs": [
    {
     "data": {
      "text/plain": [
       "36"
      ]
     },
     "execution_count": 71,
     "metadata": {},
     "output_type": "execute_result"
    }
   ],
   "source": [
    "round(len(links)/100)"
   ]
  },
  {
   "cell_type": "code",
   "execution_count": 72,
   "id": "83b9e4c8",
   "metadata": {},
   "outputs": [
    {
     "data": {
      "text/plain": [
       "3614"
      ]
     },
     "execution_count": 72,
     "metadata": {},
     "output_type": "execute_result"
    }
   ],
   "source": [
    "len(set(links))"
   ]
  },
  {
   "cell_type": "code",
   "execution_count": 73,
   "id": "696464ab",
   "metadata": {},
   "outputs": [],
   "source": [
    "driver.close()"
   ]
  },
  {
   "cell_type": "code",
   "execution_count": 74,
   "id": "4c0a964e",
   "metadata": {
    "scrolled": true
   },
   "outputs": [
    {
     "name": "stdout",
     "output_type": "stream",
     "text": [
      "Runs completed: 1\n",
      "Runs completed: 2\n",
      "Runs completed: 3\n",
      "Runs completed: 4\n",
      "Runs completed: 5\n",
      "Runs completed: 6\n",
      "Runs completed: 7\n",
      "Runs completed: 8\n",
      "Runs completed: 9\n",
      "Runs completed: 10\n",
      "Runs completed: 11\n",
      "Runs completed: 12\n",
      "Runs completed: 13\n",
      "Runs completed: 14\n",
      "Runs completed: 15\n",
      "Runs completed: 16\n",
      "Runs completed: 17\n",
      "Runs completed: 18\n",
      "Runs completed: 19\n",
      "Runs completed: 20\n",
      "Runs completed: 21\n",
      "Runs completed: 22\n",
      "Runs completed: 23\n",
      "Runs completed: 24\n",
      "Runs completed: 25\n",
      "Runs completed: 26\n",
      "Runs completed: 27\n",
      "Runs completed: 28\n",
      "Runs completed: 29\n",
      "Runs completed: 30\n",
      "Runs completed: 31\n",
      "Runs completed: 32\n",
      "Runs completed: 33\n",
      "Runs completed: 34\n",
      "Runs completed: 35\n",
      "Runs completed: 36\n",
      "Runs completed: 37\n"
     ]
    }
   ],
   "source": [
    "name = []\n",
    "actual_price = []\n",
    "sale_price = []\n",
    "percent_off = []\n",
    "review_count = []\n",
    "rating = []\n",
    "category = []\n",
    "sub_category = []\n",
    "brand = []\n",
    "\n",
    "runs = 0\n",
    "loop_repeats = round(len(links)/100)\n",
    "#driver = webdriver.Chrome(options=opt)\n",
    "#driver.get(links[0])\n",
    "#wait = WebDriverWait(driver, 20)\n",
    "for i in range(runs, loop_repeats + 1):\n",
    "    if i != loop_repeats:\n",
    "        l = 0\n",
    "        for j in links[runs*100:runs*100+100]:\n",
    "            \n",
    "            driver = webdriver.Chrome(options=opt)\n",
    "            driver.get(j)\n",
    "            wait = WebDriverWait(driver, 20)\n",
    "            \n",
    "            try:\n",
    "                wait.until(EC.visibility_of_element_located((By.XPATH, '//div[@class=\"row my-md-4 gallery-buybox-wrapper\"]')))\n",
    "            except TimeoutException:\n",
    "                continue\n",
    "            page = driver.page_source\n",
    "            soup = BeautifulSoup(page, \"lxml\")\n",
    "            \n",
    "            header = soup.find(class_=\"pdp-heading-row row\")\n",
    "            name.append(header.find(class_=\"product-name\").text.strip())\n",
    "            \n",
    "            \n",
    "            main_area = soup.find(class_=\"row my-md-4 gallery-buybox-wrapper\")\n",
    "            money_area = main_area.find(class_=\"adornment-first-pricing\")\n",
    "            money_list = money_area.select(\"div\")[1].get(\"class\")\n",
    "            if \"regular-price\" in money_list:\n",
    "                actual_price.append(money_area.find(class_=\"regular-price active-price\").text.strip())\n",
    "                sale_price.append(money_area.find(class_=\"regular-price active-price\").text.strip())\n",
    "                percent_off.append(\"0\")\n",
    "            else:\n",
    "                percent_off.append(money_area.find(class_=\"savings-percentage\").text.split()[1])\n",
    "                actual_price.append(money_area.find(class_=\"product-ab-price strikethrough-price regular-price\").text.split()[0])\n",
    "                sale_price.append(money_area.find(class_=\"active-price sale-price product-ab-price\").text.split()[0])\n",
    "            \n",
    "            rating_area = header.find(class_=\"rating-num\")\n",
    "            if rating_area is not None:\n",
    "                rating.append(rating_area.text.strip())\n",
    "            else:\n",
    "                rating.append(\"0\")\n",
    "                \n",
    "            review_area = header.find(class_=\"rating-count\")\n",
    "            if review_area is not None:\n",
    "                review_count.append(review_area.text.strip())\n",
    "            else:\n",
    "                review_count.append(\"0\")\n",
    "                \n",
    "            cats = soup.find(class_=\"product-breadcrumb\")\n",
    "            categories_area = cats.find(class_=\"breadcrumb\").select(\"li\")\n",
    "            category.append(categories_area[-3].text.strip())\n",
    "            sub_category.append(categories_area[-2].text.strip())\n",
    "            brand.append(soup.find(class_=\"product-brand col-12 p-0\").text.strip())\n",
    "            driver.close()\n",
    "    else:\n",
    "        for i in links[runs*100:-1]:\n",
    "            driver = webdriver.Chrome(options=opt)\n",
    "            driver.get(i)\n",
    "            wait = WebDriverWait(driver, 20)\n",
    "            \n",
    "            wait.until(EC.visibility_of_element_located((By.XPATH, '//div[@class=\"row my-md-4 gallery-buybox-wrapper\"]')))\n",
    "            page = driver.page_source\n",
    "            soup = BeautifulSoup(page, \"lxml\")\n",
    "            \n",
    "            header = soup.find(class_=\"pdp-heading-row row\")\n",
    "            name.append(header.find(class_=\"product-name\").text.strip())\n",
    "            \n",
    "            \n",
    "            if \"regular-price\" in money_list:\n",
    "                actual_price.append(money_area.find(class_=\"regular-price active-price\").text.strip())\n",
    "                sale_price.append(money_area.find(class_=\"regular-price active-price\").text.strip())\n",
    "                percent_off.append(\"0\")\n",
    "            else:\n",
    "                percent_off.append(money_area.find(class_=\"savings-percentage\").text.split()[1])\n",
    "                actual_price.append(money_area.find(class_=\"product-ab-price strikethrough-price regular-price\").text.split()[0])\n",
    "                sale_price.append(money_area.find(class_=\"active-price sale-price product-ab-price\").text.split()[0])\n",
    "            \n",
    "            rating_area = header.find(class_=\"rating-num\")#.text#.strip()\n",
    "            if rating_area is not None:\n",
    "                rating.append(rating_area.text.strip())\n",
    "            else:\n",
    "                rating.append(\"0\")\n",
    "                \n",
    "            review_area = header.find(class_=\"rating-count\")#.text.strip()\n",
    "            if review_area is not None:\n",
    "                review_count.append(review_area.text.strip())\n",
    "            else:\n",
    "                review_count.append(\"0\")\n",
    "                \n",
    "            cats = soup.find(class_=\"product-breadcrumb\")\n",
    "            category.append(categories_area[-3].text.strip())\n",
    "            sub_category.append(categories_area[-2].text.strip())\n",
    "            brand.append(soup.find(class_=\"product-brand col-12 p-0\").text.strip())\n",
    "            \n",
    "            driver.close()\n",
    "    \n",
    "    runs += 1\n",
    "    print(f\"Runs completed: {runs}\")"
   ]
  },
  {
   "cell_type": "code",
   "execution_count": 75,
   "id": "d5d63749",
   "metadata": {
    "scrolled": true
   },
   "outputs": [
    {
     "data": {
      "text/plain": [
       "3269"
      ]
     },
     "execution_count": 75,
     "metadata": {},
     "output_type": "execute_result"
    }
   ],
   "source": [
    "len(name)"
   ]
  },
  {
   "cell_type": "code",
   "execution_count": 76,
   "id": "37ad5907",
   "metadata": {},
   "outputs": [
    {
     "data": {
      "text/plain": [
       "3225"
      ]
     },
     "execution_count": 76,
     "metadata": {},
     "output_type": "execute_result"
    }
   ],
   "source": [
    "len(set(name))"
   ]
  },
  {
   "cell_type": "code",
   "execution_count": 77,
   "id": "0a5a7e52",
   "metadata": {},
   "outputs": [
    {
     "data": {
      "text/plain": [
       "3269"
      ]
     },
     "execution_count": 77,
     "metadata": {},
     "output_type": "execute_result"
    }
   ],
   "source": [
    "len(actual_price)"
   ]
  },
  {
   "cell_type": "code",
   "execution_count": 78,
   "id": "fe1c5d04",
   "metadata": {},
   "outputs": [
    {
     "data": {
      "text/plain": [
       "3269"
      ]
     },
     "execution_count": 78,
     "metadata": {},
     "output_type": "execute_result"
    }
   ],
   "source": [
    "len(sale_price)"
   ]
  },
  {
   "cell_type": "code",
   "execution_count": 79,
   "id": "0ba38f39",
   "metadata": {},
   "outputs": [
    {
     "data": {
      "text/plain": [
       "3269"
      ]
     },
     "execution_count": 79,
     "metadata": {},
     "output_type": "execute_result"
    }
   ],
   "source": [
    "len(percent_off)"
   ]
  },
  {
   "cell_type": "code",
   "execution_count": 80,
   "id": "d9cda4fe",
   "metadata": {},
   "outputs": [
    {
     "data": {
      "text/plain": [
       "3269"
      ]
     },
     "execution_count": 80,
     "metadata": {},
     "output_type": "execute_result"
    }
   ],
   "source": [
    "len(review_count)"
   ]
  },
  {
   "cell_type": "code",
   "execution_count": 81,
   "id": "0a371b17",
   "metadata": {},
   "outputs": [
    {
     "data": {
      "text/plain": [
       "3269"
      ]
     },
     "execution_count": 81,
     "metadata": {},
     "output_type": "execute_result"
    }
   ],
   "source": [
    "len(rating)"
   ]
  },
  {
   "cell_type": "code",
   "execution_count": 82,
   "id": "6f92f6aa",
   "metadata": {},
   "outputs": [
    {
     "data": {
      "text/plain": [
       "3269"
      ]
     },
     "execution_count": 82,
     "metadata": {},
     "output_type": "execute_result"
    }
   ],
   "source": [
    "len(category)"
   ]
  },
  {
   "cell_type": "code",
   "execution_count": 83,
   "id": "74ef09f5",
   "metadata": {},
   "outputs": [
    {
     "data": {
      "text/plain": [
       "3269"
      ]
     },
     "execution_count": 83,
     "metadata": {},
     "output_type": "execute_result"
    }
   ],
   "source": [
    "len(sub_category)"
   ]
  },
  {
   "cell_type": "code",
   "execution_count": 84,
   "id": "10d474af",
   "metadata": {},
   "outputs": [
    {
     "data": {
      "text/plain": [
       "3269"
      ]
     },
     "execution_count": 84,
     "metadata": {},
     "output_type": "execute_result"
    }
   ],
   "source": [
    "len(brand)"
   ]
  },
  {
   "cell_type": "code",
   "execution_count": 85,
   "id": "a7f78a68",
   "metadata": {},
   "outputs": [],
   "source": [
    "data = {\"Name\": name, \"Actual Price\": actual_price, \"Sale Price\": sale_price, \"Discount %\": percent_off, \"Rating\": rating, \"Number of Reviews\": review_count, \"Category\": category, \"Sub-Category\": sub_category, \"Brand\": brand}"
   ]
  },
  {
   "cell_type": "code",
   "execution_count": 86,
   "id": "23db6e88",
   "metadata": {},
   "outputs": [
    {
     "data": {
      "text/html": [
       "<div>\n",
       "<style scoped>\n",
       "    .dataframe tbody tr th:only-of-type {\n",
       "        vertical-align: middle;\n",
       "    }\n",
       "\n",
       "    .dataframe tbody tr th {\n",
       "        vertical-align: top;\n",
       "    }\n",
       "\n",
       "    .dataframe thead th {\n",
       "        text-align: right;\n",
       "    }\n",
       "</style>\n",
       "<table border=\"1\" class=\"dataframe\">\n",
       "  <thead>\n",
       "    <tr style=\"text-align: right;\">\n",
       "      <th></th>\n",
       "      <th>Name</th>\n",
       "      <th>Actual Price</th>\n",
       "      <th>Sale Price</th>\n",
       "      <th>Discount %</th>\n",
       "      <th>Rating</th>\n",
       "      <th>Number of Reviews</th>\n",
       "      <th>Category</th>\n",
       "      <th>Sub-Category</th>\n",
       "      <th>Brand</th>\n",
       "    </tr>\n",
       "  </thead>\n",
       "  <tbody>\n",
       "    <tr>\n",
       "      <th>0</th>\n",
       "      <td>Premium Rolling Christmas Tree Storage Bag, 7.5'</td>\n",
       "      <td>$24.99</td>\n",
       "      <td>$24.99</td>\n",
       "      <td>0</td>\n",
       "      <td>4.2</td>\n",
       "      <td>96</td>\n",
       "      <td>Christmas</td>\n",
       "      <td>Christmas Storage</td>\n",
       "      <td></td>\n",
       "    </tr>\n",
       "    <tr>\n",
       "      <th>1</th>\n",
       "      <td>Inflatable Colossal Waving Santa, 20'</td>\n",
       "      <td>$199.99</td>\n",
       "      <td>$99.99</td>\n",
       "      <td>50%</td>\n",
       "      <td>3.2</td>\n",
       "      <td>23</td>\n",
       "      <td>Christmas Inflatables &amp; Outdoor Decor</td>\n",
       "      <td>Oversized Decor</td>\n",
       "      <td></td>\n",
       "    </tr>\n",
       "    <tr>\n",
       "      <th>2</th>\n",
       "      <td>&amp; Elf Pets® Merry Christmas Table Decor, 6\"</td>\n",
       "      <td>$4.99</td>\n",
       "      <td>$2.49</td>\n",
       "      <td>50%</td>\n",
       "      <td>0</td>\n",
       "      <td>0</td>\n",
       "      <td>Christmas</td>\n",
       "      <td>The Elf on the Shelf Collection</td>\n",
       "      <td>The Elf on the Shelf®</td>\n",
       "    </tr>\n",
       "    <tr>\n",
       "      <th>3</th>\n",
       "      <td>Christmas Magic Card Holder Table Decor, 11x7</td>\n",
       "      <td>$9.99</td>\n",
       "      <td>$4.99</td>\n",
       "      <td>50%</td>\n",
       "      <td>5</td>\n",
       "      <td>1</td>\n",
       "      <td>Christmas</td>\n",
       "      <td>The Elf on the Shelf Collection</td>\n",
       "      <td>The Elf on the Shelf®</td>\n",
       "    </tr>\n",
       "    <tr>\n",
       "      <th>4</th>\n",
       "      <td>150-Count Silver Ornament Hooks</td>\n",
       "      <td>$1.99</td>\n",
       "      <td>$0.99</td>\n",
       "      <td>50%</td>\n",
       "      <td>4.1</td>\n",
       "      <td>39</td>\n",
       "      <td>Christmas</td>\n",
       "      <td>Christmas Ornaments</td>\n",
       "      <td></td>\n",
       "    </tr>\n",
       "  </tbody>\n",
       "</table>\n",
       "</div>"
      ],
      "text/plain": [
       "                                               Name Actual Price Sale Price  \\\n",
       "0  Premium Rolling Christmas Tree Storage Bag, 7.5'       $24.99     $24.99   \n",
       "1             Inflatable Colossal Waving Santa, 20'      $199.99     $99.99   \n",
       "2       & Elf Pets® Merry Christmas Table Decor, 6\"        $4.99      $2.49   \n",
       "3     Christmas Magic Card Holder Table Decor, 11x7        $9.99      $4.99   \n",
       "4                   150-Count Silver Ornament Hooks        $1.99      $0.99   \n",
       "\n",
       "  Discount % Rating Number of Reviews                               Category  \\\n",
       "0          0    4.2                96                              Christmas   \n",
       "1        50%    3.2                23  Christmas Inflatables & Outdoor Decor   \n",
       "2        50%      0                 0                              Christmas   \n",
       "3        50%      5                 1                              Christmas   \n",
       "4        50%    4.1                39                              Christmas   \n",
       "\n",
       "                      Sub-Category                  Brand  \n",
       "0                Christmas Storage                         \n",
       "1                  Oversized Decor                         \n",
       "2  The Elf on the Shelf Collection  The Elf on the Shelf®  \n",
       "3  The Elf on the Shelf Collection  The Elf on the Shelf®  \n",
       "4              Christmas Ornaments                         "
      ]
     },
     "execution_count": 86,
     "metadata": {},
     "output_type": "execute_result"
    }
   ],
   "source": [
    "df = pd.DataFrame.from_dict(data)\n",
    "df.head()"
   ]
  },
  {
   "cell_type": "code",
   "execution_count": 87,
   "id": "a423c568",
   "metadata": {},
   "outputs": [],
   "source": [
    "df.to_csv(\"../Datasets/at_home_christmas_deco.csv\")"
   ]
  },
  {
   "cell_type": "code",
   "execution_count": null,
   "id": "843f2d7b",
   "metadata": {},
   "outputs": [],
   "source": []
  }
 ],
 "metadata": {
  "kernelspec": {
   "display_name": "Python 3 (ipykernel)",
   "language": "python",
   "name": "python3"
  },
  "language_info": {
   "codemirror_mode": {
    "name": "ipython",
    "version": 3
   },
   "file_extension": ".py",
   "mimetype": "text/x-python",
   "name": "python",
   "nbconvert_exporter": "python",
   "pygments_lexer": "ipython3",
   "version": "3.10.9"
  }
 },
 "nbformat": 4,
 "nbformat_minor": 5
}

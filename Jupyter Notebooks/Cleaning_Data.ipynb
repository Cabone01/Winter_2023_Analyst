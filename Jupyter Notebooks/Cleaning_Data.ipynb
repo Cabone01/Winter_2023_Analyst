{
 "cells": [
  {
   "cell_type": "code",
   "execution_count": 1,
   "id": "9384405a",
   "metadata": {},
   "outputs": [],
   "source": [
    "import numpy as np\n",
    "import pandas as pd"
   ]
  },
  {
   "cell_type": "markdown",
   "id": "97941cbf",
   "metadata": {},
   "source": [
    "## At Home"
   ]
  },
  {
   "cell_type": "code",
   "execution_count": 2,
   "id": "a59231a7",
   "metadata": {},
   "outputs": [
    {
     "data": {
      "text/html": [
       "<div>\n",
       "<style scoped>\n",
       "    .dataframe tbody tr th:only-of-type {\n",
       "        vertical-align: middle;\n",
       "    }\n",
       "\n",
       "    .dataframe tbody tr th {\n",
       "        vertical-align: top;\n",
       "    }\n",
       "\n",
       "    .dataframe thead th {\n",
       "        text-align: right;\n",
       "    }\n",
       "</style>\n",
       "<table border=\"1\" class=\"dataframe\">\n",
       "  <thead>\n",
       "    <tr style=\"text-align: right;\">\n",
       "      <th></th>\n",
       "      <th>Unnamed: 0</th>\n",
       "      <th>Name</th>\n",
       "      <th>Actual Price</th>\n",
       "      <th>Sale Price</th>\n",
       "      <th>Discount %</th>\n",
       "      <th>Rating</th>\n",
       "      <th>Number of Reviews</th>\n",
       "      <th>Category</th>\n",
       "      <th>Sub-Category</th>\n",
       "      <th>Brand</th>\n",
       "    </tr>\n",
       "  </thead>\n",
       "  <tbody>\n",
       "    <tr>\n",
       "      <th>0</th>\n",
       "      <td>0</td>\n",
       "      <td>Premium Rolling Christmas Tree Storage Bag, 7.5'</td>\n",
       "      <td>$24.99</td>\n",
       "      <td>$24.99</td>\n",
       "      <td>0</td>\n",
       "      <td>4.2</td>\n",
       "      <td>96</td>\n",
       "      <td>Christmas</td>\n",
       "      <td>Christmas Storage</td>\n",
       "      <td>NaN</td>\n",
       "    </tr>\n",
       "    <tr>\n",
       "      <th>1</th>\n",
       "      <td>1</td>\n",
       "      <td>Inflatable Colossal Waving Santa, 20'</td>\n",
       "      <td>$199.99</td>\n",
       "      <td>$99.99</td>\n",
       "      <td>50%</td>\n",
       "      <td>3.2</td>\n",
       "      <td>23</td>\n",
       "      <td>Christmas Inflatables &amp; Outdoor Decor</td>\n",
       "      <td>Oversized Decor</td>\n",
       "      <td>NaN</td>\n",
       "    </tr>\n",
       "    <tr>\n",
       "      <th>2</th>\n",
       "      <td>2</td>\n",
       "      <td>&amp; Elf Pets® Merry Christmas Table Decor, 6\"</td>\n",
       "      <td>$4.99</td>\n",
       "      <td>$2.49</td>\n",
       "      <td>50%</td>\n",
       "      <td>0.0</td>\n",
       "      <td>0</td>\n",
       "      <td>Christmas</td>\n",
       "      <td>The Elf on the Shelf Collection</td>\n",
       "      <td>The Elf on the Shelf®</td>\n",
       "    </tr>\n",
       "    <tr>\n",
       "      <th>3</th>\n",
       "      <td>3</td>\n",
       "      <td>Christmas Magic Card Holder Table Decor, 11x7</td>\n",
       "      <td>$9.99</td>\n",
       "      <td>$4.99</td>\n",
       "      <td>50%</td>\n",
       "      <td>5.0</td>\n",
       "      <td>1</td>\n",
       "      <td>Christmas</td>\n",
       "      <td>The Elf on the Shelf Collection</td>\n",
       "      <td>The Elf on the Shelf®</td>\n",
       "    </tr>\n",
       "    <tr>\n",
       "      <th>4</th>\n",
       "      <td>4</td>\n",
       "      <td>150-Count Silver Ornament Hooks</td>\n",
       "      <td>$1.99</td>\n",
       "      <td>$0.99</td>\n",
       "      <td>50%</td>\n",
       "      <td>4.1</td>\n",
       "      <td>39</td>\n",
       "      <td>Christmas</td>\n",
       "      <td>Christmas Ornaments</td>\n",
       "      <td>NaN</td>\n",
       "    </tr>\n",
       "  </tbody>\n",
       "</table>\n",
       "</div>"
      ],
      "text/plain": [
       "   Unnamed: 0                                              Name Actual Price  \\\n",
       "0           0  Premium Rolling Christmas Tree Storage Bag, 7.5'       $24.99   \n",
       "1           1             Inflatable Colossal Waving Santa, 20'      $199.99   \n",
       "2           2       & Elf Pets® Merry Christmas Table Decor, 6\"        $4.99   \n",
       "3           3     Christmas Magic Card Holder Table Decor, 11x7        $9.99   \n",
       "4           4                   150-Count Silver Ornament Hooks        $1.99   \n",
       "\n",
       "  Sale Price Discount %  Rating  Number of Reviews  \\\n",
       "0     $24.99          0     4.2                 96   \n",
       "1     $99.99        50%     3.2                 23   \n",
       "2      $2.49        50%     0.0                  0   \n",
       "3      $4.99        50%     5.0                  1   \n",
       "4      $0.99        50%     4.1                 39   \n",
       "\n",
       "                                Category                     Sub-Category  \\\n",
       "0                              Christmas                Christmas Storage   \n",
       "1  Christmas Inflatables & Outdoor Decor                  Oversized Decor   \n",
       "2                              Christmas  The Elf on the Shelf Collection   \n",
       "3                              Christmas  The Elf on the Shelf Collection   \n",
       "4                              Christmas              Christmas Ornaments   \n",
       "\n",
       "                   Brand  \n",
       "0                    NaN  \n",
       "1                    NaN  \n",
       "2  The Elf on the Shelf®  \n",
       "3  The Elf on the Shelf®  \n",
       "4                    NaN  "
      ]
     },
     "execution_count": 2,
     "metadata": {},
     "output_type": "execute_result"
    }
   ],
   "source": [
    "at_home_df = pd.read_csv(\"Datasets/at_home_christmas_deco_2.csv\", index_col=False)\n",
    "at_home_df.head()"
   ]
  },
  {
   "cell_type": "code",
   "execution_count": 3,
   "id": "be7450ae",
   "metadata": {},
   "outputs": [],
   "source": [
    "at_home_df.drop(columns=at_home_df.columns[0], axis=1, inplace=True)"
   ]
  },
  {
   "cell_type": "code",
   "execution_count": 4,
   "id": "40ae969b",
   "metadata": {},
   "outputs": [
    {
     "data": {
      "text/html": [
       "<div>\n",
       "<style scoped>\n",
       "    .dataframe tbody tr th:only-of-type {\n",
       "        vertical-align: middle;\n",
       "    }\n",
       "\n",
       "    .dataframe tbody tr th {\n",
       "        vertical-align: top;\n",
       "    }\n",
       "\n",
       "    .dataframe thead th {\n",
       "        text-align: right;\n",
       "    }\n",
       "</style>\n",
       "<table border=\"1\" class=\"dataframe\">\n",
       "  <thead>\n",
       "    <tr style=\"text-align: right;\">\n",
       "      <th></th>\n",
       "      <th>Name</th>\n",
       "      <th>Actual Price</th>\n",
       "      <th>Sale Price</th>\n",
       "      <th>Discount %</th>\n",
       "      <th>Rating</th>\n",
       "      <th>Number of Reviews</th>\n",
       "      <th>Category</th>\n",
       "      <th>Sub-Category</th>\n",
       "      <th>Brand</th>\n",
       "    </tr>\n",
       "  </thead>\n",
       "  <tbody>\n",
       "    <tr>\n",
       "      <th>0</th>\n",
       "      <td>Premium Rolling Christmas Tree Storage Bag, 7.5'</td>\n",
       "      <td>$24.99</td>\n",
       "      <td>$24.99</td>\n",
       "      <td>0</td>\n",
       "      <td>4.2</td>\n",
       "      <td>96</td>\n",
       "      <td>Christmas</td>\n",
       "      <td>Christmas Storage</td>\n",
       "      <td>NaN</td>\n",
       "    </tr>\n",
       "    <tr>\n",
       "      <th>1</th>\n",
       "      <td>Inflatable Colossal Waving Santa, 20'</td>\n",
       "      <td>$199.99</td>\n",
       "      <td>$99.99</td>\n",
       "      <td>50%</td>\n",
       "      <td>3.2</td>\n",
       "      <td>23</td>\n",
       "      <td>Christmas Inflatables &amp; Outdoor Decor</td>\n",
       "      <td>Oversized Decor</td>\n",
       "      <td>NaN</td>\n",
       "    </tr>\n",
       "    <tr>\n",
       "      <th>2</th>\n",
       "      <td>&amp; Elf Pets® Merry Christmas Table Decor, 6\"</td>\n",
       "      <td>$4.99</td>\n",
       "      <td>$2.49</td>\n",
       "      <td>50%</td>\n",
       "      <td>0.0</td>\n",
       "      <td>0</td>\n",
       "      <td>Christmas</td>\n",
       "      <td>The Elf on the Shelf Collection</td>\n",
       "      <td>The Elf on the Shelf®</td>\n",
       "    </tr>\n",
       "    <tr>\n",
       "      <th>3</th>\n",
       "      <td>Christmas Magic Card Holder Table Decor, 11x7</td>\n",
       "      <td>$9.99</td>\n",
       "      <td>$4.99</td>\n",
       "      <td>50%</td>\n",
       "      <td>5.0</td>\n",
       "      <td>1</td>\n",
       "      <td>Christmas</td>\n",
       "      <td>The Elf on the Shelf Collection</td>\n",
       "      <td>The Elf on the Shelf®</td>\n",
       "    </tr>\n",
       "    <tr>\n",
       "      <th>4</th>\n",
       "      <td>150-Count Silver Ornament Hooks</td>\n",
       "      <td>$1.99</td>\n",
       "      <td>$0.99</td>\n",
       "      <td>50%</td>\n",
       "      <td>4.1</td>\n",
       "      <td>39</td>\n",
       "      <td>Christmas</td>\n",
       "      <td>Christmas Ornaments</td>\n",
       "      <td>NaN</td>\n",
       "    </tr>\n",
       "  </tbody>\n",
       "</table>\n",
       "</div>"
      ],
      "text/plain": [
       "                                               Name Actual Price Sale Price  \\\n",
       "0  Premium Rolling Christmas Tree Storage Bag, 7.5'       $24.99     $24.99   \n",
       "1             Inflatable Colossal Waving Santa, 20'      $199.99     $99.99   \n",
       "2       & Elf Pets® Merry Christmas Table Decor, 6\"        $4.99      $2.49   \n",
       "3     Christmas Magic Card Holder Table Decor, 11x7        $9.99      $4.99   \n",
       "4                   150-Count Silver Ornament Hooks        $1.99      $0.99   \n",
       "\n",
       "  Discount %  Rating  Number of Reviews  \\\n",
       "0          0     4.2                 96   \n",
       "1        50%     3.2                 23   \n",
       "2        50%     0.0                  0   \n",
       "3        50%     5.0                  1   \n",
       "4        50%     4.1                 39   \n",
       "\n",
       "                                Category                     Sub-Category  \\\n",
       "0                              Christmas                Christmas Storage   \n",
       "1  Christmas Inflatables & Outdoor Decor                  Oversized Decor   \n",
       "2                              Christmas  The Elf on the Shelf Collection   \n",
       "3                              Christmas  The Elf on the Shelf Collection   \n",
       "4                              Christmas              Christmas Ornaments   \n",
       "\n",
       "                   Brand  \n",
       "0                    NaN  \n",
       "1                    NaN  \n",
       "2  The Elf on the Shelf®  \n",
       "3  The Elf on the Shelf®  \n",
       "4                    NaN  "
      ]
     },
     "execution_count": 4,
     "metadata": {},
     "output_type": "execute_result"
    }
   ],
   "source": [
    "at_home_df.head()"
   ]
  },
  {
   "cell_type": "code",
   "execution_count": 5,
   "id": "c0e0ca2e",
   "metadata": {},
   "outputs": [
    {
     "name": "stdout",
     "output_type": "stream",
     "text": [
      "<class 'pandas.core.frame.DataFrame'>\n",
      "RangeIndex: 3269 entries, 0 to 3268\n",
      "Data columns (total 9 columns):\n",
      " #   Column             Non-Null Count  Dtype  \n",
      "---  ------             --------------  -----  \n",
      " 0   Name               3269 non-null   object \n",
      " 1   Actual Price       3269 non-null   object \n",
      " 2   Sale Price         3269 non-null   object \n",
      " 3   Discount %         3269 non-null   object \n",
      " 4   Rating             3269 non-null   float64\n",
      " 5   Number of Reviews  3269 non-null   int64  \n",
      " 6   Category           3269 non-null   object \n",
      " 7   Sub-Category       3269 non-null   object \n",
      " 8   Brand              1909 non-null   object \n",
      "dtypes: float64(1), int64(1), object(7)\n",
      "memory usage: 230.0+ KB\n"
     ]
    }
   ],
   "source": [
    "at_home_df.info()"
   ]
  },
  {
   "cell_type": "code",
   "execution_count": 6,
   "id": "83673fff",
   "metadata": {},
   "outputs": [
    {
     "data": {
      "text/plain": [
       "Name                 3225\n",
       "Actual Price           46\n",
       "Sale Price             55\n",
       "Discount %             20\n",
       "Rating                 30\n",
       "Number of Reviews      49\n",
       "Category               19\n",
       "Sub-Category           55\n",
       "Brand                  17\n",
       "dtype: int64"
      ]
     },
     "execution_count": 6,
     "metadata": {},
     "output_type": "execute_result"
    }
   ],
   "source": [
    "at_home_df.nunique()"
   ]
  },
  {
   "cell_type": "code",
   "execution_count": 7,
   "id": "307a5ce7",
   "metadata": {},
   "outputs": [
    {
     "name": "stderr",
     "output_type": "stream",
     "text": [
      "C:\\Users\\Taco\\AppData\\Local\\Temp\\ipykernel_7920\\1896139934.py:1: FutureWarning: The default value of regex will change from True to False in a future version. In addition, single character regular expressions will *not* be treated as literal strings when regex=True.\n",
      "  at_home_df[\"Actual Price\"] = at_home_df[\"Actual Price\"].str.replace(\"$\", \"\").astype(float)\n"
     ]
    }
   ],
   "source": [
    "at_home_df[\"Actual Price\"] = at_home_df[\"Actual Price\"].str.replace(\"$\", \"\").astype(float)"
   ]
  },
  {
   "cell_type": "code",
   "execution_count": 8,
   "id": "9380b1a4",
   "metadata": {},
   "outputs": [
    {
     "name": "stderr",
     "output_type": "stream",
     "text": [
      "C:\\Users\\Taco\\AppData\\Local\\Temp\\ipykernel_7920\\541493645.py:1: FutureWarning: The default value of regex will change from True to False in a future version. In addition, single character regular expressions will *not* be treated as literal strings when regex=True.\n",
      "  at_home_df[\"Sale Price\"] = at_home_df[\"Sale Price\"].str.replace(\"$\", \"\").astype(float)\n"
     ]
    }
   ],
   "source": [
    "at_home_df[\"Sale Price\"] = at_home_df[\"Sale Price\"].str.replace(\"$\", \"\").astype(float)"
   ]
  },
  {
   "cell_type": "code",
   "execution_count": 9,
   "id": "2ffce85e",
   "metadata": {},
   "outputs": [],
   "source": [
    "at_home_df[\"Discount %\"] = at_home_df[\"Discount %\"].str.replace(\"%\", \"\").astype(float)"
   ]
  },
  {
   "cell_type": "code",
   "execution_count": 10,
   "id": "553f0867",
   "metadata": {},
   "outputs": [],
   "source": [
    "at_home_df[\"Brand\"] = at_home_df[\"Brand\"].fillna(\"At Home\")"
   ]
  },
  {
   "cell_type": "code",
   "execution_count": 11,
   "id": "10e08072",
   "metadata": {},
   "outputs": [
    {
     "data": {
      "text/html": [
       "<div>\n",
       "<style scoped>\n",
       "    .dataframe tbody tr th:only-of-type {\n",
       "        vertical-align: middle;\n",
       "    }\n",
       "\n",
       "    .dataframe tbody tr th {\n",
       "        vertical-align: top;\n",
       "    }\n",
       "\n",
       "    .dataframe thead th {\n",
       "        text-align: right;\n",
       "    }\n",
       "</style>\n",
       "<table border=\"1\" class=\"dataframe\">\n",
       "  <thead>\n",
       "    <tr style=\"text-align: right;\">\n",
       "      <th></th>\n",
       "      <th>Name</th>\n",
       "      <th>Actual Price</th>\n",
       "      <th>Sale Price</th>\n",
       "      <th>Discount %</th>\n",
       "      <th>Rating</th>\n",
       "      <th>Number of Reviews</th>\n",
       "      <th>Category</th>\n",
       "      <th>Sub-Category</th>\n",
       "      <th>Brand</th>\n",
       "    </tr>\n",
       "  </thead>\n",
       "  <tbody>\n",
       "    <tr>\n",
       "      <th>0</th>\n",
       "      <td>Premium Rolling Christmas Tree Storage Bag, 7.5'</td>\n",
       "      <td>24.99</td>\n",
       "      <td>24.99</td>\n",
       "      <td>0.0</td>\n",
       "      <td>4.2</td>\n",
       "      <td>96</td>\n",
       "      <td>Christmas</td>\n",
       "      <td>Christmas Storage</td>\n",
       "      <td>At Home</td>\n",
       "    </tr>\n",
       "    <tr>\n",
       "      <th>1</th>\n",
       "      <td>Inflatable Colossal Waving Santa, 20'</td>\n",
       "      <td>199.99</td>\n",
       "      <td>99.99</td>\n",
       "      <td>50.0</td>\n",
       "      <td>3.2</td>\n",
       "      <td>23</td>\n",
       "      <td>Christmas Inflatables &amp; Outdoor Decor</td>\n",
       "      <td>Oversized Decor</td>\n",
       "      <td>At Home</td>\n",
       "    </tr>\n",
       "    <tr>\n",
       "      <th>2</th>\n",
       "      <td>&amp; Elf Pets® Merry Christmas Table Decor, 6\"</td>\n",
       "      <td>4.99</td>\n",
       "      <td>2.49</td>\n",
       "      <td>50.0</td>\n",
       "      <td>0.0</td>\n",
       "      <td>0</td>\n",
       "      <td>Christmas</td>\n",
       "      <td>The Elf on the Shelf Collection</td>\n",
       "      <td>The Elf on the Shelf®</td>\n",
       "    </tr>\n",
       "    <tr>\n",
       "      <th>3</th>\n",
       "      <td>Christmas Magic Card Holder Table Decor, 11x7</td>\n",
       "      <td>9.99</td>\n",
       "      <td>4.99</td>\n",
       "      <td>50.0</td>\n",
       "      <td>5.0</td>\n",
       "      <td>1</td>\n",
       "      <td>Christmas</td>\n",
       "      <td>The Elf on the Shelf Collection</td>\n",
       "      <td>The Elf on the Shelf®</td>\n",
       "    </tr>\n",
       "    <tr>\n",
       "      <th>4</th>\n",
       "      <td>150-Count Silver Ornament Hooks</td>\n",
       "      <td>1.99</td>\n",
       "      <td>0.99</td>\n",
       "      <td>50.0</td>\n",
       "      <td>4.1</td>\n",
       "      <td>39</td>\n",
       "      <td>Christmas</td>\n",
       "      <td>Christmas Ornaments</td>\n",
       "      <td>At Home</td>\n",
       "    </tr>\n",
       "  </tbody>\n",
       "</table>\n",
       "</div>"
      ],
      "text/plain": [
       "                                               Name  Actual Price  Sale Price  \\\n",
       "0  Premium Rolling Christmas Tree Storage Bag, 7.5'         24.99       24.99   \n",
       "1             Inflatable Colossal Waving Santa, 20'        199.99       99.99   \n",
       "2       & Elf Pets® Merry Christmas Table Decor, 6\"          4.99        2.49   \n",
       "3     Christmas Magic Card Holder Table Decor, 11x7          9.99        4.99   \n",
       "4                   150-Count Silver Ornament Hooks          1.99        0.99   \n",
       "\n",
       "   Discount %  Rating  Number of Reviews  \\\n",
       "0         0.0     4.2                 96   \n",
       "1        50.0     3.2                 23   \n",
       "2        50.0     0.0                  0   \n",
       "3        50.0     5.0                  1   \n",
       "4        50.0     4.1                 39   \n",
       "\n",
       "                                Category                     Sub-Category  \\\n",
       "0                              Christmas                Christmas Storage   \n",
       "1  Christmas Inflatables & Outdoor Decor                  Oversized Decor   \n",
       "2                              Christmas  The Elf on the Shelf Collection   \n",
       "3                              Christmas  The Elf on the Shelf Collection   \n",
       "4                              Christmas              Christmas Ornaments   \n",
       "\n",
       "                   Brand  \n",
       "0                At Home  \n",
       "1                At Home  \n",
       "2  The Elf on the Shelf®  \n",
       "3  The Elf on the Shelf®  \n",
       "4                At Home  "
      ]
     },
     "execution_count": 11,
     "metadata": {},
     "output_type": "execute_result"
    }
   ],
   "source": [
    "at_home_df.head()"
   ]
  },
  {
   "cell_type": "code",
   "execution_count": 12,
   "id": "d3a0f9e2",
   "metadata": {},
   "outputs": [
    {
     "name": "stdout",
     "output_type": "stream",
     "text": [
      "<class 'pandas.core.frame.DataFrame'>\n",
      "RangeIndex: 3269 entries, 0 to 3268\n",
      "Data columns (total 9 columns):\n",
      " #   Column             Non-Null Count  Dtype  \n",
      "---  ------             --------------  -----  \n",
      " 0   Name               3269 non-null   object \n",
      " 1   Actual Price       3269 non-null   float64\n",
      " 2   Sale Price         3269 non-null   float64\n",
      " 3   Discount %         3269 non-null   float64\n",
      " 4   Rating             3269 non-null   float64\n",
      " 5   Number of Reviews  3269 non-null   int64  \n",
      " 6   Category           3269 non-null   object \n",
      " 7   Sub-Category       3269 non-null   object \n",
      " 8   Brand              3269 non-null   object \n",
      "dtypes: float64(4), int64(1), object(4)\n",
      "memory usage: 230.0+ KB\n"
     ]
    }
   ],
   "source": [
    "at_home_df.info()"
   ]
  },
  {
   "cell_type": "code",
   "execution_count": 13,
   "id": "aaad45f0",
   "metadata": {},
   "outputs": [],
   "source": [
    "at_home_df.to_csv(\"Cleaned_Datasets/at_home_christmas_deco.csv\")"
   ]
  },
  {
   "cell_type": "markdown",
   "id": "6f5297e2",
   "metadata": {},
   "source": [
    "## Target"
   ]
  },
  {
   "cell_type": "code",
   "execution_count": 14,
   "id": "531af161",
   "metadata": {},
   "outputs": [],
   "source": [
    "target_df = pd.read_csv(\"Datasets/target_christmas_deco_2.csv\", index_col=False)"
   ]
  },
  {
   "cell_type": "code",
   "execution_count": 15,
   "id": "0b788c58",
   "metadata": {},
   "outputs": [],
   "source": [
    "target_df.drop(columns=target_df.columns[0], axis=1, inplace=True)"
   ]
  },
  {
   "cell_type": "code",
   "execution_count": 16,
   "id": "ce63df7f",
   "metadata": {},
   "outputs": [
    {
     "data": {
      "text/html": [
       "<div>\n",
       "<style scoped>\n",
       "    .dataframe tbody tr th:only-of-type {\n",
       "        vertical-align: middle;\n",
       "    }\n",
       "\n",
       "    .dataframe tbody tr th {\n",
       "        vertical-align: top;\n",
       "    }\n",
       "\n",
       "    .dataframe thead th {\n",
       "        text-align: right;\n",
       "    }\n",
       "</style>\n",
       "<table border=\"1\" class=\"dataframe\">\n",
       "  <thead>\n",
       "    <tr style=\"text-align: right;\">\n",
       "      <th></th>\n",
       "      <th>Name</th>\n",
       "      <th>Actual Price</th>\n",
       "      <th>Sale Price</th>\n",
       "      <th>Discount %</th>\n",
       "      <th>Rating</th>\n",
       "      <th>Number of Reviews</th>\n",
       "      <th>Category</th>\n",
       "      <th>Sub-Category</th>\n",
       "      <th>Brand</th>\n",
       "    </tr>\n",
       "  </thead>\n",
       "  <tbody>\n",
       "    <tr>\n",
       "      <th>0</th>\n",
       "      <td>Santa Fabric Christmas Figurine with Blue Gift...</td>\n",
       "      <td>$4.25</td>\n",
       "      <td>Not on Sale</td>\n",
       "      <td>0%</td>\n",
       "      <td>4.2</td>\n",
       "      <td>13</td>\n",
       "      <td>Christmas Decorations</td>\n",
       "      <td>Indoor Christmas Decorations</td>\n",
       "      <td>Wondershop</td>\n",
       "    </tr>\n",
       "    <tr>\n",
       "      <th>1</th>\n",
       "      <td>6.75\" Featherly Friends Bird Dressed as Elf Fa...</td>\n",
       "      <td>$4.25</td>\n",
       "      <td>Not on Sale</td>\n",
       "      <td>0%</td>\n",
       "      <td>4.8</td>\n",
       "      <td>44</td>\n",
       "      <td>Christmas Decorations</td>\n",
       "      <td>Indoor Christmas Decorations</td>\n",
       "      <td>Wondershop</td>\n",
       "    </tr>\n",
       "    <tr>\n",
       "      <th>2</th>\n",
       "      <td>Mr. Christmas 17\" Tabletop Super Climber Anima...</td>\n",
       "      <td>$49.99</td>\n",
       "      <td>$19.99</td>\n",
       "      <td>60%</td>\n",
       "      <td>3.9</td>\n",
       "      <td>29</td>\n",
       "      <td>Christmas Decorations</td>\n",
       "      <td>Indoor Christmas Decorations</td>\n",
       "      <td>Mr. Christmas</td>\n",
       "    </tr>\n",
       "    <tr>\n",
       "      <th>3</th>\n",
       "      <td>Northlight 7\" LED Lighted Magnolia Leaf, Pinec...</td>\n",
       "      <td>$43.49</td>\n",
       "      <td>$35.99</td>\n",
       "      <td>17%</td>\n",
       "      <td>4</td>\n",
       "      <td>2</td>\n",
       "      <td>Christmas Decorations</td>\n",
       "      <td>Indoor Christmas Decorations</td>\n",
       "      <td>Northlight</td>\n",
       "    </tr>\n",
       "    <tr>\n",
       "      <th>4</th>\n",
       "      <td>Mr. Christmas Animated Mini Carnival Music Box...</td>\n",
       "      <td>$34.99</td>\n",
       "      <td>$19.99</td>\n",
       "      <td>43%</td>\n",
       "      <td>3.6</td>\n",
       "      <td>11</td>\n",
       "      <td>Christmas Decorations</td>\n",
       "      <td>Indoor Christmas Decorations</td>\n",
       "      <td>Mr. Christmas</td>\n",
       "    </tr>\n",
       "  </tbody>\n",
       "</table>\n",
       "</div>"
      ],
      "text/plain": [
       "                                                Name Actual Price  \\\n",
       "0  Santa Fabric Christmas Figurine with Blue Gift...        $4.25   \n",
       "1  6.75\" Featherly Friends Bird Dressed as Elf Fa...        $4.25   \n",
       "2  Mr. Christmas 17\" Tabletop Super Climber Anima...       $49.99   \n",
       "3  Northlight 7\" LED Lighted Magnolia Leaf, Pinec...       $43.49   \n",
       "4  Mr. Christmas Animated Mini Carnival Music Box...       $34.99   \n",
       "\n",
       "    Sale Price Discount % Rating  Number of Reviews               Category  \\\n",
       "0  Not on Sale         0%    4.2                 13  Christmas Decorations   \n",
       "1  Not on Sale         0%    4.8                 44  Christmas Decorations   \n",
       "2       $19.99        60%    3.9                 29  Christmas Decorations   \n",
       "3       $35.99        17%      4                  2  Christmas Decorations   \n",
       "4       $19.99        43%    3.6                 11  Christmas Decorations   \n",
       "\n",
       "                   Sub-Category          Brand  \n",
       "0  Indoor Christmas Decorations     Wondershop  \n",
       "1  Indoor Christmas Decorations     Wondershop  \n",
       "2  Indoor Christmas Decorations  Mr. Christmas  \n",
       "3  Indoor Christmas Decorations     Northlight  \n",
       "4  Indoor Christmas Decorations  Mr. Christmas  "
      ]
     },
     "execution_count": 16,
     "metadata": {},
     "output_type": "execute_result"
    }
   ],
   "source": [
    "target_df.head()"
   ]
  },
  {
   "cell_type": "code",
   "execution_count": 17,
   "id": "57d46024",
   "metadata": {},
   "outputs": [
    {
     "name": "stdout",
     "output_type": "stream",
     "text": [
      "<class 'pandas.core.frame.DataFrame'>\n",
      "RangeIndex: 1106 entries, 0 to 1105\n",
      "Data columns (total 9 columns):\n",
      " #   Column             Non-Null Count  Dtype \n",
      "---  ------             --------------  ----- \n",
      " 0   Name               1106 non-null   object\n",
      " 1   Actual Price       1106 non-null   object\n",
      " 2   Sale Price         1106 non-null   object\n",
      " 3   Discount %         1106 non-null   object\n",
      " 4   Rating             1106 non-null   object\n",
      " 5   Number of Reviews  1106 non-null   int64 \n",
      " 6   Category           1106 non-null   object\n",
      " 7   Sub-Category       1106 non-null   object\n",
      " 8   Brand              1106 non-null   object\n",
      "dtypes: int64(1), object(8)\n",
      "memory usage: 77.9+ KB\n"
     ]
    }
   ],
   "source": [
    "target_df.info()"
   ]
  },
  {
   "cell_type": "code",
   "execution_count": 18,
   "id": "11e38abc",
   "metadata": {},
   "outputs": [
    {
     "data": {
      "text/plain": [
       "Name                 1097\n",
       "Actual Price          294\n",
       "Sale Price            235\n",
       "Discount %             53\n",
       "Rating                 33\n",
       "Number of Reviews      26\n",
       "Category                5\n",
       "Sub-Category            9\n",
       "Brand                  71\n",
       "dtype: int64"
      ]
     },
     "execution_count": 18,
     "metadata": {},
     "output_type": "execute_result"
    }
   ],
   "source": [
    "target_df.nunique()"
   ]
  },
  {
   "cell_type": "code",
   "execution_count": 19,
   "id": "c1cea6c0",
   "metadata": {},
   "outputs": [
    {
     "data": {
      "text/plain": [
       "array(['Wondershop', 'Mr. Christmas', 'Northlight', 'Gallerie II',\n",
       "       'Mark Roberts Products', 'Sullivans', 'Cody Foster',\n",
       "       'Faithful Finds', 'Wholesale Corp', 'Allstate Floral', 'Decoris',\n",
       "       'Roman', 'Primitives by Kathy', 'Costway', 'Evergreen',\n",
       "       'Lori Mitchell', 'Alpine Corporation', 'RAZ Imports', 'Melrose',\n",
       "       'Kurt S. Adler', 'Big Dot of Happiness', \"R N' D Toys\", 'Transpac',\n",
       "       'National Tree Company', 'Sunnydaze Decor', 'Department 56',\n",
       "       'Collections Etc.', 'Novelty Lights Inc', 'Joiedomi', 'Barcana',\n",
       "       'Union Products', 'BrylaneHome', 'Best Choice Products', 'VP Home',\n",
       "       'Christmas By Krebs', 'Okuna Outpost', 'P. Graham Dunn',\n",
       "       'HearthSong', 'Joyin', 'Seasonal Visions', 'J. Hofert Co.',\n",
       "       'Haute Decor', 'AuldHome Design', 'VW Licensed Range',\n",
       "       'Bethany Lowe Designs', 'Napco', 'Stony Creek',\n",
       "       'Gold Crest Distribution', 'GANZ', 'Midlee', 'Bigtime Signs',\n",
       "       'December Diamonds', 'Enesco', 'Juvale', 'Ornativity', 'C&F Home',\n",
       "       'Roman Inc', 'Option 2', 'Homcom', 'Zone Tech', 'Unique Bargains',\n",
       "       'A&B Floral', 'Evergreen Enterprises Inc', 'Levtex Home', 'tagltd',\n",
       "       'One Hundred 80 Degrees', \"Shea's Wildflower Co\",\n",
       "       'Champ Celebrations', 'Tangkula', 'Nearly Natural',\n",
       "       'Mystic Industries'], dtype=object)"
      ]
     },
     "execution_count": 19,
     "metadata": {},
     "output_type": "execute_result"
    }
   ],
   "source": [
    "target_df[\"Brand\"].unique()"
   ]
  },
  {
   "cell_type": "code",
   "execution_count": 20,
   "id": "4a17e030",
   "metadata": {},
   "outputs": [
    {
     "data": {
      "text/html": [
       "<div>\n",
       "<style scoped>\n",
       "    .dataframe tbody tr th:only-of-type {\n",
       "        vertical-align: middle;\n",
       "    }\n",
       "\n",
       "    .dataframe tbody tr th {\n",
       "        vertical-align: top;\n",
       "    }\n",
       "\n",
       "    .dataframe thead th {\n",
       "        text-align: right;\n",
       "    }\n",
       "</style>\n",
       "<table border=\"1\" class=\"dataframe\">\n",
       "  <thead>\n",
       "    <tr style=\"text-align: right;\">\n",
       "      <th></th>\n",
       "      <th>Name</th>\n",
       "      <th>Actual Price</th>\n",
       "      <th>Sale Price</th>\n",
       "      <th>Discount %</th>\n",
       "      <th>Rating</th>\n",
       "      <th>Number of Reviews</th>\n",
       "      <th>Category</th>\n",
       "      <th>Sub-Category</th>\n",
       "      <th>Brand</th>\n",
       "    </tr>\n",
       "  </thead>\n",
       "  <tbody>\n",
       "    <tr>\n",
       "      <th>0</th>\n",
       "      <td>Santa Fabric Christmas Figurine with Blue Gift...</td>\n",
       "      <td>$4.25</td>\n",
       "      <td>$4.25</td>\n",
       "      <td>0%</td>\n",
       "      <td>4.2</td>\n",
       "      <td>13</td>\n",
       "      <td>Christmas Decorations</td>\n",
       "      <td>Indoor Christmas Decorations</td>\n",
       "      <td>Wondershop</td>\n",
       "    </tr>\n",
       "    <tr>\n",
       "      <th>1</th>\n",
       "      <td>6.75\" Featherly Friends Bird Dressed as Elf Fa...</td>\n",
       "      <td>$4.25</td>\n",
       "      <td>$4.25</td>\n",
       "      <td>0%</td>\n",
       "      <td>4.8</td>\n",
       "      <td>44</td>\n",
       "      <td>Christmas Decorations</td>\n",
       "      <td>Indoor Christmas Decorations</td>\n",
       "      <td>Wondershop</td>\n",
       "    </tr>\n",
       "    <tr>\n",
       "      <th>2</th>\n",
       "      <td>Mr. Christmas 17\" Tabletop Super Climber Anima...</td>\n",
       "      <td>$49.99</td>\n",
       "      <td>$19.99</td>\n",
       "      <td>60%</td>\n",
       "      <td>3.9</td>\n",
       "      <td>29</td>\n",
       "      <td>Christmas Decorations</td>\n",
       "      <td>Indoor Christmas Decorations</td>\n",
       "      <td>Mr. Christmas</td>\n",
       "    </tr>\n",
       "    <tr>\n",
       "      <th>3</th>\n",
       "      <td>Northlight 7\" LED Lighted Magnolia Leaf, Pinec...</td>\n",
       "      <td>$43.49</td>\n",
       "      <td>$35.99</td>\n",
       "      <td>17%</td>\n",
       "      <td>4</td>\n",
       "      <td>2</td>\n",
       "      <td>Christmas Decorations</td>\n",
       "      <td>Indoor Christmas Decorations</td>\n",
       "      <td>Northlight</td>\n",
       "    </tr>\n",
       "    <tr>\n",
       "      <th>4</th>\n",
       "      <td>Mr. Christmas Animated Mini Carnival Music Box...</td>\n",
       "      <td>$34.99</td>\n",
       "      <td>$19.99</td>\n",
       "      <td>43%</td>\n",
       "      <td>3.6</td>\n",
       "      <td>11</td>\n",
       "      <td>Christmas Decorations</td>\n",
       "      <td>Indoor Christmas Decorations</td>\n",
       "      <td>Mr. Christmas</td>\n",
       "    </tr>\n",
       "  </tbody>\n",
       "</table>\n",
       "</div>"
      ],
      "text/plain": [
       "                                                Name Actual Price Sale Price  \\\n",
       "0  Santa Fabric Christmas Figurine with Blue Gift...        $4.25      $4.25   \n",
       "1  6.75\" Featherly Friends Bird Dressed as Elf Fa...        $4.25      $4.25   \n",
       "2  Mr. Christmas 17\" Tabletop Super Climber Anima...       $49.99     $19.99   \n",
       "3  Northlight 7\" LED Lighted Magnolia Leaf, Pinec...       $43.49     $35.99   \n",
       "4  Mr. Christmas Animated Mini Carnival Music Box...       $34.99     $19.99   \n",
       "\n",
       "  Discount % Rating  Number of Reviews               Category  \\\n",
       "0         0%    4.2                 13  Christmas Decorations   \n",
       "1         0%    4.8                 44  Christmas Decorations   \n",
       "2        60%    3.9                 29  Christmas Decorations   \n",
       "3        17%      4                  2  Christmas Decorations   \n",
       "4        43%    3.6                 11  Christmas Decorations   \n",
       "\n",
       "                   Sub-Category          Brand  \n",
       "0  Indoor Christmas Decorations     Wondershop  \n",
       "1  Indoor Christmas Decorations     Wondershop  \n",
       "2  Indoor Christmas Decorations  Mr. Christmas  \n",
       "3  Indoor Christmas Decorations     Northlight  \n",
       "4  Indoor Christmas Decorations  Mr. Christmas  "
      ]
     },
     "execution_count": 20,
     "metadata": {},
     "output_type": "execute_result"
    }
   ],
   "source": [
    "target_df[\"Sale Price\"] = np.where(target_df[\"Sale Price\"] == \"Not on Sale\", target_df[\"Actual Price\"], target_df[\"Sale Price\"])\n",
    "target_df.head()"
   ]
  },
  {
   "cell_type": "code",
   "execution_count": 21,
   "id": "f2a1f105",
   "metadata": {},
   "outputs": [
    {
     "data": {
      "text/plain": [
       "1105"
      ]
     },
     "execution_count": 21,
     "metadata": {},
     "output_type": "execute_result"
    }
   ],
   "source": [
    "target_df = target_df[target_df[\"Actual Price\"] != \"See price in cart\"]\n",
    "target_df = target_df[target_df[\"Sale Price\"] != \"See price in cart\"]\n",
    "len(target_df)"
   ]
  },
  {
   "cell_type": "code",
   "execution_count": 22,
   "id": "bf2b24e1",
   "metadata": {},
   "outputs": [
    {
     "name": "stderr",
     "output_type": "stream",
     "text": [
      "C:\\Users\\Taco\\AppData\\Local\\Temp\\ipykernel_7920\\3130790411.py:1: FutureWarning: The default value of regex will change from True to False in a future version. In addition, single character regular expressions will *not* be treated as literal strings when regex=True.\n",
      "  target_df[\"Actual Price\"] = target_df[\"Actual Price\"].str.replace(\"$\", \"\").str.replace(\",\", \"\").astype(float)\n",
      "C:\\Users\\Taco\\AppData\\Local\\Temp\\ipykernel_7920\\3130790411.py:2: FutureWarning: The default value of regex will change from True to False in a future version. In addition, single character regular expressions will *not* be treated as literal strings when regex=True.\n",
      "  target_df[\"Sale Price\"] = target_df[\"Sale Price\"].str.replace(\"$\", \"\").str.replace(\",\", \"\").astype(float)\n"
     ]
    }
   ],
   "source": [
    "target_df[\"Actual Price\"] = target_df[\"Actual Price\"].str.replace(\"$\", \"\").str.replace(\",\", \"\").astype(float)\n",
    "target_df[\"Sale Price\"] = target_df[\"Sale Price\"].str.replace(\"$\", \"\").str.replace(\",\", \"\").astype(float)\n",
    "target_df[\"Discount %\"] = target_df[\"Discount %\"].str.replace(\"%\", \"\").astype(float)"
   ]
  },
  {
   "cell_type": "code",
   "execution_count": 23,
   "id": "ef5e1553",
   "metadata": {},
   "outputs": [],
   "source": [
    "target_df[\"Rating\"] = target_df[\"Rating\"].replace(\"undefined\", \"0\")\n",
    "target_df[\"Rating\"] = target_df[\"Rating\"].astype(float)"
   ]
  },
  {
   "cell_type": "code",
   "execution_count": 24,
   "id": "4bfbf768",
   "metadata": {},
   "outputs": [
    {
     "data": {
      "text/html": [
       "<div>\n",
       "<style scoped>\n",
       "    .dataframe tbody tr th:only-of-type {\n",
       "        vertical-align: middle;\n",
       "    }\n",
       "\n",
       "    .dataframe tbody tr th {\n",
       "        vertical-align: top;\n",
       "    }\n",
       "\n",
       "    .dataframe thead th {\n",
       "        text-align: right;\n",
       "    }\n",
       "</style>\n",
       "<table border=\"1\" class=\"dataframe\">\n",
       "  <thead>\n",
       "    <tr style=\"text-align: right;\">\n",
       "      <th></th>\n",
       "      <th>Name</th>\n",
       "      <th>Actual Price</th>\n",
       "      <th>Sale Price</th>\n",
       "      <th>Discount %</th>\n",
       "      <th>Rating</th>\n",
       "      <th>Number of Reviews</th>\n",
       "      <th>Category</th>\n",
       "      <th>Sub-Category</th>\n",
       "      <th>Brand</th>\n",
       "    </tr>\n",
       "  </thead>\n",
       "  <tbody>\n",
       "    <tr>\n",
       "      <th>0</th>\n",
       "      <td>Santa Fabric Christmas Figurine with Blue Gift...</td>\n",
       "      <td>4.25</td>\n",
       "      <td>4.25</td>\n",
       "      <td>0.0</td>\n",
       "      <td>4.2</td>\n",
       "      <td>13</td>\n",
       "      <td>Christmas Decorations</td>\n",
       "      <td>Indoor Christmas Decorations</td>\n",
       "      <td>Wondershop</td>\n",
       "    </tr>\n",
       "    <tr>\n",
       "      <th>1</th>\n",
       "      <td>6.75\" Featherly Friends Bird Dressed as Elf Fa...</td>\n",
       "      <td>4.25</td>\n",
       "      <td>4.25</td>\n",
       "      <td>0.0</td>\n",
       "      <td>4.8</td>\n",
       "      <td>44</td>\n",
       "      <td>Christmas Decorations</td>\n",
       "      <td>Indoor Christmas Decorations</td>\n",
       "      <td>Wondershop</td>\n",
       "    </tr>\n",
       "    <tr>\n",
       "      <th>2</th>\n",
       "      <td>Mr. Christmas 17\" Tabletop Super Climber Anima...</td>\n",
       "      <td>49.99</td>\n",
       "      <td>19.99</td>\n",
       "      <td>60.0</td>\n",
       "      <td>3.9</td>\n",
       "      <td>29</td>\n",
       "      <td>Christmas Decorations</td>\n",
       "      <td>Indoor Christmas Decorations</td>\n",
       "      <td>Mr. Christmas</td>\n",
       "    </tr>\n",
       "    <tr>\n",
       "      <th>3</th>\n",
       "      <td>Northlight 7\" LED Lighted Magnolia Leaf, Pinec...</td>\n",
       "      <td>43.49</td>\n",
       "      <td>35.99</td>\n",
       "      <td>17.0</td>\n",
       "      <td>4.0</td>\n",
       "      <td>2</td>\n",
       "      <td>Christmas Decorations</td>\n",
       "      <td>Indoor Christmas Decorations</td>\n",
       "      <td>Northlight</td>\n",
       "    </tr>\n",
       "    <tr>\n",
       "      <th>4</th>\n",
       "      <td>Mr. Christmas Animated Mini Carnival Music Box...</td>\n",
       "      <td>34.99</td>\n",
       "      <td>19.99</td>\n",
       "      <td>43.0</td>\n",
       "      <td>3.6</td>\n",
       "      <td>11</td>\n",
       "      <td>Christmas Decorations</td>\n",
       "      <td>Indoor Christmas Decorations</td>\n",
       "      <td>Mr. Christmas</td>\n",
       "    </tr>\n",
       "  </tbody>\n",
       "</table>\n",
       "</div>"
      ],
      "text/plain": [
       "                                                Name  Actual Price  \\\n",
       "0  Santa Fabric Christmas Figurine with Blue Gift...          4.25   \n",
       "1  6.75\" Featherly Friends Bird Dressed as Elf Fa...          4.25   \n",
       "2  Mr. Christmas 17\" Tabletop Super Climber Anima...         49.99   \n",
       "3  Northlight 7\" LED Lighted Magnolia Leaf, Pinec...         43.49   \n",
       "4  Mr. Christmas Animated Mini Carnival Music Box...         34.99   \n",
       "\n",
       "   Sale Price  Discount %  Rating  Number of Reviews               Category  \\\n",
       "0        4.25         0.0     4.2                 13  Christmas Decorations   \n",
       "1        4.25         0.0     4.8                 44  Christmas Decorations   \n",
       "2       19.99        60.0     3.9                 29  Christmas Decorations   \n",
       "3       35.99        17.0     4.0                  2  Christmas Decorations   \n",
       "4       19.99        43.0     3.6                 11  Christmas Decorations   \n",
       "\n",
       "                   Sub-Category          Brand  \n",
       "0  Indoor Christmas Decorations     Wondershop  \n",
       "1  Indoor Christmas Decorations     Wondershop  \n",
       "2  Indoor Christmas Decorations  Mr. Christmas  \n",
       "3  Indoor Christmas Decorations     Northlight  \n",
       "4  Indoor Christmas Decorations  Mr. Christmas  "
      ]
     },
     "execution_count": 24,
     "metadata": {},
     "output_type": "execute_result"
    }
   ],
   "source": [
    "target_df.head()"
   ]
  },
  {
   "cell_type": "code",
   "execution_count": 25,
   "id": "14dfac25",
   "metadata": {},
   "outputs": [
    {
     "name": "stdout",
     "output_type": "stream",
     "text": [
      "<class 'pandas.core.frame.DataFrame'>\n",
      "Int64Index: 1105 entries, 0 to 1105\n",
      "Data columns (total 9 columns):\n",
      " #   Column             Non-Null Count  Dtype  \n",
      "---  ------             --------------  -----  \n",
      " 0   Name               1105 non-null   object \n",
      " 1   Actual Price       1105 non-null   float64\n",
      " 2   Sale Price         1105 non-null   float64\n",
      " 3   Discount %         1105 non-null   float64\n",
      " 4   Rating             1105 non-null   float64\n",
      " 5   Number of Reviews  1105 non-null   int64  \n",
      " 6   Category           1105 non-null   object \n",
      " 7   Sub-Category       1105 non-null   object \n",
      " 8   Brand              1105 non-null   object \n",
      "dtypes: float64(4), int64(1), object(4)\n",
      "memory usage: 86.3+ KB\n"
     ]
    }
   ],
   "source": [
    "target_df.info()"
   ]
  },
  {
   "cell_type": "code",
   "execution_count": 26,
   "id": "dd5d7ab6",
   "metadata": {},
   "outputs": [],
   "source": [
    "target_df.to_csv(\"Cleaned_Datasets/target_christmas_deco.csv\")"
   ]
  },
  {
   "cell_type": "markdown",
   "id": "c57eecb6",
   "metadata": {},
   "source": [
    "## Hobby Lobby"
   ]
  },
  {
   "cell_type": "code",
   "execution_count": 27,
   "id": "6af0cada",
   "metadata": {},
   "outputs": [],
   "source": [
    "hobby_lobby_df = pd.read_csv(\"Datasets/hobby_lobby_christmas_deco.csv\", index_col=False)"
   ]
  },
  {
   "cell_type": "code",
   "execution_count": 28,
   "id": "15e31e62",
   "metadata": {},
   "outputs": [
    {
     "data": {
      "text/html": [
       "<div>\n",
       "<style scoped>\n",
       "    .dataframe tbody tr th:only-of-type {\n",
       "        vertical-align: middle;\n",
       "    }\n",
       "\n",
       "    .dataframe tbody tr th {\n",
       "        vertical-align: top;\n",
       "    }\n",
       "\n",
       "    .dataframe thead th {\n",
       "        text-align: right;\n",
       "    }\n",
       "</style>\n",
       "<table border=\"1\" class=\"dataframe\">\n",
       "  <thead>\n",
       "    <tr style=\"text-align: right;\">\n",
       "      <th></th>\n",
       "      <th>Name</th>\n",
       "      <th>Actual Price</th>\n",
       "      <th>Sale Price</th>\n",
       "      <th>Discount %</th>\n",
       "      <th>Rating</th>\n",
       "      <th>Number of Reviews</th>\n",
       "      <th>Category</th>\n",
       "      <th>Sub-Category</th>\n",
       "      <th>Brand</th>\n",
       "    </tr>\n",
       "  </thead>\n",
       "  <tbody>\n",
       "    <tr>\n",
       "      <th>0</th>\n",
       "      <td>Merry Christmas Cardinals Decor</td>\n",
       "      <td>$20.99</td>\n",
       "      <td>$10.49</td>\n",
       "      <td>50%</td>\n",
       "      <td>No reviews yet</td>\n",
       "      <td>0</td>\n",
       "      <td>Tabletop Decor</td>\n",
       "      <td>Merry Christmas Cardinals Decor</td>\n",
       "      <td>NaN</td>\n",
       "    </tr>\n",
       "    <tr>\n",
       "      <th>1</th>\n",
       "      <td>Merry Christmas Decor</td>\n",
       "      <td>$6.99</td>\n",
       "      <td>$3.49</td>\n",
       "      <td>50%</td>\n",
       "      <td>No reviews yet</td>\n",
       "      <td>0</td>\n",
       "      <td>Tabletop Decor</td>\n",
       "      <td>Merry Christmas Decor</td>\n",
       "      <td>NaN</td>\n",
       "    </tr>\n",
       "    <tr>\n",
       "      <th>2</th>\n",
       "      <td>We Wish You A Merry Christmas Wood Decor</td>\n",
       "      <td>$9.99</td>\n",
       "      <td>$4.99</td>\n",
       "      <td>50%</td>\n",
       "      <td>No reviews yet</td>\n",
       "      <td>0</td>\n",
       "      <td>Tabletop Decor</td>\n",
       "      <td>We Wish You A Merry Christmas Wood Decor</td>\n",
       "      <td>NaN</td>\n",
       "    </tr>\n",
       "    <tr>\n",
       "      <th>3</th>\n",
       "      <td>Merry Christmas Pine &amp; Berry Arrangement</td>\n",
       "      <td>$29.99</td>\n",
       "      <td>$14.99</td>\n",
       "      <td>50%</td>\n",
       "      <td>5.0</td>\n",
       "      <td>1</td>\n",
       "      <td>Tabletop Decor</td>\n",
       "      <td>Merry Christmas Pine &amp; Berry Arrangement</td>\n",
       "      <td>Barb's Tree Farm</td>\n",
       "    </tr>\n",
       "    <tr>\n",
       "      <th>4</th>\n",
       "      <td>Merry Christmas Wood Wall Decor</td>\n",
       "      <td>$7.49</td>\n",
       "      <td>$3.74</td>\n",
       "      <td>50%</td>\n",
       "      <td>No reviews yet</td>\n",
       "      <td>0</td>\n",
       "      <td>Tabletop Decor</td>\n",
       "      <td>Merry Christmas Wood Wall Decor</td>\n",
       "      <td>NaN</td>\n",
       "    </tr>\n",
       "  </tbody>\n",
       "</table>\n",
       "</div>"
      ],
      "text/plain": [
       "                                       Name Actual Price Sale Price  \\\n",
       "0           Merry Christmas Cardinals Decor       $20.99     $10.49   \n",
       "1                     Merry Christmas Decor        $6.99      $3.49   \n",
       "2  We Wish You A Merry Christmas Wood Decor        $9.99      $4.99   \n",
       "3  Merry Christmas Pine & Berry Arrangement       $29.99     $14.99   \n",
       "4           Merry Christmas Wood Wall Decor        $7.49      $3.74   \n",
       "\n",
       "  Discount %          Rating  Number of Reviews        Category  \\\n",
       "0        50%  No reviews yet                  0  Tabletop Decor   \n",
       "1        50%  No reviews yet                  0  Tabletop Decor   \n",
       "2        50%  No reviews yet                  0  Tabletop Decor   \n",
       "3        50%             5.0                  1  Tabletop Decor   \n",
       "4        50%  No reviews yet                  0  Tabletop Decor   \n",
       "\n",
       "                               Sub-Category             Brand  \n",
       "0           Merry Christmas Cardinals Decor               NaN  \n",
       "1                     Merry Christmas Decor               NaN  \n",
       "2  We Wish You A Merry Christmas Wood Decor               NaN  \n",
       "3  Merry Christmas Pine & Berry Arrangement  Barb's Tree Farm  \n",
       "4           Merry Christmas Wood Wall Decor               NaN  "
      ]
     },
     "execution_count": 28,
     "metadata": {},
     "output_type": "execute_result"
    }
   ],
   "source": [
    "hobby_lobby_df.drop(columns=hobby_lobby_df.columns[0], axis=1, inplace=True)\n",
    "hobby_lobby_df.head()"
   ]
  },
  {
   "cell_type": "code",
   "execution_count": 29,
   "id": "14ef018b",
   "metadata": {},
   "outputs": [
    {
     "name": "stdout",
     "output_type": "stream",
     "text": [
      "<class 'pandas.core.frame.DataFrame'>\n",
      "RangeIndex: 226 entries, 0 to 225\n",
      "Data columns (total 9 columns):\n",
      " #   Column             Non-Null Count  Dtype \n",
      "---  ------             --------------  ----- \n",
      " 0   Name               226 non-null    object\n",
      " 1   Actual Price       226 non-null    object\n",
      " 2   Sale Price         226 non-null    object\n",
      " 3   Discount %         226 non-null    object\n",
      " 4   Rating             226 non-null    object\n",
      " 5   Number of Reviews  226 non-null    int64 \n",
      " 6   Category           226 non-null    object\n",
      " 7   Sub-Category       226 non-null    object\n",
      " 8   Brand              78 non-null     object\n",
      "dtypes: int64(1), object(8)\n",
      "memory usage: 16.0+ KB\n"
     ]
    }
   ],
   "source": [
    "hobby_lobby_df.info()"
   ]
  },
  {
   "cell_type": "code",
   "execution_count": 30,
   "id": "6f9a7434",
   "metadata": {},
   "outputs": [
    {
     "data": {
      "text/plain": [
       "Name                 143\n",
       "Actual Price          57\n",
       "Sale Price            62\n",
       "Discount %             5\n",
       "Rating                19\n",
       "Number of Reviews     16\n",
       "Category              53\n",
       "Sub-Category         143\n",
       "Brand                 15\n",
       "dtype: int64"
      ]
     },
     "execution_count": 30,
     "metadata": {},
     "output_type": "execute_result"
    }
   ],
   "source": [
    "hobby_lobby_df.nunique()"
   ]
  },
  {
   "cell_type": "code",
   "execution_count": 31,
   "id": "cf4c5cde",
   "metadata": {},
   "outputs": [
    {
     "data": {
      "text/plain": [
       "array(['$10.49', '$3.49', '$4.99', '$14.99', '$3.74', '$7.49', '$0.99',\n",
       "       '$1.99', '$2.74', '$4.49', '$5.49', '$2.99', '$3.99',\n",
       "       'Not on Sale', '$6.49', '$15.99', '$2.49', '$1.49', '$11.49',\n",
       "       '$2.24', '$7.99', '$11.99', '$5.99', '$12.49', '$4.24', '$8.99',\n",
       "       '$6.99', '$17.99', '$29.99', '$0.41', '$9.99', '$18.49', '$1.74',\n",
       "       '$13.99', '$16.99', '$1.24', '$19.99', '$17.49', '$34.99', '$9.49',\n",
       "       '$3.24', '$164.99', '$69.99', '$59.99', '$599.99', '$299.99',\n",
       "       '$134.99', '$39.99', '$199.99', '$189.99', '$249.99', '$8.39',\n",
       "       '$289.99', '$119.99', '$27.49', '$22.49', '$5.24', '$6.74',\n",
       "       '$12.74', '$4.19', '$1.79', '$0.35'], dtype=object)"
      ]
     },
     "execution_count": 31,
     "metadata": {},
     "output_type": "execute_result"
    }
   ],
   "source": [
    "hobby_lobby_df[\"Sale Price\"].unique()"
   ]
  },
  {
   "cell_type": "code",
   "execution_count": 32,
   "id": "022f474b",
   "metadata": {},
   "outputs": [],
   "source": [
    "hobby_lobby_df[\"Sale Price\"] = np.where(hobby_lobby_df[\"Sale Price\"] == \"Not on Sale\", hobby_lobby_df[\"Actual Price\"], hobby_lobby_df[\"Sale Price\"])"
   ]
  },
  {
   "cell_type": "code",
   "execution_count": 33,
   "id": "139fb170",
   "metadata": {},
   "outputs": [
    {
     "name": "stderr",
     "output_type": "stream",
     "text": [
      "C:\\Users\\Taco\\AppData\\Local\\Temp\\ipykernel_7920\\2000110805.py:1: FutureWarning: The default value of regex will change from True to False in a future version. In addition, single character regular expressions will *not* be treated as literal strings when regex=True.\n",
      "  hobby_lobby_df[\"Actual Price\"] = hobby_lobby_df[\"Actual Price\"].str.replace(\"$\", \"\").astype(float)\n",
      "C:\\Users\\Taco\\AppData\\Local\\Temp\\ipykernel_7920\\2000110805.py:2: FutureWarning: The default value of regex will change from True to False in a future version. In addition, single character regular expressions will *not* be treated as literal strings when regex=True.\n",
      "  hobby_lobby_df[\"Sale Price\"] = hobby_lobby_df[\"Sale Price\"].str.replace(\"$\", \"\").astype(float)\n"
     ]
    }
   ],
   "source": [
    "hobby_lobby_df[\"Actual Price\"] = hobby_lobby_df[\"Actual Price\"].str.replace(\"$\", \"\").astype(float)\n",
    "hobby_lobby_df[\"Sale Price\"] = hobby_lobby_df[\"Sale Price\"].str.replace(\"$\", \"\").astype(float)\n",
    "hobby_lobby_df[\"Discount %\"] = hobby_lobby_df[\"Discount %\"].str.replace(\"%\", \"\").astype(float)"
   ]
  },
  {
   "cell_type": "code",
   "execution_count": 34,
   "id": "b80e24c8",
   "metadata": {},
   "outputs": [],
   "source": [
    "hobby_lobby_df[\"Rating\"] = hobby_lobby_df[\"Rating\"].replace(\"No reviews yet\", \"0\").astype(float)"
   ]
  },
  {
   "cell_type": "code",
   "execution_count": 35,
   "id": "afbb0093",
   "metadata": {},
   "outputs": [],
   "source": [
    "hobby_lobby_df[\"Brand\"] = hobby_lobby_df[\"Brand\"].fillna(\"Hobby Lobby\")"
   ]
  },
  {
   "cell_type": "code",
   "execution_count": 36,
   "id": "b158e394",
   "metadata": {},
   "outputs": [
    {
     "data": {
      "text/html": [
       "<div>\n",
       "<style scoped>\n",
       "    .dataframe tbody tr th:only-of-type {\n",
       "        vertical-align: middle;\n",
       "    }\n",
       "\n",
       "    .dataframe tbody tr th {\n",
       "        vertical-align: top;\n",
       "    }\n",
       "\n",
       "    .dataframe thead th {\n",
       "        text-align: right;\n",
       "    }\n",
       "</style>\n",
       "<table border=\"1\" class=\"dataframe\">\n",
       "  <thead>\n",
       "    <tr style=\"text-align: right;\">\n",
       "      <th></th>\n",
       "      <th>Name</th>\n",
       "      <th>Actual Price</th>\n",
       "      <th>Sale Price</th>\n",
       "      <th>Discount %</th>\n",
       "      <th>Rating</th>\n",
       "      <th>Number of Reviews</th>\n",
       "      <th>Category</th>\n",
       "      <th>Sub-Category</th>\n",
       "      <th>Brand</th>\n",
       "    </tr>\n",
       "  </thead>\n",
       "  <tbody>\n",
       "    <tr>\n",
       "      <th>0</th>\n",
       "      <td>Merry Christmas Cardinals Decor</td>\n",
       "      <td>20.99</td>\n",
       "      <td>10.49</td>\n",
       "      <td>50.0</td>\n",
       "      <td>0.0</td>\n",
       "      <td>0</td>\n",
       "      <td>Tabletop Decor</td>\n",
       "      <td>Merry Christmas Cardinals Decor</td>\n",
       "      <td>Hobby Lobby</td>\n",
       "    </tr>\n",
       "    <tr>\n",
       "      <th>1</th>\n",
       "      <td>Merry Christmas Decor</td>\n",
       "      <td>6.99</td>\n",
       "      <td>3.49</td>\n",
       "      <td>50.0</td>\n",
       "      <td>0.0</td>\n",
       "      <td>0</td>\n",
       "      <td>Tabletop Decor</td>\n",
       "      <td>Merry Christmas Decor</td>\n",
       "      <td>Hobby Lobby</td>\n",
       "    </tr>\n",
       "    <tr>\n",
       "      <th>2</th>\n",
       "      <td>We Wish You A Merry Christmas Wood Decor</td>\n",
       "      <td>9.99</td>\n",
       "      <td>4.99</td>\n",
       "      <td>50.0</td>\n",
       "      <td>0.0</td>\n",
       "      <td>0</td>\n",
       "      <td>Tabletop Decor</td>\n",
       "      <td>We Wish You A Merry Christmas Wood Decor</td>\n",
       "      <td>Hobby Lobby</td>\n",
       "    </tr>\n",
       "    <tr>\n",
       "      <th>3</th>\n",
       "      <td>Merry Christmas Pine &amp; Berry Arrangement</td>\n",
       "      <td>29.99</td>\n",
       "      <td>14.99</td>\n",
       "      <td>50.0</td>\n",
       "      <td>5.0</td>\n",
       "      <td>1</td>\n",
       "      <td>Tabletop Decor</td>\n",
       "      <td>Merry Christmas Pine &amp; Berry Arrangement</td>\n",
       "      <td>Barb's Tree Farm</td>\n",
       "    </tr>\n",
       "    <tr>\n",
       "      <th>4</th>\n",
       "      <td>Merry Christmas Wood Wall Decor</td>\n",
       "      <td>7.49</td>\n",
       "      <td>3.74</td>\n",
       "      <td>50.0</td>\n",
       "      <td>0.0</td>\n",
       "      <td>0</td>\n",
       "      <td>Tabletop Decor</td>\n",
       "      <td>Merry Christmas Wood Wall Decor</td>\n",
       "      <td>Hobby Lobby</td>\n",
       "    </tr>\n",
       "  </tbody>\n",
       "</table>\n",
       "</div>"
      ],
      "text/plain": [
       "                                       Name  Actual Price  Sale Price  \\\n",
       "0           Merry Christmas Cardinals Decor         20.99       10.49   \n",
       "1                     Merry Christmas Decor          6.99        3.49   \n",
       "2  We Wish You A Merry Christmas Wood Decor          9.99        4.99   \n",
       "3  Merry Christmas Pine & Berry Arrangement         29.99       14.99   \n",
       "4           Merry Christmas Wood Wall Decor          7.49        3.74   \n",
       "\n",
       "   Discount %  Rating  Number of Reviews        Category  \\\n",
       "0        50.0     0.0                  0  Tabletop Decor   \n",
       "1        50.0     0.0                  0  Tabletop Decor   \n",
       "2        50.0     0.0                  0  Tabletop Decor   \n",
       "3        50.0     5.0                  1  Tabletop Decor   \n",
       "4        50.0     0.0                  0  Tabletop Decor   \n",
       "\n",
       "                               Sub-Category             Brand  \n",
       "0           Merry Christmas Cardinals Decor       Hobby Lobby  \n",
       "1                     Merry Christmas Decor       Hobby Lobby  \n",
       "2  We Wish You A Merry Christmas Wood Decor       Hobby Lobby  \n",
       "3  Merry Christmas Pine & Berry Arrangement  Barb's Tree Farm  \n",
       "4           Merry Christmas Wood Wall Decor       Hobby Lobby  "
      ]
     },
     "execution_count": 36,
     "metadata": {},
     "output_type": "execute_result"
    }
   ],
   "source": [
    "hobby_lobby_df.head()"
   ]
  },
  {
   "cell_type": "code",
   "execution_count": 37,
   "id": "f563fdcb",
   "metadata": {},
   "outputs": [],
   "source": [
    "hobby_lobby_df.to_csv(\"Cleaned_Datasets/hobby_lobby_christmas_deco.csv\")"
   ]
  },
  {
   "cell_type": "markdown",
   "id": "2d05492b",
   "metadata": {},
   "source": [
    "## Amazon"
   ]
  },
  {
   "cell_type": "code",
   "execution_count": 38,
   "id": "db0274c9",
   "metadata": {},
   "outputs": [],
   "source": [
    "amazon_df = pd.read_csv(\"Datasets/amazon_thanksgiving_deco.csv\", index_col=False)"
   ]
  },
  {
   "cell_type": "code",
   "execution_count": 39,
   "id": "c7bd312c",
   "metadata": {},
   "outputs": [
    {
     "data": {
      "text/html": [
       "<div>\n",
       "<style scoped>\n",
       "    .dataframe tbody tr th:only-of-type {\n",
       "        vertical-align: middle;\n",
       "    }\n",
       "\n",
       "    .dataframe tbody tr th {\n",
       "        vertical-align: top;\n",
       "    }\n",
       "\n",
       "    .dataframe thead th {\n",
       "        text-align: right;\n",
       "    }\n",
       "</style>\n",
       "<table border=\"1\" class=\"dataframe\">\n",
       "  <thead>\n",
       "    <tr style=\"text-align: right;\">\n",
       "      <th></th>\n",
       "      <th>Name</th>\n",
       "      <th>Price</th>\n",
       "      <th>Rating</th>\n",
       "      <th>Number of Reviews</th>\n",
       "      <th>Category</th>\n",
       "      <th>Sub-Category</th>\n",
       "      <th>Brand</th>\n",
       "    </tr>\n",
       "  </thead>\n",
       "  <tbody>\n",
       "    <tr>\n",
       "      <th>0</th>\n",
       "      <td>Thanksgiving Party Decorations Fall Party Hang...</td>\n",
       "      <td>$18.99</td>\n",
       "      <td>4.6</td>\n",
       "      <td>6</td>\n",
       "      <td>Home &amp; Kitchen</td>\n",
       "      <td>Event &amp; Party Supplies</td>\n",
       "      <td>zilue</td>\n",
       "    </tr>\n",
       "    <tr>\n",
       "      <th>1</th>\n",
       "      <td>U'Artlines 4Pcs Artificial Fall Garland Maple ...</td>\n",
       "      <td>$16.79</td>\n",
       "      <td>4.5</td>\n",
       "      <td>36</td>\n",
       "      <td>Home &amp; Kitchen</td>\n",
       "      <td>Seasonal Décor</td>\n",
       "      <td>U'Artlines</td>\n",
       "    </tr>\n",
       "    <tr>\n",
       "      <th>2</th>\n",
       "      <td>Thanksgiving Decor Supplies Turkey Thanksgivin...</td>\n",
       "      <td>$12.99</td>\n",
       "      <td>3.8</td>\n",
       "      <td>7</td>\n",
       "      <td>Toys &amp; Games</td>\n",
       "      <td>Party Supplies</td>\n",
       "      <td>Unknown</td>\n",
       "    </tr>\n",
       "    <tr>\n",
       "      <th>3</th>\n",
       "      <td>MAQIHAN 350PCS Fall Maple Leaves - Autumn Fall...</td>\n",
       "      <td>$5.99</td>\n",
       "      <td>4.4</td>\n",
       "      <td>3</td>\n",
       "      <td>Home &amp; Kitchen</td>\n",
       "      <td>Home Décor Products</td>\n",
       "      <td>MAQIHAN</td>\n",
       "    </tr>\n",
       "    <tr>\n",
       "      <th>4</th>\n",
       "      <td>DearHouse 2 Pack Fall Garland Maple Leaf Clear...</td>\n",
       "      <td>$12.99</td>\n",
       "      <td>4.4</td>\n",
       "      <td>7,279</td>\n",
       "      <td>Home &amp; Kitchen</td>\n",
       "      <td>Seasonal Décor</td>\n",
       "      <td>DearHouse</td>\n",
       "    </tr>\n",
       "  </tbody>\n",
       "</table>\n",
       "</div>"
      ],
      "text/plain": [
       "                                                Name   Price Rating  \\\n",
       "0  Thanksgiving Party Decorations Fall Party Hang...  $18.99    4.6   \n",
       "1  U'Artlines 4Pcs Artificial Fall Garland Maple ...  $16.79    4.5   \n",
       "2  Thanksgiving Decor Supplies Turkey Thanksgivin...  $12.99    3.8   \n",
       "3  MAQIHAN 350PCS Fall Maple Leaves - Autumn Fall...   $5.99    4.4   \n",
       "4  DearHouse 2 Pack Fall Garland Maple Leaf Clear...  $12.99    4.4   \n",
       "\n",
       "  Number of Reviews        Category            Sub-Category       Brand  \n",
       "0                 6  Home & Kitchen  Event & Party Supplies       zilue  \n",
       "1                36  Home & Kitchen          Seasonal Décor  U'Artlines  \n",
       "2                 7    Toys & Games          Party Supplies     Unknown  \n",
       "3                 3  Home & Kitchen     Home Décor Products     MAQIHAN  \n",
       "4             7,279  Home & Kitchen          Seasonal Décor   DearHouse  "
      ]
     },
     "execution_count": 39,
     "metadata": {},
     "output_type": "execute_result"
    }
   ],
   "source": [
    "amazon_df.drop(columns=amazon_df.columns[0], axis=1, inplace=True)\n",
    "amazon_df.head()"
   ]
  },
  {
   "cell_type": "code",
   "execution_count": 40,
   "id": "24d8c337",
   "metadata": {},
   "outputs": [
    {
     "name": "stdout",
     "output_type": "stream",
     "text": [
      "<class 'pandas.core.frame.DataFrame'>\n",
      "RangeIndex: 387 entries, 0 to 386\n",
      "Data columns (total 7 columns):\n",
      " #   Column             Non-Null Count  Dtype \n",
      "---  ------             --------------  ----- \n",
      " 0   Name               387 non-null    object\n",
      " 1   Price              386 non-null    object\n",
      " 2   Rating             387 non-null    object\n",
      " 3   Number of Reviews  387 non-null    object\n",
      " 4   Category           387 non-null    object\n",
      " 5   Sub-Category       387 non-null    object\n",
      " 6   Brand              387 non-null    object\n",
      "dtypes: object(7)\n",
      "memory usage: 21.3+ KB\n"
     ]
    }
   ],
   "source": [
    "amazon_df.info()"
   ]
  },
  {
   "cell_type": "code",
   "execution_count": 41,
   "id": "0e9f4b9b",
   "metadata": {},
   "outputs": [
    {
     "name": "stdout",
     "output_type": "stream",
     "text": [
      "<class 'pandas.core.frame.DataFrame'>\n",
      "Int64Index: 386 entries, 0 to 386\n",
      "Data columns (total 7 columns):\n",
      " #   Column             Non-Null Count  Dtype \n",
      "---  ------             --------------  ----- \n",
      " 0   Name               386 non-null    object\n",
      " 1   Price              386 non-null    object\n",
      " 2   Rating             386 non-null    object\n",
      " 3   Number of Reviews  386 non-null    object\n",
      " 4   Category           386 non-null    object\n",
      " 5   Sub-Category       386 non-null    object\n",
      " 6   Brand              386 non-null    object\n",
      "dtypes: object(7)\n",
      "memory usage: 24.1+ KB\n"
     ]
    }
   ],
   "source": [
    "amazon_df = amazon_df.dropna()\n",
    "amazon_df.info()"
   ]
  },
  {
   "cell_type": "code",
   "execution_count": 42,
   "id": "5fd2ded3",
   "metadata": {},
   "outputs": [
    {
     "data": {
      "text/plain": [
       "Name                 351\n",
       "Price                 91\n",
       "Rating                23\n",
       "Number of Reviews    188\n",
       "Category              10\n",
       "Sub-Category          19\n",
       "Brand                216\n",
       "dtype: int64"
      ]
     },
     "execution_count": 42,
     "metadata": {},
     "output_type": "execute_result"
    }
   ],
   "source": [
    "amazon_df.nunique()"
   ]
  },
  {
   "cell_type": "code",
   "execution_count": 43,
   "id": "8cc2ed30",
   "metadata": {},
   "outputs": [
    {
     "data": {
      "text/plain": [
       "Roseeyo Lighted Thanksgiving Window Decorations, 15.7\" Light up Autumn Turkey Window Lights Window Silhouette Sign for Fall Harvest Thanksgiving Decor with 12 LEDs                                                              2\n",
       "Happy Fall Yall Burlap Banner for Fireplace Thanksgiving Decorations Fall Sign Mantel Autumn Decor Rustic Farmhouse Banner Maple Leaf Pumpkin Harvest Fall Party Decorations for Home Wall Hanging Indoor Outdoor Home Office    2\n",
       "Feybxla 2 Pack Maple Leaf String Lights for Fall Decor, Total 20ft/60 LED Realistic Fall Leaves Fall Lights, Waterproof Battery Operated Fall Decorations Thanksgiving Halloween Indoor Outdoor                                  2\n",
       "BAYLAY Thanksgiving Tree Ornaments - 27pcs Thanksgiving Decorations for Home | Thanksgiving Tree Ornaments | Thanksgiving Decorations | Thanksgiving Decor | Thanksgiving Ornaments for Tree                                     2\n",
       "yizeda 24 Pieces Thanksgiving Cutlery Holder Set, Turkey Party Table Decorations Cutlery Pouch Holder Silverware Pouch Bags for Autumn Fall Harvest Party Thanksgiving Day Table Decoration                                      2\n",
       "                                                                                                                                                                                                                                ..\n",
       "1 PCS Happy Thanksgiving Cake Topper Glitter Maple Leaves Happy Friendsgiving Cake Pick Autumn Fall Thankful Grateful Blessed Cake Decoration for Thanksgiving Day Theme Party Supplies Orange                                   1\n",
       "12 Pack Flameless Candles Battery Operated Waterproof Led Candles (D:2.2\" X H:4\" 5\" 6\" 7\") Candles with 2 Remotes Contro for Wedding, Party, Birthday, Outdoor/Indoor Decoration(Plastic)                                        1\n",
       "WELLIFE 350 Pieces Rose Gold Plastic Dinnerware, 50 Guests Disposable Plates with Rose Gold silverware and Cups 9 OZ, 50 Pre Rolled Napkins with Rose Gold Cutlery, Perfect for Wedding                                          1\n",
       "WELLIFE 350 Pieces Rose Gold Plastic Dinnerware, Disposable Rose Gold Lace Plates, Include:50 Dinner Plates, 50 Dessert Plates, 50 Per Rolled Napkins with Rose Gold Silverware and 50 Cups                                      1\n",
       "32Ft Fall Banner Decorations Triangle Flag Fabric Pennant Garland Bunting for Happy Fall Decor Thanksgiving Day Harvest Autumn Wedding Birthday Party Home Outdoor Garden Hanging Decoration (36Pcs)                             1\n",
       "Name: Name, Length: 351, dtype: int64"
      ]
     },
     "execution_count": 43,
     "metadata": {},
     "output_type": "execute_result"
    }
   ],
   "source": [
    "amazon_df[\"Name\"].value_counts()"
   ]
  },
  {
   "cell_type": "code",
   "execution_count": 44,
   "id": "23fb2128",
   "metadata": {},
   "outputs": [
    {
     "data": {
      "text/html": [
       "<div>\n",
       "<style scoped>\n",
       "    .dataframe tbody tr th:only-of-type {\n",
       "        vertical-align: middle;\n",
       "    }\n",
       "\n",
       "    .dataframe tbody tr th {\n",
       "        vertical-align: top;\n",
       "    }\n",
       "\n",
       "    .dataframe thead th {\n",
       "        text-align: right;\n",
       "    }\n",
       "</style>\n",
       "<table border=\"1\" class=\"dataframe\">\n",
       "  <thead>\n",
       "    <tr style=\"text-align: right;\">\n",
       "      <th></th>\n",
       "      <th>Name</th>\n",
       "      <th>Price</th>\n",
       "      <th>Rating</th>\n",
       "      <th>Number of Reviews</th>\n",
       "      <th>Category</th>\n",
       "      <th>Sub-Category</th>\n",
       "      <th>Brand</th>\n",
       "    </tr>\n",
       "  </thead>\n",
       "  <tbody>\n",
       "    <tr>\n",
       "      <th>21</th>\n",
       "      <td>Feybxla 2 Pack Maple Leaf String Lights for Fa...</td>\n",
       "      <td>$10.99</td>\n",
       "      <td>4.7</td>\n",
       "      <td>69</td>\n",
       "      <td>Home &amp; Kitchen</td>\n",
       "      <td>Seasonal Décor</td>\n",
       "      <td>Feybxla</td>\n",
       "    </tr>\n",
       "    <tr>\n",
       "      <th>300</th>\n",
       "      <td>Feybxla 2 Pack Maple Leaf String Lights for Fa...</td>\n",
       "      <td>$10.99</td>\n",
       "      <td>4.7</td>\n",
       "      <td>69</td>\n",
       "      <td>Home &amp; Kitchen</td>\n",
       "      <td>Seasonal Décor</td>\n",
       "      <td>Feybxla</td>\n",
       "    </tr>\n",
       "  </tbody>\n",
       "</table>\n",
       "</div>"
      ],
      "text/plain": [
       "                                                  Name   Price Rating  \\\n",
       "21   Feybxla 2 Pack Maple Leaf String Lights for Fa...  $10.99    4.7   \n",
       "300  Feybxla 2 Pack Maple Leaf String Lights for Fa...  $10.99    4.7   \n",
       "\n",
       "    Number of Reviews        Category    Sub-Category    Brand  \n",
       "21                 69  Home & Kitchen  Seasonal Décor  Feybxla  \n",
       "300                69  Home & Kitchen  Seasonal Décor  Feybxla  "
      ]
     },
     "execution_count": 44,
     "metadata": {},
     "output_type": "execute_result"
    }
   ],
   "source": [
    "amazon_df[amazon_df[\"Name\"] == 'Feybxla 2 Pack Maple Leaf String Lights for Fall Decor, Total 20ft/60 LED Realistic Fall Leaves Fall Lights, Waterproof Battery Operated Fall Decorations Thanksgiving Halloween Indoor Outdoor']"
   ]
  },
  {
   "cell_type": "code",
   "execution_count": 45,
   "id": "0328a1f7",
   "metadata": {},
   "outputs": [
    {
     "data": {
      "text/html": [
       "<div>\n",
       "<style scoped>\n",
       "    .dataframe tbody tr th:only-of-type {\n",
       "        vertical-align: middle;\n",
       "    }\n",
       "\n",
       "    .dataframe tbody tr th {\n",
       "        vertical-align: top;\n",
       "    }\n",
       "\n",
       "    .dataframe thead th {\n",
       "        text-align: right;\n",
       "    }\n",
       "</style>\n",
       "<table border=\"1\" class=\"dataframe\">\n",
       "  <thead>\n",
       "    <tr style=\"text-align: right;\">\n",
       "      <th></th>\n",
       "      <th>Name</th>\n",
       "      <th>Price</th>\n",
       "      <th>Rating</th>\n",
       "      <th>Number of Reviews</th>\n",
       "      <th>Category</th>\n",
       "      <th>Sub-Category</th>\n",
       "      <th>Brand</th>\n",
       "    </tr>\n",
       "  </thead>\n",
       "  <tbody>\n",
       "    <tr>\n",
       "      <th>0</th>\n",
       "      <td>Thanksgiving Party Decorations Fall Party Hang...</td>\n",
       "      <td>$18.99</td>\n",
       "      <td>4.6</td>\n",
       "      <td>6</td>\n",
       "      <td>Home &amp; Kitchen</td>\n",
       "      <td>Event &amp; Party Supplies</td>\n",
       "      <td>zilue</td>\n",
       "    </tr>\n",
       "    <tr>\n",
       "      <th>1</th>\n",
       "      <td>U'Artlines 4Pcs Artificial Fall Garland Maple ...</td>\n",
       "      <td>$16.79</td>\n",
       "      <td>4.5</td>\n",
       "      <td>36</td>\n",
       "      <td>Home &amp; Kitchen</td>\n",
       "      <td>Seasonal Décor</td>\n",
       "      <td>U'Artlines</td>\n",
       "    </tr>\n",
       "    <tr>\n",
       "      <th>2</th>\n",
       "      <td>Thanksgiving Decor Supplies Turkey Thanksgivin...</td>\n",
       "      <td>$12.99</td>\n",
       "      <td>3.8</td>\n",
       "      <td>7</td>\n",
       "      <td>Toys &amp; Games</td>\n",
       "      <td>Party Supplies</td>\n",
       "      <td>Unknown</td>\n",
       "    </tr>\n",
       "    <tr>\n",
       "      <th>3</th>\n",
       "      <td>MAQIHAN 350PCS Fall Maple Leaves - Autumn Fall...</td>\n",
       "      <td>$5.99</td>\n",
       "      <td>4.4</td>\n",
       "      <td>3</td>\n",
       "      <td>Home &amp; Kitchen</td>\n",
       "      <td>Home Décor Products</td>\n",
       "      <td>MAQIHAN</td>\n",
       "    </tr>\n",
       "    <tr>\n",
       "      <th>4</th>\n",
       "      <td>DearHouse 2 Pack Fall Garland Maple Leaf Clear...</td>\n",
       "      <td>$12.99</td>\n",
       "      <td>4.4</td>\n",
       "      <td>7,279</td>\n",
       "      <td>Home &amp; Kitchen</td>\n",
       "      <td>Seasonal Décor</td>\n",
       "      <td>DearHouse</td>\n",
       "    </tr>\n",
       "  </tbody>\n",
       "</table>\n",
       "</div>"
      ],
      "text/plain": [
       "                                                Name   Price Rating  \\\n",
       "0  Thanksgiving Party Decorations Fall Party Hang...  $18.99    4.6   \n",
       "1  U'Artlines 4Pcs Artificial Fall Garland Maple ...  $16.79    4.5   \n",
       "2  Thanksgiving Decor Supplies Turkey Thanksgivin...  $12.99    3.8   \n",
       "3  MAQIHAN 350PCS Fall Maple Leaves - Autumn Fall...   $5.99    4.4   \n",
       "4  DearHouse 2 Pack Fall Garland Maple Leaf Clear...  $12.99    4.4   \n",
       "\n",
       "  Number of Reviews        Category            Sub-Category       Brand  \n",
       "0                 6  Home & Kitchen  Event & Party Supplies       zilue  \n",
       "1                36  Home & Kitchen          Seasonal Décor  U'Artlines  \n",
       "2                 7    Toys & Games          Party Supplies     Unknown  \n",
       "3                 3  Home & Kitchen     Home Décor Products     MAQIHAN  \n",
       "4             7,279  Home & Kitchen          Seasonal Décor   DearHouse  "
      ]
     },
     "execution_count": 45,
     "metadata": {},
     "output_type": "execute_result"
    }
   ],
   "source": [
    "amazon_df = amazon_df.drop_duplicates(subset=[\"Name\"])\n",
    "amazon_df.head()"
   ]
  },
  {
   "cell_type": "code",
   "execution_count": 46,
   "id": "1bf65b77",
   "metadata": {},
   "outputs": [
    {
     "data": {
      "text/html": [
       "<div>\n",
       "<style scoped>\n",
       "    .dataframe tbody tr th:only-of-type {\n",
       "        vertical-align: middle;\n",
       "    }\n",
       "\n",
       "    .dataframe tbody tr th {\n",
       "        vertical-align: top;\n",
       "    }\n",
       "\n",
       "    .dataframe thead th {\n",
       "        text-align: right;\n",
       "    }\n",
       "</style>\n",
       "<table border=\"1\" class=\"dataframe\">\n",
       "  <thead>\n",
       "    <tr style=\"text-align: right;\">\n",
       "      <th></th>\n",
       "      <th>Name</th>\n",
       "      <th>Sale Price</th>\n",
       "      <th>Rating</th>\n",
       "      <th>Number of Reviews</th>\n",
       "      <th>Category</th>\n",
       "      <th>Sub-Category</th>\n",
       "      <th>Brand</th>\n",
       "    </tr>\n",
       "  </thead>\n",
       "  <tbody>\n",
       "    <tr>\n",
       "      <th>0</th>\n",
       "      <td>Thanksgiving Party Decorations Fall Party Hang...</td>\n",
       "      <td>$18.99</td>\n",
       "      <td>4.6</td>\n",
       "      <td>6</td>\n",
       "      <td>Home &amp; Kitchen</td>\n",
       "      <td>Event &amp; Party Supplies</td>\n",
       "      <td>zilue</td>\n",
       "    </tr>\n",
       "    <tr>\n",
       "      <th>1</th>\n",
       "      <td>U'Artlines 4Pcs Artificial Fall Garland Maple ...</td>\n",
       "      <td>$16.79</td>\n",
       "      <td>4.5</td>\n",
       "      <td>36</td>\n",
       "      <td>Home &amp; Kitchen</td>\n",
       "      <td>Seasonal Décor</td>\n",
       "      <td>U'Artlines</td>\n",
       "    </tr>\n",
       "    <tr>\n",
       "      <th>2</th>\n",
       "      <td>Thanksgiving Decor Supplies Turkey Thanksgivin...</td>\n",
       "      <td>$12.99</td>\n",
       "      <td>3.8</td>\n",
       "      <td>7</td>\n",
       "      <td>Toys &amp; Games</td>\n",
       "      <td>Party Supplies</td>\n",
       "      <td>Unknown</td>\n",
       "    </tr>\n",
       "    <tr>\n",
       "      <th>3</th>\n",
       "      <td>MAQIHAN 350PCS Fall Maple Leaves - Autumn Fall...</td>\n",
       "      <td>$5.99</td>\n",
       "      <td>4.4</td>\n",
       "      <td>3</td>\n",
       "      <td>Home &amp; Kitchen</td>\n",
       "      <td>Home Décor Products</td>\n",
       "      <td>MAQIHAN</td>\n",
       "    </tr>\n",
       "    <tr>\n",
       "      <th>4</th>\n",
       "      <td>DearHouse 2 Pack Fall Garland Maple Leaf Clear...</td>\n",
       "      <td>$12.99</td>\n",
       "      <td>4.4</td>\n",
       "      <td>7,279</td>\n",
       "      <td>Home &amp; Kitchen</td>\n",
       "      <td>Seasonal Décor</td>\n",
       "      <td>DearHouse</td>\n",
       "    </tr>\n",
       "  </tbody>\n",
       "</table>\n",
       "</div>"
      ],
      "text/plain": [
       "                                                Name Sale Price Rating  \\\n",
       "0  Thanksgiving Party Decorations Fall Party Hang...     $18.99    4.6   \n",
       "1  U'Artlines 4Pcs Artificial Fall Garland Maple ...     $16.79    4.5   \n",
       "2  Thanksgiving Decor Supplies Turkey Thanksgivin...     $12.99    3.8   \n",
       "3  MAQIHAN 350PCS Fall Maple Leaves - Autumn Fall...      $5.99    4.4   \n",
       "4  DearHouse 2 Pack Fall Garland Maple Leaf Clear...     $12.99    4.4   \n",
       "\n",
       "  Number of Reviews        Category            Sub-Category       Brand  \n",
       "0                 6  Home & Kitchen  Event & Party Supplies       zilue  \n",
       "1                36  Home & Kitchen          Seasonal Décor  U'Artlines  \n",
       "2                 7    Toys & Games          Party Supplies     Unknown  \n",
       "3                 3  Home & Kitchen     Home Décor Products     MAQIHAN  \n",
       "4             7,279  Home & Kitchen          Seasonal Décor   DearHouse  "
      ]
     },
     "execution_count": 46,
     "metadata": {},
     "output_type": "execute_result"
    }
   ],
   "source": [
    "amazon_df = amazon_df.rename(columns={\"Price\": \"Sale Price\"})\n",
    "amazon_df.head()"
   ]
  },
  {
   "cell_type": "code",
   "execution_count": 47,
   "id": "efc6177e",
   "metadata": {},
   "outputs": [],
   "source": [
    "amazon_df[\"Rating\"] = amazon_df[\"Rating\"].str.replace(\"No Ratings\", \"0\").astype(float)\n",
    "amazon_df[\"Number of Reviews\"] = amazon_df[\"Number of Reviews\"].str.replace(\"None\", \"0\")"
   ]
  },
  {
   "cell_type": "code",
   "execution_count": 48,
   "id": "b2ac3fe7",
   "metadata": {},
   "outputs": [
    {
     "name": "stderr",
     "output_type": "stream",
     "text": [
      "C:\\Users\\Taco\\AppData\\Local\\Temp\\ipykernel_7920\\1029185773.py:1: FutureWarning: The default value of regex will change from True to False in a future version. In addition, single character regular expressions will *not* be treated as literal strings when regex=True.\n",
      "  amazon_df[\"Sale Price\"] = amazon_df[\"Sale Price\"].str.replace(\"$\", \"\").str.replace(\",\", \"\").astype(float)\n"
     ]
    }
   ],
   "source": [
    "amazon_df[\"Sale Price\"] = amazon_df[\"Sale Price\"].str.replace(\"$\", \"\").str.replace(\",\", \"\").astype(float)\n",
    "amazon_df[\"Number of Reviews\"] = amazon_df[\"Number of Reviews\"].str.replace(\",\", \"\").astype(float)"
   ]
  },
  {
   "cell_type": "code",
   "execution_count": 49,
   "id": "4145e72d",
   "metadata": {},
   "outputs": [
    {
     "name": "stdout",
     "output_type": "stream",
     "text": [
      "<class 'pandas.core.frame.DataFrame'>\n",
      "Int64Index: 351 entries, 0 to 386\n",
      "Data columns (total 7 columns):\n",
      " #   Column             Non-Null Count  Dtype  \n",
      "---  ------             --------------  -----  \n",
      " 0   Name               351 non-null    object \n",
      " 1   Sale Price         351 non-null    float64\n",
      " 2   Rating             351 non-null    float64\n",
      " 3   Number of Reviews  351 non-null    float64\n",
      " 4   Category           351 non-null    object \n",
      " 5   Sub-Category       351 non-null    object \n",
      " 6   Brand              351 non-null    object \n",
      "dtypes: float64(3), object(4)\n",
      "memory usage: 21.9+ KB\n"
     ]
    }
   ],
   "source": [
    "amazon_df.info()"
   ]
  },
  {
   "cell_type": "code",
   "execution_count": 50,
   "id": "1daebcfb",
   "metadata": {},
   "outputs": [],
   "source": [
    "amazon_df.to_csv(\"Cleaned_Datasets/amazon_thanksgiving_deco.csv\")"
   ]
  },
  {
   "cell_type": "code",
   "execution_count": null,
   "id": "fb83cc06",
   "metadata": {},
   "outputs": [],
   "source": []
  }
 ],
 "metadata": {
  "kernelspec": {
   "display_name": "Python 3 (ipykernel)",
   "language": "python",
   "name": "python3"
  },
  "language_info": {
   "codemirror_mode": {
    "name": "ipython",
    "version": 3
   },
   "file_extension": ".py",
   "mimetype": "text/x-python",
   "name": "python",
   "nbconvert_exporter": "python",
   "pygments_lexer": "ipython3",
   "version": "3.10.9"
  }
 },
 "nbformat": 4,
 "nbformat_minor": 5
}

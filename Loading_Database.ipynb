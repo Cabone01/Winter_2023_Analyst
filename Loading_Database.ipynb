{
 "cells": [
  {
   "cell_type": "code",
   "execution_count": 1,
   "id": "7cb1005d",
   "metadata": {},
   "outputs": [],
   "source": [
    "import pandas as pd\n",
    "import mysql.connector\n",
    "from important import host, user, password"
   ]
  },
  {
   "cell_type": "code",
   "execution_count": 2,
   "id": "a4d90706",
   "metadata": {},
   "outputs": [
    {
     "name": "stdout",
     "output_type": "stream",
     "text": [
      "<mysql.connector.connection_cext.CMySQLConnection object at 0x000001BC9E2F7D90>\n"
     ]
    }
   ],
   "source": [
    "holiday_db = mysql.connector.connect(\n",
    "  host=host,\n",
    "  user=user,\n",
    "  password=password\n",
    ")\n",
    "\n",
    "print(holiday_db)"
   ]
  },
  {
   "cell_type": "code",
   "execution_count": 3,
   "id": "29c5f23e",
   "metadata": {},
   "outputs": [],
   "source": [
    "if holiday_db.is_connected():\n",
    "    cursor = holiday_db.cursor()\n",
    "    cursor.execute(\"DROP DATABASE IF EXISTS 2023_winter\")\n",
    "    cursor.execute(\"CREATE DATABASE 2023_winter\")"
   ]
  },
  {
   "cell_type": "markdown",
   "id": "df7dab3a",
   "metadata": {},
   "source": [
    "## At Home"
   ]
  },
  {
   "cell_type": "code",
   "execution_count": 4,
   "id": "5e74fb69",
   "metadata": {},
   "outputs": [],
   "source": [
    "at_home_df = pd.read_csv(\"Cleaned_Datasets/at_home_christmas_deco.csv\")"
   ]
  },
  {
   "cell_type": "code",
   "execution_count": 5,
   "id": "3d544b5c",
   "metadata": {},
   "outputs": [],
   "source": [
    "at_home_df.drop(columns=at_home_df.columns[0], axis=1, inplace=True)"
   ]
  },
  {
   "cell_type": "code",
   "execution_count": 6,
   "id": "54389993",
   "metadata": {},
   "outputs": [
    {
     "data": {
      "text/html": [
       "<div>\n",
       "<style scoped>\n",
       "    .dataframe tbody tr th:only-of-type {\n",
       "        vertical-align: middle;\n",
       "    }\n",
       "\n",
       "    .dataframe tbody tr th {\n",
       "        vertical-align: top;\n",
       "    }\n",
       "\n",
       "    .dataframe thead th {\n",
       "        text-align: right;\n",
       "    }\n",
       "</style>\n",
       "<table border=\"1\" class=\"dataframe\">\n",
       "  <thead>\n",
       "    <tr style=\"text-align: right;\">\n",
       "      <th></th>\n",
       "      <th>Name</th>\n",
       "      <th>Actual Price</th>\n",
       "      <th>Sale Price</th>\n",
       "      <th>Discount %</th>\n",
       "      <th>Rating</th>\n",
       "      <th>Number of Reviews</th>\n",
       "      <th>Category</th>\n",
       "      <th>Sub-Category</th>\n",
       "      <th>Brand</th>\n",
       "    </tr>\n",
       "  </thead>\n",
       "  <tbody>\n",
       "    <tr>\n",
       "      <th>0</th>\n",
       "      <td>Premium Rolling Christmas Tree Storage Bag, 7.5'</td>\n",
       "      <td>24.99</td>\n",
       "      <td>24.99</td>\n",
       "      <td>0.0</td>\n",
       "      <td>4.2</td>\n",
       "      <td>96</td>\n",
       "      <td>Christmas</td>\n",
       "      <td>Christmas Storage</td>\n",
       "      <td>At Home</td>\n",
       "    </tr>\n",
       "    <tr>\n",
       "      <th>1</th>\n",
       "      <td>Inflatable Colossal Waving Santa, 20'</td>\n",
       "      <td>199.99</td>\n",
       "      <td>99.99</td>\n",
       "      <td>50.0</td>\n",
       "      <td>3.2</td>\n",
       "      <td>23</td>\n",
       "      <td>Christmas Inflatables &amp; Outdoor Decor</td>\n",
       "      <td>Oversized Decor</td>\n",
       "      <td>At Home</td>\n",
       "    </tr>\n",
       "    <tr>\n",
       "      <th>2</th>\n",
       "      <td>&amp; Elf Pets® Merry Christmas Table Decor, 6\"</td>\n",
       "      <td>4.99</td>\n",
       "      <td>2.49</td>\n",
       "      <td>50.0</td>\n",
       "      <td>0.0</td>\n",
       "      <td>0</td>\n",
       "      <td>Christmas</td>\n",
       "      <td>The Elf on the Shelf Collection</td>\n",
       "      <td>The Elf on the Shelf®</td>\n",
       "    </tr>\n",
       "    <tr>\n",
       "      <th>3</th>\n",
       "      <td>Christmas Magic Card Holder Table Decor, 11x7</td>\n",
       "      <td>9.99</td>\n",
       "      <td>4.99</td>\n",
       "      <td>50.0</td>\n",
       "      <td>5.0</td>\n",
       "      <td>1</td>\n",
       "      <td>Christmas</td>\n",
       "      <td>The Elf on the Shelf Collection</td>\n",
       "      <td>The Elf on the Shelf®</td>\n",
       "    </tr>\n",
       "    <tr>\n",
       "      <th>4</th>\n",
       "      <td>150-Count Silver Ornament Hooks</td>\n",
       "      <td>1.99</td>\n",
       "      <td>0.99</td>\n",
       "      <td>50.0</td>\n",
       "      <td>4.1</td>\n",
       "      <td>39</td>\n",
       "      <td>Christmas</td>\n",
       "      <td>Christmas Ornaments</td>\n",
       "      <td>At Home</td>\n",
       "    </tr>\n",
       "  </tbody>\n",
       "</table>\n",
       "</div>"
      ],
      "text/plain": [
       "                                               Name  Actual Price  Sale Price  \\\n",
       "0  Premium Rolling Christmas Tree Storage Bag, 7.5'         24.99       24.99   \n",
       "1             Inflatable Colossal Waving Santa, 20'        199.99       99.99   \n",
       "2       & Elf Pets® Merry Christmas Table Decor, 6\"          4.99        2.49   \n",
       "3     Christmas Magic Card Holder Table Decor, 11x7          9.99        4.99   \n",
       "4                   150-Count Silver Ornament Hooks          1.99        0.99   \n",
       "\n",
       "   Discount %  Rating  Number of Reviews  \\\n",
       "0         0.0     4.2                 96   \n",
       "1        50.0     3.2                 23   \n",
       "2        50.0     0.0                  0   \n",
       "3        50.0     5.0                  1   \n",
       "4        50.0     4.1                 39   \n",
       "\n",
       "                                Category                     Sub-Category  \\\n",
       "0                              Christmas                Christmas Storage   \n",
       "1  Christmas Inflatables & Outdoor Decor                  Oversized Decor   \n",
       "2                              Christmas  The Elf on the Shelf Collection   \n",
       "3                              Christmas  The Elf on the Shelf Collection   \n",
       "4                              Christmas              Christmas Ornaments   \n",
       "\n",
       "                   Brand  \n",
       "0                At Home  \n",
       "1                At Home  \n",
       "2  The Elf on the Shelf®  \n",
       "3  The Elf on the Shelf®  \n",
       "4                At Home  "
      ]
     },
     "execution_count": 6,
     "metadata": {},
     "output_type": "execute_result"
    }
   ],
   "source": [
    "at_home_df.head()"
   ]
  },
  {
   "cell_type": "code",
   "execution_count": 7,
   "id": "dfc34468",
   "metadata": {},
   "outputs": [
    {
     "name": "stdout",
     "output_type": "stream",
     "text": [
      "You're connected to database: ('2023_winter',)\n",
      "Creating Table\n",
      "Table is created...\n"
     ]
    }
   ],
   "source": [
    "try:\n",
    "    cnx = mysql.connector.connect(host=host, database=\"2023_winter\", user=user, password=password)\n",
    "    if cnx.is_connected():\n",
    "        cursor = cnx.cursor()\n",
    "        cursor.execute(\"SELECT database();\")\n",
    "        record = cursor.fetchone()\n",
    "        print(f\"You're connected to database: {record}\")\n",
    "        \n",
    "        cursor.execute(\"DROP TABLE IF EXISTS at_home_chrismtas_deco;\")\n",
    "        print(\"Creating Table\")\n",
    "        \n",
    "        cursor.execute(\"Create TABLE at_home_chrismtas_deco(name VARCHAR(92), actual_price FLOAT, sale_price FLOAT, discount_prct FLOAT, rating FLOAT, number_of_reviews INT, category VARCHAR(72), subcategory VARCHAR(72), brand VARCHAR(32));\")\n",
    "        print(\"Table is created...\")\n",
    "        \n",
    "        for i, row in at_home_df.iterrows():\n",
    "            sql = \"INSERT INTO at_home_chrismtas_deco VALUES (%s, %s, %s, %s, %s, %s, %s, %s, %s)\"\n",
    "            cursor.execute(sql, tuple(row))\n",
    "            cnx.commit()\n",
    "except Error as e:\n",
    "    print(\"Error while connecting to MySQL\", e)"
   ]
  },
  {
   "cell_type": "code",
   "execution_count": 8,
   "id": "c9b5758e",
   "metadata": {},
   "outputs": [
    {
     "name": "stdout",
     "output_type": "stream",
     "text": [
      "(\"Premium Rolling Christmas Tree Storage Bag, 7.5'\", 24.99, 24.99, 0.0, 4.2, 96, 'Christmas', 'Christmas Storage', 'At Home')\n",
      "(\"Inflatable Colossal Waving Santa, 20'\", 199.99, 99.99, 50.0, 3.2, 23, 'Christmas Inflatables & Outdoor Decor', 'Oversized Decor', 'At Home')\n",
      "('& Elf Pets® Merry Christmas Table Decor, 6\"', 4.99, 2.49, 50.0, 0.0, 0, 'Christmas', 'The Elf on the Shelf Collection', 'The Elf on the Shelf®')\n",
      "('Christmas Magic Card Holder Table Decor, 11x7', 9.99, 4.99, 50.0, 5.0, 1, 'Christmas', 'The Elf on the Shelf Collection', 'The Elf on the Shelf®')\n",
      "('150-Count Silver Ornament Hooks', 1.99, 0.99, 50.0, 4.1, 39, 'Christmas', 'Christmas Ornaments', 'At Home')\n"
     ]
    }
   ],
   "source": [
    "sql = \"SELECT * FROM 2023_winter.at_home_chrismtas_deco LIMIT 5;\"\n",
    "cursor.execute(sql)\n",
    "result = cursor.fetchall()\n",
    "for i in result:\n",
    "    print(i)"
   ]
  },
  {
   "cell_type": "markdown",
   "id": "74c3b4cb",
   "metadata": {},
   "source": [
    "## Target"
   ]
  },
  {
   "cell_type": "code",
   "execution_count": 9,
   "id": "9c803664",
   "metadata": {},
   "outputs": [],
   "source": [
    "target_df = pd.read_csv(\"Cleaned_Datasets/target_christmas_deco.csv\")"
   ]
  },
  {
   "cell_type": "code",
   "execution_count": 10,
   "id": "a47a15e9",
   "metadata": {},
   "outputs": [],
   "source": [
    "target_df.drop(columns=target_df.columns[0], axis=1, inplace=True)"
   ]
  },
  {
   "cell_type": "code",
   "execution_count": 11,
   "id": "0b5e3309",
   "metadata": {},
   "outputs": [
    {
     "data": {
      "text/html": [
       "<div>\n",
       "<style scoped>\n",
       "    .dataframe tbody tr th:only-of-type {\n",
       "        vertical-align: middle;\n",
       "    }\n",
       "\n",
       "    .dataframe tbody tr th {\n",
       "        vertical-align: top;\n",
       "    }\n",
       "\n",
       "    .dataframe thead th {\n",
       "        text-align: right;\n",
       "    }\n",
       "</style>\n",
       "<table border=\"1\" class=\"dataframe\">\n",
       "  <thead>\n",
       "    <tr style=\"text-align: right;\">\n",
       "      <th></th>\n",
       "      <th>Name</th>\n",
       "      <th>Actual Price</th>\n",
       "      <th>Sale Price</th>\n",
       "      <th>Discount %</th>\n",
       "      <th>Rating</th>\n",
       "      <th>Number of Reviews</th>\n",
       "      <th>Category</th>\n",
       "      <th>Sub-Category</th>\n",
       "      <th>Brand</th>\n",
       "    </tr>\n",
       "  </thead>\n",
       "  <tbody>\n",
       "    <tr>\n",
       "      <th>0</th>\n",
       "      <td>Santa Fabric Christmas Figurine with Blue Gift...</td>\n",
       "      <td>4.25</td>\n",
       "      <td>4.25</td>\n",
       "      <td>0.0</td>\n",
       "      <td>4.2</td>\n",
       "      <td>13</td>\n",
       "      <td>Christmas Decorations</td>\n",
       "      <td>Indoor Christmas Decorations</td>\n",
       "      <td>Wondershop</td>\n",
       "    </tr>\n",
       "    <tr>\n",
       "      <th>1</th>\n",
       "      <td>6.75\" Featherly Friends Bird Dressed as Elf Fa...</td>\n",
       "      <td>4.25</td>\n",
       "      <td>4.25</td>\n",
       "      <td>0.0</td>\n",
       "      <td>4.8</td>\n",
       "      <td>44</td>\n",
       "      <td>Christmas Decorations</td>\n",
       "      <td>Indoor Christmas Decorations</td>\n",
       "      <td>Wondershop</td>\n",
       "    </tr>\n",
       "    <tr>\n",
       "      <th>2</th>\n",
       "      <td>Mr. Christmas 17\" Tabletop Super Climber Anima...</td>\n",
       "      <td>49.99</td>\n",
       "      <td>19.99</td>\n",
       "      <td>60.0</td>\n",
       "      <td>3.9</td>\n",
       "      <td>29</td>\n",
       "      <td>Christmas Decorations</td>\n",
       "      <td>Indoor Christmas Decorations</td>\n",
       "      <td>Mr. Christmas</td>\n",
       "    </tr>\n",
       "    <tr>\n",
       "      <th>3</th>\n",
       "      <td>Northlight 7\" LED Lighted Magnolia Leaf, Pinec...</td>\n",
       "      <td>43.49</td>\n",
       "      <td>35.99</td>\n",
       "      <td>17.0</td>\n",
       "      <td>4.0</td>\n",
       "      <td>2</td>\n",
       "      <td>Christmas Decorations</td>\n",
       "      <td>Indoor Christmas Decorations</td>\n",
       "      <td>Northlight</td>\n",
       "    </tr>\n",
       "    <tr>\n",
       "      <th>4</th>\n",
       "      <td>Mr. Christmas Animated Mini Carnival Music Box...</td>\n",
       "      <td>34.99</td>\n",
       "      <td>19.99</td>\n",
       "      <td>43.0</td>\n",
       "      <td>3.6</td>\n",
       "      <td>11</td>\n",
       "      <td>Christmas Decorations</td>\n",
       "      <td>Indoor Christmas Decorations</td>\n",
       "      <td>Mr. Christmas</td>\n",
       "    </tr>\n",
       "  </tbody>\n",
       "</table>\n",
       "</div>"
      ],
      "text/plain": [
       "                                                Name  Actual Price  \\\n",
       "0  Santa Fabric Christmas Figurine with Blue Gift...          4.25   \n",
       "1  6.75\" Featherly Friends Bird Dressed as Elf Fa...          4.25   \n",
       "2  Mr. Christmas 17\" Tabletop Super Climber Anima...         49.99   \n",
       "3  Northlight 7\" LED Lighted Magnolia Leaf, Pinec...         43.49   \n",
       "4  Mr. Christmas Animated Mini Carnival Music Box...         34.99   \n",
       "\n",
       "   Sale Price  Discount %  Rating  Number of Reviews               Category  \\\n",
       "0        4.25         0.0     4.2                 13  Christmas Decorations   \n",
       "1        4.25         0.0     4.8                 44  Christmas Decorations   \n",
       "2       19.99        60.0     3.9                 29  Christmas Decorations   \n",
       "3       35.99        17.0     4.0                  2  Christmas Decorations   \n",
       "4       19.99        43.0     3.6                 11  Christmas Decorations   \n",
       "\n",
       "                   Sub-Category          Brand  \n",
       "0  Indoor Christmas Decorations     Wondershop  \n",
       "1  Indoor Christmas Decorations     Wondershop  \n",
       "2  Indoor Christmas Decorations  Mr. Christmas  \n",
       "3  Indoor Christmas Decorations     Northlight  \n",
       "4  Indoor Christmas Decorations  Mr. Christmas  "
      ]
     },
     "execution_count": 11,
     "metadata": {},
     "output_type": "execute_result"
    }
   ],
   "source": [
    "target_df.head()"
   ]
  },
  {
   "cell_type": "code",
   "execution_count": 12,
   "id": "dae2e631",
   "metadata": {},
   "outputs": [
    {
     "name": "stdout",
     "output_type": "stream",
     "text": [
      "You're connected to database: ('2023_winter',)\n",
      "Creating Table\n",
      "Table is created...\n"
     ]
    }
   ],
   "source": [
    "try:\n",
    "    cnx = mysql.connector.connect(host=host, database=\"2023_winter\", user=user, password=password)\n",
    "    if cnx.is_connected():\n",
    "        cursor = cnx.cursor()\n",
    "        cursor.execute(\"SELECT database();\")\n",
    "        record = cursor.fetchone()\n",
    "        print(f\"You're connected to database: {record}\")\n",
    "        \n",
    "        cursor.execute(\"DROP TABLE IF EXISTS target_chrismtas_deco;\")\n",
    "        print(\"Creating Table\")\n",
    "        \n",
    "        cursor.execute(\"Create TABLE target_chrismtas_deco(name VARCHAR(92), actual_price FLOAT, sale_price FLOAT, discount_prct FLOAT, rating FLOAT, number_of_reviews INT, category VARCHAR(72), subcategory VARCHAR(72), brand VARCHAR(32));\")\n",
    "        print(\"Table is created...\")\n",
    "        \n",
    "        for i, row in at_home_df.iterrows():\n",
    "            sql = \"INSERT INTO target_chrismtas_deco VALUES (%s, %s, %s, %s, %s, %s, %s, %s, %s)\"\n",
    "            cursor.execute(sql, tuple(row))\n",
    "            cnx.commit()\n",
    "except Error as e:\n",
    "    print(\"Error while connecting to MySQL\", e)"
   ]
  },
  {
   "cell_type": "code",
   "execution_count": 13,
   "id": "994f5d32",
   "metadata": {},
   "outputs": [
    {
     "name": "stdout",
     "output_type": "stream",
     "text": [
      "(\"Premium Rolling Christmas Tree Storage Bag, 7.5'\", 24.99, 24.99, 0.0, 4.2, 96, 'Christmas', 'Christmas Storage', 'At Home')\n",
      "(\"Inflatable Colossal Waving Santa, 20'\", 199.99, 99.99, 50.0, 3.2, 23, 'Christmas Inflatables & Outdoor Decor', 'Oversized Decor', 'At Home')\n",
      "('& Elf Pets® Merry Christmas Table Decor, 6\"', 4.99, 2.49, 50.0, 0.0, 0, 'Christmas', 'The Elf on the Shelf Collection', 'The Elf on the Shelf®')\n",
      "('Christmas Magic Card Holder Table Decor, 11x7', 9.99, 4.99, 50.0, 5.0, 1, 'Christmas', 'The Elf on the Shelf Collection', 'The Elf on the Shelf®')\n",
      "('150-Count Silver Ornament Hooks', 1.99, 0.99, 50.0, 4.1, 39, 'Christmas', 'Christmas Ornaments', 'At Home')\n"
     ]
    }
   ],
   "source": [
    "sql = \"SELECT * FROM 2023_winter.target_chrismtas_deco LIMIT 5;\"\n",
    "cursor.execute(sql)\n",
    "result = cursor.fetchall()\n",
    "for i in result:\n",
    "    print(i)"
   ]
  },
  {
   "cell_type": "markdown",
   "id": "99c4d11b",
   "metadata": {},
   "source": [
    "## Hobby Lobby"
   ]
  },
  {
   "cell_type": "code",
   "execution_count": 14,
   "id": "efd96796",
   "metadata": {},
   "outputs": [],
   "source": [
    "hobby_lobby_df = pd.read_csv(\"Cleaned_Datasets/hobby_lobby_christmas_deco.csv\")"
   ]
  },
  {
   "cell_type": "code",
   "execution_count": 15,
   "id": "e07925bc",
   "metadata": {},
   "outputs": [],
   "source": [
    "hobby_lobby_df.drop(columns=target_df.columns[0], axis=1, inplace=True)"
   ]
  },
  {
   "cell_type": "code",
   "execution_count": 16,
   "id": "88b422af",
   "metadata": {},
   "outputs": [
    {
     "data": {
      "text/html": [
       "<div>\n",
       "<style scoped>\n",
       "    .dataframe tbody tr th:only-of-type {\n",
       "        vertical-align: middle;\n",
       "    }\n",
       "\n",
       "    .dataframe tbody tr th {\n",
       "        vertical-align: top;\n",
       "    }\n",
       "\n",
       "    .dataframe thead th {\n",
       "        text-align: right;\n",
       "    }\n",
       "</style>\n",
       "<table border=\"1\" class=\"dataframe\">\n",
       "  <thead>\n",
       "    <tr style=\"text-align: right;\">\n",
       "      <th></th>\n",
       "      <th>Unnamed: 0</th>\n",
       "      <th>Actual Price</th>\n",
       "      <th>Sale Price</th>\n",
       "      <th>Discount %</th>\n",
       "      <th>Rating</th>\n",
       "      <th>Number of Reviews</th>\n",
       "      <th>Category</th>\n",
       "      <th>Sub-Category</th>\n",
       "      <th>Brand</th>\n",
       "    </tr>\n",
       "  </thead>\n",
       "  <tbody>\n",
       "    <tr>\n",
       "      <th>0</th>\n",
       "      <td>0</td>\n",
       "      <td>20.99</td>\n",
       "      <td>10.49</td>\n",
       "      <td>50.0</td>\n",
       "      <td>0.0</td>\n",
       "      <td>0</td>\n",
       "      <td>Tabletop Decor</td>\n",
       "      <td>Merry Christmas Cardinals Decor</td>\n",
       "      <td>Hobby Lobby</td>\n",
       "    </tr>\n",
       "    <tr>\n",
       "      <th>1</th>\n",
       "      <td>1</td>\n",
       "      <td>6.99</td>\n",
       "      <td>3.49</td>\n",
       "      <td>50.0</td>\n",
       "      <td>0.0</td>\n",
       "      <td>0</td>\n",
       "      <td>Tabletop Decor</td>\n",
       "      <td>Merry Christmas Decor</td>\n",
       "      <td>Hobby Lobby</td>\n",
       "    </tr>\n",
       "    <tr>\n",
       "      <th>2</th>\n",
       "      <td>2</td>\n",
       "      <td>9.99</td>\n",
       "      <td>4.99</td>\n",
       "      <td>50.0</td>\n",
       "      <td>0.0</td>\n",
       "      <td>0</td>\n",
       "      <td>Tabletop Decor</td>\n",
       "      <td>We Wish You A Merry Christmas Wood Decor</td>\n",
       "      <td>Hobby Lobby</td>\n",
       "    </tr>\n",
       "    <tr>\n",
       "      <th>3</th>\n",
       "      <td>3</td>\n",
       "      <td>29.99</td>\n",
       "      <td>14.99</td>\n",
       "      <td>50.0</td>\n",
       "      <td>5.0</td>\n",
       "      <td>1</td>\n",
       "      <td>Tabletop Decor</td>\n",
       "      <td>Merry Christmas Pine &amp; Berry Arrangement</td>\n",
       "      <td>Barb's Tree Farm</td>\n",
       "    </tr>\n",
       "    <tr>\n",
       "      <th>4</th>\n",
       "      <td>4</td>\n",
       "      <td>7.49</td>\n",
       "      <td>3.74</td>\n",
       "      <td>50.0</td>\n",
       "      <td>0.0</td>\n",
       "      <td>0</td>\n",
       "      <td>Tabletop Decor</td>\n",
       "      <td>Merry Christmas Wood Wall Decor</td>\n",
       "      <td>Hobby Lobby</td>\n",
       "    </tr>\n",
       "  </tbody>\n",
       "</table>\n",
       "</div>"
      ],
      "text/plain": [
       "   Unnamed: 0  Actual Price  Sale Price  Discount %  Rating  \\\n",
       "0           0         20.99       10.49        50.0     0.0   \n",
       "1           1          6.99        3.49        50.0     0.0   \n",
       "2           2          9.99        4.99        50.0     0.0   \n",
       "3           3         29.99       14.99        50.0     5.0   \n",
       "4           4          7.49        3.74        50.0     0.0   \n",
       "\n",
       "   Number of Reviews        Category  \\\n",
       "0                  0  Tabletop Decor   \n",
       "1                  0  Tabletop Decor   \n",
       "2                  0  Tabletop Decor   \n",
       "3                  1  Tabletop Decor   \n",
       "4                  0  Tabletop Decor   \n",
       "\n",
       "                               Sub-Category             Brand  \n",
       "0           Merry Christmas Cardinals Decor       Hobby Lobby  \n",
       "1                     Merry Christmas Decor       Hobby Lobby  \n",
       "2  We Wish You A Merry Christmas Wood Decor       Hobby Lobby  \n",
       "3  Merry Christmas Pine & Berry Arrangement  Barb's Tree Farm  \n",
       "4           Merry Christmas Wood Wall Decor       Hobby Lobby  "
      ]
     },
     "execution_count": 16,
     "metadata": {},
     "output_type": "execute_result"
    }
   ],
   "source": [
    "hobby_lobby_df.head()"
   ]
  },
  {
   "cell_type": "code",
   "execution_count": 17,
   "id": "d84a7e68",
   "metadata": {},
   "outputs": [
    {
     "name": "stdout",
     "output_type": "stream",
     "text": [
      "You're connected to database: ('2023_winter',)\n",
      "Creating Table\n",
      "Table is created...\n"
     ]
    }
   ],
   "source": [
    "try:\n",
    "    cnx = mysql.connector.connect(host=host, database=\"2023_winter\", user=user, password=password)\n",
    "    if cnx.is_connected():\n",
    "        cursor = cnx.cursor()\n",
    "        cursor.execute(\"SELECT database();\")\n",
    "        record = cursor.fetchone()\n",
    "        print(f\"You're connected to database: {record}\")\n",
    "        \n",
    "        cursor.execute(\"DROP TABLE IF EXISTS hobby_lobby_chrismtas_deco;\")\n",
    "        print(\"Creating Table\")\n",
    "        \n",
    "        cursor.execute(\"Create TABLE hobby_lobby_chrismtas_deco(name VARCHAR(94), actual_price FLOAT, sale_price FLOAT, discount_prct FLOAT, rating FLOAT, number_of_reviews INT, category VARCHAR(72), subcategory VARCHAR(72), brand VARCHAR(32));\")\n",
    "        print(\"Table is created...\")\n",
    "        \n",
    "        for i, row in at_home_df.iterrows():\n",
    "            sql = \"INSERT INTO hobby_lobby_chrismtas_deco VALUES (%s, %s, %s, %s, %s, %s, %s, %s, %s)\"\n",
    "            cursor.execute(sql, tuple(row))\n",
    "            cnx.commit()\n",
    "except Error as e:\n",
    "    print(\"Error while connecting to MySQL\", e)"
   ]
  },
  {
   "cell_type": "code",
   "execution_count": 18,
   "id": "33e1fa50",
   "metadata": {},
   "outputs": [
    {
     "name": "stdout",
     "output_type": "stream",
     "text": [
      "(\"Premium Rolling Christmas Tree Storage Bag, 7.5'\", 24.99, 24.99, 0.0, 4.2, 96, 'Christmas', 'Christmas Storage', 'At Home')\n",
      "(\"Inflatable Colossal Waving Santa, 20'\", 199.99, 99.99, 50.0, 3.2, 23, 'Christmas Inflatables & Outdoor Decor', 'Oversized Decor', 'At Home')\n",
      "('& Elf Pets® Merry Christmas Table Decor, 6\"', 4.99, 2.49, 50.0, 0.0, 0, 'Christmas', 'The Elf on the Shelf Collection', 'The Elf on the Shelf®')\n",
      "('Christmas Magic Card Holder Table Decor, 11x7', 9.99, 4.99, 50.0, 5.0, 1, 'Christmas', 'The Elf on the Shelf Collection', 'The Elf on the Shelf®')\n",
      "('150-Count Silver Ornament Hooks', 1.99, 0.99, 50.0, 4.1, 39, 'Christmas', 'Christmas Ornaments', 'At Home')\n"
     ]
    }
   ],
   "source": [
    "sql = \"SELECT * FROM 2023_winter.hobby_lobby_chrismtas_deco LIMIT 5;\"\n",
    "cursor.execute(sql)\n",
    "result = cursor.fetchall()\n",
    "for i in result:\n",
    "    print(i)"
   ]
  },
  {
   "cell_type": "code",
   "execution_count": null,
   "id": "b58a33cd",
   "metadata": {},
   "outputs": [],
   "source": []
  }
 ],
 "metadata": {
  "kernelspec": {
   "display_name": "Python 3 (ipykernel)",
   "language": "python",
   "name": "python3"
  },
  "language_info": {
   "codemirror_mode": {
    "name": "ipython",
    "version": 3
   },
   "file_extension": ".py",
   "mimetype": "text/x-python",
   "name": "python",
   "nbconvert_exporter": "python",
   "pygments_lexer": "ipython3",
   "version": "3.10.9"
  }
 },
 "nbformat": 4,
 "nbformat_minor": 5
}
